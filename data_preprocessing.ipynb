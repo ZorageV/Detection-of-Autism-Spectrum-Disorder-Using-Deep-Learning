{
 "cells": [
  {
   "cell_type": "code",
   "execution_count": 1,
   "metadata": {},
   "outputs": [],
   "source": [
    "import pandas as pd"
   ]
  },
  {
   "cell_type": "code",
   "execution_count": 2,
   "metadata": {},
   "outputs": [
    {
     "data": {
      "text/html": [
       "<div>\n",
       "<style scoped>\n",
       "    .dataframe tbody tr th:only-of-type {\n",
       "        vertical-align: middle;\n",
       "    }\n",
       "\n",
       "    .dataframe tbody tr th {\n",
       "        vertical-align: top;\n",
       "    }\n",
       "\n",
       "    .dataframe thead th {\n",
       "        text-align: right;\n",
       "    }\n",
       "</style>\n",
       "<table border=\"1\" class=\"dataframe\">\n",
       "  <thead>\n",
       "    <tr style=\"text-align: right;\">\n",
       "      <th></th>\n",
       "      <th>No</th>\n",
       "      <th>Type</th>\n",
       "      <th>Video</th>\n",
       "      <th>URL</th>\n",
       "      <th>Video Duration (s)</th>\n",
       "      <th>Behaviour Time Instant (mm:ss)</th>\n",
       "    </tr>\n",
       "  </thead>\n",
       "  <tbody>\n",
       "    <tr>\n",
       "      <th>0</th>\n",
       "      <td>1</td>\n",
       "      <td>armflapping</td>\n",
       "      <td>v_ArmFlapping_01</td>\n",
       "      <td>http://www.youtube.com/watch?v=I7fdv1q9-m8</td>\n",
       "      <td>45</td>\n",
       "      <td>00:18 - 00:24</td>\n",
       "    </tr>\n",
       "    <tr>\n",
       "      <th>1</th>\n",
       "      <td>2</td>\n",
       "      <td>armflapping</td>\n",
       "      <td>v_ArmFlapping_02</td>\n",
       "      <td>http://www.youtube.com/watch?v=hKf-IwHM6TI</td>\n",
       "      <td>51</td>\n",
       "      <td>00:10 - 00:20</td>\n",
       "    </tr>\n",
       "    <tr>\n",
       "      <th>2</th>\n",
       "      <td>3</td>\n",
       "      <td>armflapping</td>\n",
       "      <td>v_ArmFlapping_03</td>\n",
       "      <td>http://www.youtube.com/watch?v=Z2kfvB4lv7A</td>\n",
       "      <td>61</td>\n",
       "      <td>00:20 - 00:25</td>\n",
       "    </tr>\n",
       "    <tr>\n",
       "      <th>3</th>\n",
       "      <td>4</td>\n",
       "      <td>armflapping</td>\n",
       "      <td>v_ArmFlapping_04</td>\n",
       "      <td>http://www.youtube.com/watch?v=SOc13pnf-Dc</td>\n",
       "      <td>199</td>\n",
       "      <td>01:00 - 01:10</td>\n",
       "    </tr>\n",
       "    <tr>\n",
       "      <th>4</th>\n",
       "      <td>5</td>\n",
       "      <td>armflapping</td>\n",
       "      <td>v_ArmFlapping_05</td>\n",
       "      <td>http://www.youtube.com/watch?v=8vFUIFEfRpA</td>\n",
       "      <td>215</td>\n",
       "      <td>00:02 - 00:14</td>\n",
       "    </tr>\n",
       "    <tr>\n",
       "      <th>5</th>\n",
       "      <td>6</td>\n",
       "      <td>armflapping</td>\n",
       "      <td>v_ArmFlapping_06</td>\n",
       "      <td>http://www.youtube.com/watch?v=ehlLfMossUY</td>\n",
       "      <td>105</td>\n",
       "      <td>00:27 - 00:30</td>\n",
       "    </tr>\n",
       "    <tr>\n",
       "      <th>6</th>\n",
       "      <td>7</td>\n",
       "      <td>armflapping</td>\n",
       "      <td>v_ArmFlapping_07</td>\n",
       "      <td>http://www.youtube.com/watch?v=T9rbit_oiJA</td>\n",
       "      <td>46</td>\n",
       "      <td>00:04 - 00:10</td>\n",
       "    </tr>\n",
       "    <tr>\n",
       "      <th>7</th>\n",
       "      <td>8</td>\n",
       "      <td>armflapping</td>\n",
       "      <td>v_ArmFlapping_08</td>\n",
       "      <td>http://www.youtube.com/watch?v=5Ps9iE8mPqY</td>\n",
       "      <td>254</td>\n",
       "      <td>00:18 - 00:22</td>\n",
       "    </tr>\n",
       "    <tr>\n",
       "      <th>8</th>\n",
       "      <td>9</td>\n",
       "      <td>armflapping</td>\n",
       "      <td>v_ArmFlapping_09</td>\n",
       "      <td>http://www.youtube.com/watch?v=C_O8vyrSt0Q</td>\n",
       "      <td>168</td>\n",
       "      <td>00:05 - 00:15</td>\n",
       "    </tr>\n",
       "    <tr>\n",
       "      <th>9</th>\n",
       "      <td>10</td>\n",
       "      <td>armflapping</td>\n",
       "      <td>v_ArmFlapping_10</td>\n",
       "      <td>http://www.youtube.com/watch?v=iDuAugAykcc</td>\n",
       "      <td>134</td>\n",
       "      <td>01:08 - 01:25</td>\n",
       "    </tr>\n",
       "    <tr>\n",
       "      <th>10</th>\n",
       "      <td>11</td>\n",
       "      <td>armflapping</td>\n",
       "      <td>v_ArmFlapping_11</td>\n",
       "      <td>http://www.youtube.com/watch?v=WRGUUOZ5_wA</td>\n",
       "      <td>138</td>\n",
       "      <td>01:00 - 01:07</td>\n",
       "    </tr>\n",
       "    <tr>\n",
       "      <th>11</th>\n",
       "      <td>12</td>\n",
       "      <td>armflapping</td>\n",
       "      <td>v_ArmFlapping_12</td>\n",
       "      <td>http://www.youtube.com/watch?v=mnBWOI4LuKw</td>\n",
       "      <td>166</td>\n",
       "      <td>02:11 - 02:35</td>\n",
       "    </tr>\n",
       "    <tr>\n",
       "      <th>12</th>\n",
       "      <td>13</td>\n",
       "      <td>armflapping</td>\n",
       "      <td>v_ArmFlapping_13</td>\n",
       "      <td>http://www.youtube.com/watch?v=3Oh_Lmehb6c</td>\n",
       "      <td>86</td>\n",
       "      <td>00:40 - 00:50</td>\n",
       "    </tr>\n",
       "    <tr>\n",
       "      <th>13</th>\n",
       "      <td>14</td>\n",
       "      <td>armflapping</td>\n",
       "      <td>v_ArmFlapping_14</td>\n",
       "      <td>http://www.youtube.com/watch?v=pz1nIbRWb2M</td>\n",
       "      <td>56</td>\n",
       "      <td>00:03 - 00:07</td>\n",
       "    </tr>\n",
       "    <tr>\n",
       "      <th>14</th>\n",
       "      <td>15</td>\n",
       "      <td>armflapping</td>\n",
       "      <td>v_ArmFlapping_15</td>\n",
       "      <td>http://www.youtube.com/watch?v=nGoMpqcYcOg</td>\n",
       "      <td>38</td>\n",
       "      <td>00:17 - 00:23</td>\n",
       "    </tr>\n",
       "    <tr>\n",
       "      <th>15</th>\n",
       "      <td>16</td>\n",
       "      <td>armflapping</td>\n",
       "      <td>v_ArmFlapping_16</td>\n",
       "      <td>http://www.youtube.com/watch?v=5sgfS0SSh8o</td>\n",
       "      <td>53</td>\n",
       "      <td>00:32 - 00:46</td>\n",
       "    </tr>\n",
       "    <tr>\n",
       "      <th>16</th>\n",
       "      <td>17</td>\n",
       "      <td>armflapping</td>\n",
       "      <td>v_ArmFlapping_17</td>\n",
       "      <td>http://www.youtube.com/watch?v=vtVnrV_jog0</td>\n",
       "      <td>45</td>\n",
       "      <td>00:02 - 00:10</td>\n",
       "    </tr>\n",
       "    <tr>\n",
       "      <th>17</th>\n",
       "      <td>18</td>\n",
       "      <td>armflapping</td>\n",
       "      <td>v_ArmFlapping_18</td>\n",
       "      <td>http://www.youtube.com/watch?v=JM8BHjJTSFM</td>\n",
       "      <td>88</td>\n",
       "      <td>00:03 - 00:08</td>\n",
       "    </tr>\n",
       "    <tr>\n",
       "      <th>18</th>\n",
       "      <td>19</td>\n",
       "      <td>armflapping</td>\n",
       "      <td>v_ArmFlapping_19</td>\n",
       "      <td>http://www.youtube.com/watch?v=1vRklwIBC28</td>\n",
       "      <td>260</td>\n",
       "      <td>02:55 - 03:10</td>\n",
       "    </tr>\n",
       "    <tr>\n",
       "      <th>19</th>\n",
       "      <td>20</td>\n",
       "      <td>armflapping</td>\n",
       "      <td>v_ArmFlapping_20</td>\n",
       "      <td>http://www.youtube.com/watch?v=MOt-6FAEP_g</td>\n",
       "      <td>110</td>\n",
       "      <td>01:34 - 01:38</td>\n",
       "    </tr>\n",
       "    <tr>\n",
       "      <th>20</th>\n",
       "      <td>21</td>\n",
       "      <td>armflapping</td>\n",
       "      <td>v_ArmFlapping_21</td>\n",
       "      <td>http://www.youtube.com/watch?v=AQ-jO6O5gow</td>\n",
       "      <td>22</td>\n",
       "      <td>00:12 - 00:16</td>\n",
       "    </tr>\n",
       "    <tr>\n",
       "      <th>21</th>\n",
       "      <td>22</td>\n",
       "      <td>armflapping</td>\n",
       "      <td>v_ArmFlapping_22</td>\n",
       "      <td>http://www.youtube.com/watch?v=UxpQpWzhOx0</td>\n",
       "      <td>122</td>\n",
       "      <td>00:02 - 00:06</td>\n",
       "    </tr>\n",
       "    <tr>\n",
       "      <th>22</th>\n",
       "      <td>23</td>\n",
       "      <td>armflapping</td>\n",
       "      <td>v_ArmFlapping_23</td>\n",
       "      <td>http://www.youtube.com/watch?v=xeKKMkVgNPU</td>\n",
       "      <td>106</td>\n",
       "      <td>00:49 - 00:57</td>\n",
       "    </tr>\n",
       "    <tr>\n",
       "      <th>23</th>\n",
       "      <td>24</td>\n",
       "      <td>armflapping</td>\n",
       "      <td>v_ArmFlapping_24</td>\n",
       "      <td>http://www.youtube.com/watch?v=AGmXuSY4gx0</td>\n",
       "      <td>41</td>\n",
       "      <td>00:10 - 00:15</td>\n",
       "    </tr>\n",
       "    <tr>\n",
       "      <th>24</th>\n",
       "      <td>25</td>\n",
       "      <td>armflapping</td>\n",
       "      <td>v_ArmFlapping_25</td>\n",
       "      <td>http://www.youtube.com/watch?v=I2rfPPinMHk</td>\n",
       "      <td>23</td>\n",
       "      <td>00:04 - 00:08</td>\n",
       "    </tr>\n",
       "  </tbody>\n",
       "</table>\n",
       "</div>"
      ],
      "text/plain": [
       "    No         Type             Video  \\\n",
       "0    1  armflapping  v_ArmFlapping_01   \n",
       "1    2  armflapping  v_ArmFlapping_02   \n",
       "2    3  armflapping  v_ArmFlapping_03   \n",
       "3    4  armflapping  v_ArmFlapping_04   \n",
       "4    5  armflapping  v_ArmFlapping_05   \n",
       "5    6  armflapping  v_ArmFlapping_06   \n",
       "6    7  armflapping  v_ArmFlapping_07   \n",
       "7    8  armflapping  v_ArmFlapping_08   \n",
       "8    9  armflapping  v_ArmFlapping_09   \n",
       "9   10  armflapping  v_ArmFlapping_10   \n",
       "10  11  armflapping  v_ArmFlapping_11   \n",
       "11  12  armflapping  v_ArmFlapping_12   \n",
       "12  13  armflapping  v_ArmFlapping_13   \n",
       "13  14  armflapping  v_ArmFlapping_14   \n",
       "14  15  armflapping  v_ArmFlapping_15   \n",
       "15  16  armflapping  v_ArmFlapping_16   \n",
       "16  17  armflapping  v_ArmFlapping_17   \n",
       "17  18  armflapping  v_ArmFlapping_18   \n",
       "18  19  armflapping  v_ArmFlapping_19   \n",
       "19  20  armflapping  v_ArmFlapping_20   \n",
       "20  21  armflapping  v_ArmFlapping_21   \n",
       "21  22  armflapping  v_ArmFlapping_22   \n",
       "22  23  armflapping  v_ArmFlapping_23   \n",
       "23  24  armflapping  v_ArmFlapping_24   \n",
       "24  25  armflapping  v_ArmFlapping_25   \n",
       "\n",
       "                                           URL  Video Duration (s)  \\\n",
       "0   http://www.youtube.com/watch?v=I7fdv1q9-m8                  45   \n",
       "1   http://www.youtube.com/watch?v=hKf-IwHM6TI                  51   \n",
       "2   http://www.youtube.com/watch?v=Z2kfvB4lv7A                  61   \n",
       "3   http://www.youtube.com/watch?v=SOc13pnf-Dc                 199   \n",
       "4   http://www.youtube.com/watch?v=8vFUIFEfRpA                 215   \n",
       "5   http://www.youtube.com/watch?v=ehlLfMossUY                 105   \n",
       "6   http://www.youtube.com/watch?v=T9rbit_oiJA                  46   \n",
       "7   http://www.youtube.com/watch?v=5Ps9iE8mPqY                 254   \n",
       "8   http://www.youtube.com/watch?v=C_O8vyrSt0Q                 168   \n",
       "9   http://www.youtube.com/watch?v=iDuAugAykcc                 134   \n",
       "10  http://www.youtube.com/watch?v=WRGUUOZ5_wA                 138   \n",
       "11  http://www.youtube.com/watch?v=mnBWOI4LuKw                 166   \n",
       "12  http://www.youtube.com/watch?v=3Oh_Lmehb6c                  86   \n",
       "13  http://www.youtube.com/watch?v=pz1nIbRWb2M                  56   \n",
       "14  http://www.youtube.com/watch?v=nGoMpqcYcOg                  38   \n",
       "15  http://www.youtube.com/watch?v=5sgfS0SSh8o                  53   \n",
       "16  http://www.youtube.com/watch?v=vtVnrV_jog0                  45   \n",
       "17  http://www.youtube.com/watch?v=JM8BHjJTSFM                  88   \n",
       "18  http://www.youtube.com/watch?v=1vRklwIBC28                 260   \n",
       "19  http://www.youtube.com/watch?v=MOt-6FAEP_g                 110   \n",
       "20  http://www.youtube.com/watch?v=AQ-jO6O5gow                  22   \n",
       "21  http://www.youtube.com/watch?v=UxpQpWzhOx0                 122   \n",
       "22  http://www.youtube.com/watch?v=xeKKMkVgNPU                 106   \n",
       "23  http://www.youtube.com/watch?v=AGmXuSY4gx0                  41   \n",
       "24  http://www.youtube.com/watch?v=I2rfPPinMHk                  23   \n",
       "\n",
       "   Behaviour Time Instant (mm:ss)  \n",
       "0                   00:18 - 00:24  \n",
       "1                   00:10 - 00:20  \n",
       "2                   00:20 - 00:25  \n",
       "3                   01:00 - 01:10  \n",
       "4                   00:02 - 00:14  \n",
       "5                   00:27 - 00:30  \n",
       "6                   00:04 - 00:10  \n",
       "7                   00:18 - 00:22  \n",
       "8                   00:05 - 00:15  \n",
       "9                   01:08 - 01:25  \n",
       "10                  01:00 - 01:07  \n",
       "11                  02:11 - 02:35  \n",
       "12                  00:40 - 00:50  \n",
       "13                  00:03 - 00:07  \n",
       "14                  00:17 - 00:23  \n",
       "15                  00:32 - 00:46  \n",
       "16                  00:02 - 00:10  \n",
       "17                  00:03 - 00:08  \n",
       "18                  02:55 - 03:10  \n",
       "19                  01:34 - 01:38  \n",
       "20                  00:12 - 00:16  \n",
       "21                  00:02 - 00:06  \n",
       "22                  00:49 - 00:57  \n",
       "23                  00:10 - 00:15  \n",
       "24                  00:04 - 00:08  "
      ]
     },
     "execution_count": 2,
     "metadata": {},
     "output_type": "execute_result"
    }
   ],
   "source": [
    "skip_vids = [6,7,11,17,23]\n",
    "df = pd.read_csv(\"dataset.csv\")\n",
    "df"
   ]
  },
  {
   "cell_type": "code",
   "execution_count": 4,
   "metadata": {},
   "outputs": [
    {
     "name": "stdout",
     "output_type": "stream",
     "text": [
      "MoviePy - Running:\n",
      ">>> c:\\Users\\manje\\.pyenv\\pyenv-win\\versions\\3.12.5\\Lib\\site-packages\\imageio_ffmpeg\\binaries\\ffmpeg-win64-v4.2.2.exe -y -ss 1.00 -i 1.mp4 -t 3.00 -map 0 -vcodec copy -acodec copy -copyts ./Extracted_Behaviours/cut.mp4\n",
      "MoviePy - Command successful\n",
      "Clip successfully extracted to ./Extracted_Behaviours/cut.mp4\n"
     ]
    }
   ],
   "source": [
    "from moviepy.video.io.ffmpeg_tools import ffmpeg_extract_subclip\n",
    "\n",
    "# Input video file\n",
    "input_video = \"1.mp4\"\n",
    "\n",
    "# Start and end times in seconds\n",
    "start_seconds = 1  # 1:00\n",
    "end_seconds = 4  # 5:00\n",
    "\n",
    "# Output video file\n",
    "output_video = \"./Extracted_Behaviours/cut.mp4\"\n",
    "\n",
    "# Extract the clip\n",
    "try:\n",
    "    ffmpeg_extract_subclip(\n",
    "        input_video, start_seconds, end_seconds, output_video\n",
    "    )\n",
    "    print(f\"Clip successfully extracted to {output_video}\")\n",
    "except Exception as e:\n",
    "    print(f\"Error extracting clip: {e}\")"
   ]
  },
  {
   "cell_type": "code",
   "execution_count": 12,
   "metadata": {},
   "outputs": [
    {
     "name": "stderr",
     "output_type": "stream",
     "text": [
      "chunk:   1%|▏         | 1/67 [12:38<13:54:00, 758.19s/it, now=None]"
     ]
    },
    {
     "name": "stdout",
     "output_type": "stream",
     "text": [
      "MoviePy - Building video Non_Behaviour_clips\\clip_1_1.mp4.\n",
      "MoviePy - Writing audio in clip_1_1TEMP_MPY_wvf_snd.mp3\n"
     ]
    },
    {
     "name": "stderr",
     "output_type": "stream",
     "text": [
      "chunk:   1%|▏         | 1/67 [12:38<13:54:12, 758.36s/it, now=None]"
     ]
    },
    {
     "name": "stdout",
     "output_type": "stream",
     "text": [
      "MoviePy - Done.\n",
      "MoviePy - Writing video Non_Behaviour_clips\\clip_1_1.mp4\n",
      "\n"
     ]
    },
    {
     "name": "stderr",
     "output_type": "stream",
     "text": [
      "chunk:   1%|▏         | 1/67 [12:38<13:54:43, 758.84s/it, now=None]"
     ]
    },
    {
     "name": "stdout",
     "output_type": "stream",
     "text": [
      "MoviePy - Done !\n",
      "MoviePy - video ready Non_Behaviour_clips\\clip_1_1.mp4\n",
      "MoviePy - Building video Non_Behaviour_clips\\clip_1_2.mp4.\n",
      "MoviePy - Writing audio in clip_1_2TEMP_MPY_wvf_snd.mp3\n"
     ]
    },
    {
     "name": "stderr",
     "output_type": "stream",
     "text": [
      "chunk:   1%|▏         | 1/67 [12:39<13:54:54, 759.01s/it, now=None]"
     ]
    },
    {
     "name": "stdout",
     "output_type": "stream",
     "text": [
      "MoviePy - Done.\n",
      "MoviePy - Writing video Non_Behaviour_clips\\clip_1_2.mp4\n",
      "\n"
     ]
    },
    {
     "name": "stderr",
     "output_type": "stream",
     "text": [
      "chunk:   1%|▏         | 1/67 [12:39<13:55:25, 759.48s/it, now=None]"
     ]
    },
    {
     "name": "stdout",
     "output_type": "stream",
     "text": [
      "MoviePy - Done !\n",
      "MoviePy - video ready Non_Behaviour_clips\\clip_1_2.mp4\n",
      "MoviePy - Building video Non_Behaviour_clips\\clip_1_3.mp4.\n",
      "MoviePy - Writing audio in clip_1_3TEMP_MPY_wvf_snd.mp3\n"
     ]
    },
    {
     "name": "stderr",
     "output_type": "stream",
     "text": [
      "chunk:   1%|▏         | 1/67 [12:39<13:55:37, 759.66s/it, now=None]"
     ]
    },
    {
     "name": "stdout",
     "output_type": "stream",
     "text": [
      "MoviePy - Done.\n"
     ]
    },
    {
     "name": "stderr",
     "output_type": "stream",
     "text": [
      "chunk:   1%|▏         | 1/67 [12:39<13:55:37, 759.66s/it, now=None]"
     ]
    },
    {
     "name": "stdout",
     "output_type": "stream",
     "text": [
      "MoviePy - Writing video Non_Behaviour_clips\\clip_1_3.mp4\n",
      "\n"
     ]
    },
    {
     "name": "stderr",
     "output_type": "stream",
     "text": [
      "chunk:   1%|▏         | 1/67 [12:40<13:56:06, 760.10s/it, now=None]"
     ]
    },
    {
     "name": "stdout",
     "output_type": "stream",
     "text": [
      "MoviePy - Done !\n",
      "MoviePy - video ready Non_Behaviour_clips\\clip_1_3.mp4\n",
      "MoviePy - Building video Non_Behaviour_clips\\clip_1_4.mp4.\n",
      "MoviePy - Writing audio in clip_1_4TEMP_MPY_wvf_snd.mp3\n"
     ]
    },
    {
     "name": "stderr",
     "output_type": "stream",
     "text": [
      "chunk:   1%|▏         | 1/67 [12:40<13:56:18, 760.27s/it, now=None]"
     ]
    },
    {
     "name": "stdout",
     "output_type": "stream",
     "text": [
      "MoviePy - Done.\n",
      "MoviePy - Writing video Non_Behaviour_clips\\clip_1_4.mp4\n",
      "\n"
     ]
    },
    {
     "name": "stderr",
     "output_type": "stream",
     "text": [
      "chunk:   1%|▏         | 1/67 [12:40<13:56:46, 760.71s/it, now=None]"
     ]
    },
    {
     "name": "stdout",
     "output_type": "stream",
     "text": [
      "MoviePy - Done !\n",
      "MoviePy - video ready Non_Behaviour_clips\\clip_1_4.mp4\n",
      "MoviePy - Building video Non_Behaviour_clips\\clip_1_5.mp4.\n",
      "MoviePy - Writing audio in clip_1_5TEMP_MPY_wvf_snd.mp3\n"
     ]
    },
    {
     "name": "stderr",
     "output_type": "stream",
     "text": [
      "chunk:   1%|▏         | 1/67 [12:40<13:56:58, 760.89s/it, now=None]"
     ]
    },
    {
     "name": "stdout",
     "output_type": "stream",
     "text": [
      "MoviePy - Done.\n",
      "MoviePy - Writing video Non_Behaviour_clips\\clip_1_5.mp4\n",
      "\n"
     ]
    },
    {
     "name": "stderr",
     "output_type": "stream",
     "text": [
      "chunk:   1%|▏         | 1/67 [12:41<13:57:28, 761.34s/it, now=None]"
     ]
    },
    {
     "name": "stdout",
     "output_type": "stream",
     "text": [
      "MoviePy - Done !\n",
      "MoviePy - video ready Non_Behaviour_clips\\clip_1_5.mp4\n",
      "MoviePy - Building video Non_Behaviour_clips\\clip_1_6.mp4.\n",
      "MoviePy - Writing audio in clip_1_6TEMP_MPY_wvf_snd.mp3\n"
     ]
    },
    {
     "name": "stderr",
     "output_type": "stream",
     "text": [
      "chunk:   1%|▏         | 1/67 [12:41<13:57:40, 761.52s/it, now=None]"
     ]
    },
    {
     "name": "stdout",
     "output_type": "stream",
     "text": [
      "MoviePy - Done.\n",
      "MoviePy - Writing video Non_Behaviour_clips\\clip_1_6.mp4\n",
      "\n"
     ]
    },
    {
     "name": "stderr",
     "output_type": "stream",
     "text": [
      "chunk:   1%|▏         | 1/67 [12:41<13:58:11, 761.98s/it, now=None]"
     ]
    },
    {
     "name": "stdout",
     "output_type": "stream",
     "text": [
      "MoviePy - Done !\n",
      "MoviePy - video ready Non_Behaviour_clips\\clip_1_6.mp4\n"
     ]
    },
    {
     "name": "stderr",
     "output_type": "stream",
     "text": [
      "chunk:   1%|▏         | 1/67 [12:42<13:58:41, 762.45s/it, now=None]"
     ]
    },
    {
     "name": "stdout",
     "output_type": "stream",
     "text": [
      "MoviePy - Building video Non_Behaviour_clips\\clip_2_1.mp4.\n",
      "MoviePy - Writing audio in clip_2_1TEMP_MPY_wvf_snd.mp3\n"
     ]
    },
    {
     "name": "stderr",
     "output_type": "stream",
     "text": [
      "chunk:   1%|▏         | 1/67 [12:42<13:58:53, 762.62s/it, now=None]"
     ]
    },
    {
     "name": "stdout",
     "output_type": "stream",
     "text": [
      "MoviePy - Done.\n",
      "MoviePy - Writing video Non_Behaviour_clips\\clip_2_1.mp4\n",
      "\n"
     ]
    },
    {
     "name": "stderr",
     "output_type": "stream",
     "text": [
      "chunk:   1%|▏         | 1/67 [12:42<13:59:16, 762.97s/it, now=None]"
     ]
    },
    {
     "name": "stdout",
     "output_type": "stream",
     "text": [
      "MoviePy - Done !\n",
      "MoviePy - video ready Non_Behaviour_clips\\clip_2_1.mp4\n",
      "MoviePy - Building video Non_Behaviour_clips\\clip_2_2.mp4.\n",
      "MoviePy - Writing audio in clip_2_2TEMP_MPY_wvf_snd.mp3\n"
     ]
    },
    {
     "name": "stderr",
     "output_type": "stream",
     "text": [
      "chunk:   1%|▏         | 1/67 [12:43<13:59:27, 763.15s/it, now=None]"
     ]
    },
    {
     "name": "stdout",
     "output_type": "stream",
     "text": [
      "MoviePy - Done.\n",
      "MoviePy - Writing video Non_Behaviour_clips\\clip_2_2.mp4\n",
      "\n"
     ]
    },
    {
     "name": "stderr",
     "output_type": "stream",
     "text": [
      "chunk:   1%|▏         | 1/67 [12:43<13:59:49, 763.48s/it, now=None]"
     ]
    },
    {
     "name": "stdout",
     "output_type": "stream",
     "text": [
      "MoviePy - Done !\n",
      "MoviePy - video ready Non_Behaviour_clips\\clip_2_2.mp4\n",
      "MoviePy - Building video Non_Behaviour_clips\\clip_2_3.mp4.\n",
      "MoviePy - Writing audio in clip_2_3TEMP_MPY_wvf_snd.mp3\n"
     ]
    },
    {
     "name": "stderr",
     "output_type": "stream",
     "text": [
      "chunk:   1%|▏         | 1/67 [12:43<14:00:01, 763.66s/it, now=None]"
     ]
    },
    {
     "name": "stdout",
     "output_type": "stream",
     "text": [
      "MoviePy - Done.\n",
      "MoviePy - Writing video Non_Behaviour_clips\\clip_2_3.mp4\n",
      "\n"
     ]
    },
    {
     "name": "stderr",
     "output_type": "stream",
     "text": [
      "chunk:   1%|▏         | 1/67 [12:43<14:00:22, 763.97s/it, now=None]"
     ]
    },
    {
     "name": "stdout",
     "output_type": "stream",
     "text": [
      "MoviePy - Done !\n",
      "MoviePy - video ready Non_Behaviour_clips\\clip_2_3.mp4\n",
      "MoviePy - Building video Non_Behaviour_clips\\clip_2_4.mp4.\n",
      "MoviePy - Writing audio in clip_2_4TEMP_MPY_wvf_snd.mp3\n"
     ]
    },
    {
     "name": "stderr",
     "output_type": "stream",
     "text": [
      "chunk:   1%|▏         | 1/67 [12:44<14:00:31, 764.11s/it, now=None]"
     ]
    },
    {
     "name": "stdout",
     "output_type": "stream",
     "text": [
      "MoviePy - Done.\n",
      "MoviePy - Writing video Non_Behaviour_clips\\clip_2_4.mp4\n",
      "\n"
     ]
    },
    {
     "name": "stderr",
     "output_type": "stream",
     "text": [
      "chunk:   1%|▏         | 1/67 [12:44<14:00:45, 764.33s/it, now=None]"
     ]
    },
    {
     "name": "stdout",
     "output_type": "stream",
     "text": [
      "MoviePy - Done !\n",
      "MoviePy - video ready Non_Behaviour_clips\\clip_2_4.mp4\n"
     ]
    },
    {
     "name": "stderr",
     "output_type": "stream",
     "text": [
      "chunk:   1%|▏         | 1/67 [12:44<14:01:17, 764.80s/it, now=None]"
     ]
    },
    {
     "name": "stdout",
     "output_type": "stream",
     "text": [
      "MoviePy - Building video Non_Behaviour_clips\\clip_3_1.mp4.\n",
      "MoviePy - Writing audio in clip_3_1TEMP_MPY_wvf_snd.mp3\n"
     ]
    },
    {
     "name": "stderr",
     "output_type": "stream",
     "text": [
      "chunk:   1%|▏         | 1/67 [12:44<14:01:28, 764.98s/it, now=None]"
     ]
    },
    {
     "name": "stdout",
     "output_type": "stream",
     "text": [
      "MoviePy - Done.\n"
     ]
    },
    {
     "name": "stderr",
     "output_type": "stream",
     "text": [
      "chunk:   1%|▏         | 1/67 [12:44<14:01:28, 764.98s/it, now=None]"
     ]
    },
    {
     "name": "stdout",
     "output_type": "stream",
     "text": [
      "MoviePy - Writing video Non_Behaviour_clips\\clip_3_1.mp4\n",
      "\n"
     ]
    },
    {
     "name": "stderr",
     "output_type": "stream",
     "text": [
      "chunk:   1%|▏         | 1/67 [12:45<14:01:54, 765.36s/it, now=None]"
     ]
    },
    {
     "name": "stdout",
     "output_type": "stream",
     "text": [
      "MoviePy - Done !\n",
      "MoviePy - video ready Non_Behaviour_clips\\clip_3_1.mp4\n",
      "MoviePy - Building video Non_Behaviour_clips\\clip_3_2.mp4.\n",
      "MoviePy - Writing audio in clip_3_2TEMP_MPY_wvf_snd.mp3\n"
     ]
    },
    {
     "name": "stderr",
     "output_type": "stream",
     "text": [
      "chunk:   1%|▏         | 1/67 [12:45<14:02:06, 765.55s/it, now=None]"
     ]
    },
    {
     "name": "stdout",
     "output_type": "stream",
     "text": [
      "MoviePy - Done.\n",
      "MoviePy - Writing video Non_Behaviour_clips\\clip_3_2.mp4\n",
      "\n"
     ]
    },
    {
     "name": "stderr",
     "output_type": "stream",
     "text": [
      "chunk:   1%|▏         | 1/67 [12:45<14:02:30, 765.91s/it, now=None]"
     ]
    },
    {
     "name": "stdout",
     "output_type": "stream",
     "text": [
      "MoviePy - Done !\n",
      "MoviePy - video ready Non_Behaviour_clips\\clip_3_2.mp4\n",
      "MoviePy - Building video Non_Behaviour_clips\\clip_3_3.mp4.\n",
      "MoviePy - Writing audio in clip_3_3TEMP_MPY_wvf_snd.mp3\n"
     ]
    },
    {
     "name": "stderr",
     "output_type": "stream",
     "text": [
      "chunk:   1%|▏         | 1/67 [12:46<14:02:42, 766.09s/it, now=None]"
     ]
    },
    {
     "name": "stdout",
     "output_type": "stream",
     "text": [
      "MoviePy - Done.\n",
      "MoviePy - Writing video Non_Behaviour_clips\\clip_3_3.mp4\n",
      "\n"
     ]
    },
    {
     "name": "stderr",
     "output_type": "stream",
     "text": [
      "chunk:   1%|▏         | 1/67 [12:46<14:03:06, 766.46s/it, now=None]"
     ]
    },
    {
     "name": "stdout",
     "output_type": "stream",
     "text": [
      "MoviePy - Done !\n",
      "MoviePy - video ready Non_Behaviour_clips\\clip_3_3.mp4\n",
      "MoviePy - Building video Non_Behaviour_clips\\clip_3_4.mp4.\n",
      "MoviePy - Writing audio in clip_3_4TEMP_MPY_wvf_snd.mp3\n"
     ]
    },
    {
     "name": "stderr",
     "output_type": "stream",
     "text": [
      "chunk:   1%|▏         | 1/67 [12:46<14:03:18, 766.64s/it, now=None]"
     ]
    },
    {
     "name": "stdout",
     "output_type": "stream",
     "text": [
      "MoviePy - Done.\n",
      "MoviePy - Writing video Non_Behaviour_clips\\clip_3_4.mp4\n",
      "\n"
     ]
    },
    {
     "name": "stderr",
     "output_type": "stream",
     "text": [
      "chunk:   1%|▏         | 1/67 [12:46<14:03:41, 767.00s/it, now=None]"
     ]
    },
    {
     "name": "stdout",
     "output_type": "stream",
     "text": [
      "MoviePy - Done !\n",
      "MoviePy - video ready Non_Behaviour_clips\\clip_3_4.mp4\n",
      "MoviePy - Building video Non_Behaviour_clips\\clip_3_5.mp4.\n",
      "MoviePy - Writing audio in clip_3_5TEMP_MPY_wvf_snd.mp3\n"
     ]
    },
    {
     "name": "stderr",
     "output_type": "stream",
     "text": [
      "chunk:   1%|▏         | 1/67 [12:47<14:03:53, 767.18s/it, now=None]"
     ]
    },
    {
     "name": "stdout",
     "output_type": "stream",
     "text": [
      "MoviePy - Done.\n",
      "MoviePy - Writing video Non_Behaviour_clips\\clip_3_5.mp4\n",
      "\n"
     ]
    },
    {
     "name": "stderr",
     "output_type": "stream",
     "text": [
      "chunk:   1%|▏         | 1/67 [12:47<14:04:22, 767.61s/it, now=None]"
     ]
    },
    {
     "name": "stdout",
     "output_type": "stream",
     "text": [
      "MoviePy - Done !\n",
      "MoviePy - video ready Non_Behaviour_clips\\clip_3_5.mp4\n",
      "MoviePy - Building video Non_Behaviour_clips\\clip_3_6.mp4.\n",
      "MoviePy - Writing audio in clip_3_6TEMP_MPY_wvf_snd.mp3\n"
     ]
    },
    {
     "name": "stderr",
     "output_type": "stream",
     "text": [
      "chunk:   1%|▏         | 1/67 [12:47<14:04:34, 767.80s/it, now=None]"
     ]
    },
    {
     "name": "stdout",
     "output_type": "stream",
     "text": [
      "MoviePy - Done.\n",
      "MoviePy - Writing video Non_Behaviour_clips\\clip_3_6.mp4\n",
      "\n"
     ]
    },
    {
     "name": "stderr",
     "output_type": "stream",
     "text": [
      "chunk:   1%|▏         | 1/67 [12:48<14:04:59, 768.17s/it, now=None]"
     ]
    },
    {
     "name": "stdout",
     "output_type": "stream",
     "text": [
      "MoviePy - Done !\n",
      "MoviePy - video ready Non_Behaviour_clips\\clip_3_6.mp4\n",
      "MoviePy - Building video Non_Behaviour_clips\\clip_3_7.mp4.\n",
      "MoviePy - Writing audio in clip_3_7TEMP_MPY_wvf_snd.mp3\n"
     ]
    },
    {
     "name": "stderr",
     "output_type": "stream",
     "text": [
      "chunk:   1%|▏         | 1/67 [12:48<14:05:10, 768.34s/it, now=None]"
     ]
    },
    {
     "name": "stdout",
     "output_type": "stream",
     "text": [
      "MoviePy - Done.\n",
      "MoviePy - Writing video Non_Behaviour_clips\\clip_3_7.mp4\n",
      "\n"
     ]
    },
    {
     "name": "stderr",
     "output_type": "stream",
     "text": [
      "chunk:   1%|▏         | 1/67 [12:48<14:05:27, 768.60s/it, now=None]"
     ]
    },
    {
     "name": "stdout",
     "output_type": "stream",
     "text": [
      "MoviePy - Done !\n",
      "MoviePy - video ready Non_Behaviour_clips\\clip_3_7.mp4\n"
     ]
    },
    {
     "name": "stderr",
     "output_type": "stream",
     "text": [
      "chunk:   1%|▏         | 1/67 [12:49<14:06:00, 769.10s/it, now=None]"
     ]
    },
    {
     "name": "stdout",
     "output_type": "stream",
     "text": [
      "MoviePy - Building video Non_Behaviour_clips\\clip_4_1.mp4.\n",
      "MoviePy - Writing audio in clip_4_1TEMP_MPY_wvf_snd.mp3\n"
     ]
    },
    {
     "name": "stderr",
     "output_type": "stream",
     "text": [
      "chunk:   1%|▏         | 1/67 [12:49<14:06:13, 769.30s/it, now=None]"
     ]
    },
    {
     "name": "stdout",
     "output_type": "stream",
     "text": [
      "MoviePy - Done.\n",
      "MoviePy - Writing video Non_Behaviour_clips\\clip_4_1.mp4\n",
      "\n"
     ]
    },
    {
     "name": "stderr",
     "output_type": "stream",
     "text": [
      "chunk:   1%|▏         | 1/67 [12:49<14:06:58, 769.98s/it, now=None]"
     ]
    },
    {
     "name": "stdout",
     "output_type": "stream",
     "text": [
      "MoviePy - Done !\n",
      "MoviePy - video ready Non_Behaviour_clips\\clip_4_1.mp4\n",
      "MoviePy - Building video Non_Behaviour_clips\\clip_4_2.mp4.\n",
      "MoviePy - Writing audio in clip_4_2TEMP_MPY_wvf_snd.mp3\n"
     ]
    },
    {
     "name": "stderr",
     "output_type": "stream",
     "text": [
      "chunk:   1%|▏         | 1/67 [12:50<14:07:11, 770.18s/it, now=None]"
     ]
    },
    {
     "name": "stdout",
     "output_type": "stream",
     "text": [
      "MoviePy - Done.\n",
      "MoviePy - Writing video Non_Behaviour_clips\\clip_4_2.mp4\n",
      "\n"
     ]
    },
    {
     "name": "stderr",
     "output_type": "stream",
     "text": [
      "chunk:   1%|▏         | 1/67 [12:50<14:07:51, 770.78s/it, now=None]"
     ]
    },
    {
     "name": "stdout",
     "output_type": "stream",
     "text": [
      "MoviePy - Done !\n",
      "MoviePy - video ready Non_Behaviour_clips\\clip_4_2.mp4\n",
      "MoviePy - Building video Non_Behaviour_clips\\clip_4_3.mp4.\n",
      "MoviePy - Writing audio in clip_4_3TEMP_MPY_wvf_snd.mp3\n"
     ]
    },
    {
     "name": "stderr",
     "output_type": "stream",
     "text": [
      "chunk:   1%|▏         | 1/67 [12:50<14:08:04, 770.98s/it, now=None]"
     ]
    },
    {
     "name": "stdout",
     "output_type": "stream",
     "text": [
      "MoviePy - Done.\n",
      "MoviePy - Writing video Non_Behaviour_clips\\clip_4_3.mp4\n",
      "\n"
     ]
    },
    {
     "name": "stderr",
     "output_type": "stream",
     "text": [
      "chunk:   1%|▏         | 1/67 [12:51<14:08:46, 771.61s/it, now=None]"
     ]
    },
    {
     "name": "stdout",
     "output_type": "stream",
     "text": [
      "MoviePy - Done !\n",
      "MoviePy - video ready Non_Behaviour_clips\\clip_4_3.mp4\n",
      "MoviePy - Building video Non_Behaviour_clips\\clip_4_4.mp4.\n",
      "MoviePy - Writing audio in clip_4_4TEMP_MPY_wvf_snd.mp3\n"
     ]
    },
    {
     "name": "stderr",
     "output_type": "stream",
     "text": [
      "chunk:   1%|▏         | 1/67 [12:51<14:09:00, 771.82s/it, now=None]"
     ]
    },
    {
     "name": "stdout",
     "output_type": "stream",
     "text": [
      "MoviePy - Done.\n",
      "MoviePy - Writing video Non_Behaviour_clips\\clip_4_4.mp4\n",
      "\n"
     ]
    },
    {
     "name": "stderr",
     "output_type": "stream",
     "text": [
      "chunk:   1%|▏         | 1/67 [12:52<14:09:42, 772.46s/it, now=None]"
     ]
    },
    {
     "name": "stdout",
     "output_type": "stream",
     "text": [
      "MoviePy - Done !\n",
      "MoviePy - video ready Non_Behaviour_clips\\clip_4_4.mp4\n",
      "MoviePy - Building video Non_Behaviour_clips\\clip_4_5.mp4.\n",
      "MoviePy - Writing audio in clip_4_5TEMP_MPY_wvf_snd.mp3\n"
     ]
    },
    {
     "name": "stderr",
     "output_type": "stream",
     "text": [
      "chunk:   1%|▏         | 1/67 [12:52<14:09:56, 772.67s/it, now=None]"
     ]
    },
    {
     "name": "stdout",
     "output_type": "stream",
     "text": [
      "MoviePy - Done.\n",
      "MoviePy - Writing video Non_Behaviour_clips\\clip_4_5.mp4\n",
      "\n"
     ]
    },
    {
     "name": "stderr",
     "output_type": "stream",
     "text": [
      "chunk:   1%|▏         | 1/67 [12:53<14:10:34, 773.25s/it, now=None]"
     ]
    },
    {
     "name": "stdout",
     "output_type": "stream",
     "text": [
      "MoviePy - Done !\n",
      "MoviePy - video ready Non_Behaviour_clips\\clip_4_5.mp4\n",
      "MoviePy - Building video Non_Behaviour_clips\\clip_4_6.mp4.\n",
      "MoviePy - Writing audio in clip_4_6TEMP_MPY_wvf_snd.mp3\n"
     ]
    },
    {
     "name": "stderr",
     "output_type": "stream",
     "text": [
      "chunk:   1%|▏         | 1/67 [12:53<14:10:48, 773.46s/it, now=None]"
     ]
    },
    {
     "name": "stdout",
     "output_type": "stream",
     "text": [
      "MoviePy - Done.\n",
      "MoviePy - Writing video Non_Behaviour_clips\\clip_4_6.mp4\n",
      "\n"
     ]
    },
    {
     "name": "stderr",
     "output_type": "stream",
     "text": [
      "chunk:   1%|▏         | 1/67 [12:54<14:11:29, 774.09s/it, now=None]"
     ]
    },
    {
     "name": "stdout",
     "output_type": "stream",
     "text": [
      "MoviePy - Done !\n",
      "MoviePy - video ready Non_Behaviour_clips\\clip_4_6.mp4\n",
      "MoviePy - Building video Non_Behaviour_clips\\clip_4_7.mp4.\n",
      "MoviePy - Writing audio in clip_4_7TEMP_MPY_wvf_snd.mp3\n"
     ]
    },
    {
     "name": "stderr",
     "output_type": "stream",
     "text": [
      "chunk:   1%|▏         | 1/67 [12:54<14:11:44, 774.31s/it, now=None]"
     ]
    },
    {
     "name": "stdout",
     "output_type": "stream",
     "text": [
      "MoviePy - Done.\n",
      "MoviePy - Writing video Non_Behaviour_clips\\clip_4_7.mp4\n",
      "\n"
     ]
    },
    {
     "name": "stderr",
     "output_type": "stream",
     "text": [
      "chunk:   1%|▏         | 1/67 [12:54<14:12:22, 774.89s/it, now=None]"
     ]
    },
    {
     "name": "stdout",
     "output_type": "stream",
     "text": [
      "MoviePy - Done !\n",
      "MoviePy - video ready Non_Behaviour_clips\\clip_4_7.mp4\n",
      "MoviePy - Building video Non_Behaviour_clips\\clip_4_8.mp4.\n",
      "MoviePy - Writing audio in clip_4_8TEMP_MPY_wvf_snd.mp3\n"
     ]
    },
    {
     "name": "stderr",
     "output_type": "stream",
     "text": [
      "chunk:   1%|▏         | 1/67 [12:55<14:12:36, 775.10s/it, now=None]"
     ]
    },
    {
     "name": "stdout",
     "output_type": "stream",
     "text": [
      "MoviePy - Done.\n",
      "MoviePy - Writing video Non_Behaviour_clips\\clip_4_8.mp4\n",
      "\n"
     ]
    },
    {
     "name": "stderr",
     "output_type": "stream",
     "text": [
      "chunk:   1%|▏         | 1/67 [12:55<14:13:17, 775.72s/it, now=None]"
     ]
    },
    {
     "name": "stdout",
     "output_type": "stream",
     "text": [
      "MoviePy - Done !\n",
      "MoviePy - video ready Non_Behaviour_clips\\clip_4_8.mp4\n",
      "MoviePy - Building video Non_Behaviour_clips\\clip_4_9.mp4.\n",
      "MoviePy - Writing audio in clip_4_9TEMP_MPY_wvf_snd.mp3\n"
     ]
    },
    {
     "name": "stderr",
     "output_type": "stream",
     "text": [
      "chunk:   1%|▏         | 1/67 [12:55<14:13:31, 775.93s/it, now=None]"
     ]
    },
    {
     "name": "stdout",
     "output_type": "stream",
     "text": [
      "MoviePy - Done.\n",
      "MoviePy - Writing video Non_Behaviour_clips\\clip_4_9.mp4\n",
      "\n"
     ]
    },
    {
     "name": "stderr",
     "output_type": "stream",
     "text": [
      "chunk:   1%|▏         | 1/67 [12:56<14:14:12, 776.55s/it, now=None]"
     ]
    },
    {
     "name": "stdout",
     "output_type": "stream",
     "text": [
      "MoviePy - Done !\n",
      "MoviePy - video ready Non_Behaviour_clips\\clip_4_9.mp4\n",
      "MoviePy - Building video Non_Behaviour_clips\\clip_4_10.mp4.\n",
      "MoviePy - Writing audio in clip_4_10TEMP_MPY_wvf_snd.mp3\n"
     ]
    },
    {
     "name": "stderr",
     "output_type": "stream",
     "text": [
      "chunk:   1%|▏         | 1/67 [12:56<14:14:27, 776.77s/it, now=None]"
     ]
    },
    {
     "name": "stdout",
     "output_type": "stream",
     "text": [
      "MoviePy - Done.\n",
      "MoviePy - Writing video Non_Behaviour_clips\\clip_4_10.mp4\n",
      "\n"
     ]
    },
    {
     "name": "stderr",
     "output_type": "stream",
     "text": [
      "chunk:   1%|▏         | 1/67 [12:57<14:15:04, 777.34s/it, now=None]"
     ]
    },
    {
     "name": "stdout",
     "output_type": "stream",
     "text": [
      "MoviePy - Done !\n",
      "MoviePy - video ready Non_Behaviour_clips\\clip_4_10.mp4\n",
      "MoviePy - Building video Non_Behaviour_clips\\clip_4_11.mp4.\n",
      "MoviePy - Writing audio in clip_4_11TEMP_MPY_wvf_snd.mp3\n"
     ]
    },
    {
     "name": "stderr",
     "output_type": "stream",
     "text": [
      "chunk:   1%|▏         | 1/67 [12:57<14:15:17, 777.55s/it, now=None]"
     ]
    },
    {
     "name": "stdout",
     "output_type": "stream",
     "text": [
      "MoviePy - Done.\n",
      "MoviePy - Writing video Non_Behaviour_clips\\clip_4_11.mp4\n",
      "\n"
     ]
    },
    {
     "name": "stderr",
     "output_type": "stream",
     "text": [
      "chunk:   1%|▏         | 1/67 [12:58<14:15:56, 778.13s/it, now=None]"
     ]
    },
    {
     "name": "stdout",
     "output_type": "stream",
     "text": [
      "MoviePy - Done !\n",
      "MoviePy - video ready Non_Behaviour_clips\\clip_4_11.mp4\n",
      "MoviePy - Building video Non_Behaviour_clips\\clip_4_12.mp4.\n",
      "MoviePy - Writing audio in clip_4_12TEMP_MPY_wvf_snd.mp3\n"
     ]
    },
    {
     "name": "stderr",
     "output_type": "stream",
     "text": [
      "chunk:   1%|▏         | 1/67 [12:58<14:16:10, 778.34s/it, now=None]"
     ]
    },
    {
     "name": "stdout",
     "output_type": "stream",
     "text": [
      "MoviePy - Done.\n",
      "MoviePy - Writing video Non_Behaviour_clips\\clip_4_12.mp4\n",
      "\n"
     ]
    },
    {
     "name": "stderr",
     "output_type": "stream",
     "text": [
      "chunk:   1%|▏         | 1/67 [12:58<14:16:48, 778.91s/it, now=None]"
     ]
    },
    {
     "name": "stdout",
     "output_type": "stream",
     "text": [
      "MoviePy - Done !\n",
      "MoviePy - video ready Non_Behaviour_clips\\clip_4_12.mp4\n",
      "MoviePy - Building video Non_Behaviour_clips\\clip_4_13.mp4.\n",
      "MoviePy - Writing audio in clip_4_13TEMP_MPY_wvf_snd.mp3\n"
     ]
    },
    {
     "name": "stderr",
     "output_type": "stream",
     "text": [
      "chunk:   1%|▏         | 1/67 [12:59<14:17:02, 779.13s/it, now=None]"
     ]
    },
    {
     "name": "stdout",
     "output_type": "stream",
     "text": [
      "MoviePy - Done.\n",
      "MoviePy - Writing video Non_Behaviour_clips\\clip_4_13.mp4\n",
      "\n"
     ]
    },
    {
     "name": "stderr",
     "output_type": "stream",
     "text": [
      "chunk:   1%|▏         | 1/67 [12:59<14:17:44, 779.77s/it, now=None]"
     ]
    },
    {
     "name": "stdout",
     "output_type": "stream",
     "text": [
      "MoviePy - Done !\n",
      "MoviePy - video ready Non_Behaviour_clips\\clip_4_13.mp4\n",
      "MoviePy - Building video Non_Behaviour_clips\\clip_4_14.mp4.\n",
      "MoviePy - Writing audio in clip_4_14TEMP_MPY_wvf_snd.mp3\n"
     ]
    },
    {
     "name": "stderr",
     "output_type": "stream",
     "text": [
      "chunk:   1%|▏         | 1/67 [12:59<14:17:57, 779.97s/it, now=None]"
     ]
    },
    {
     "name": "stdout",
     "output_type": "stream",
     "text": [
      "MoviePy - Done.\n",
      "MoviePy - Writing video Non_Behaviour_clips\\clip_4_14.mp4\n",
      "\n"
     ]
    },
    {
     "name": "stderr",
     "output_type": "stream",
     "text": [
      "chunk:   1%|▏         | 1/67 [13:00<14:18:38, 780.58s/it, now=None]"
     ]
    },
    {
     "name": "stdout",
     "output_type": "stream",
     "text": [
      "MoviePy - Done !\n",
      "MoviePy - video ready Non_Behaviour_clips\\clip_4_14.mp4\n",
      "MoviePy - Building video Non_Behaviour_clips\\clip_4_15.mp4.\n",
      "MoviePy - Writing audio in clip_4_15TEMP_MPY_wvf_snd.mp3\n"
     ]
    },
    {
     "name": "stderr",
     "output_type": "stream",
     "text": [
      "chunk:   1%|▏         | 1/67 [13:00<14:18:52, 780.79s/it, now=None]"
     ]
    },
    {
     "name": "stdout",
     "output_type": "stream",
     "text": [
      "MoviePy - Done.\n",
      "MoviePy - Writing video Non_Behaviour_clips\\clip_4_15.mp4\n",
      "\n"
     ]
    },
    {
     "name": "stderr",
     "output_type": "stream",
     "text": [
      "chunk:   1%|▏         | 1/67 [13:01<14:19:33, 781.41s/it, now=None]"
     ]
    },
    {
     "name": "stdout",
     "output_type": "stream",
     "text": [
      "MoviePy - Done !\n",
      "MoviePy - video ready Non_Behaviour_clips\\clip_4_15.mp4\n",
      "MoviePy - Building video Non_Behaviour_clips\\clip_4_16.mp4.\n",
      "MoviePy - Writing audio in clip_4_16TEMP_MPY_wvf_snd.mp3\n"
     ]
    },
    {
     "name": "stderr",
     "output_type": "stream",
     "text": [
      "chunk:   1%|▏         | 1/67 [13:01<14:19:47, 781.63s/it, now=None]"
     ]
    },
    {
     "name": "stdout",
     "output_type": "stream",
     "text": [
      "MoviePy - Done.\n",
      "MoviePy - Writing video Non_Behaviour_clips\\clip_4_16.mp4\n",
      "\n"
     ]
    },
    {
     "name": "stderr",
     "output_type": "stream",
     "text": [
      "chunk:   1%|▏         | 1/67 [13:02<14:20:27, 782.23s/it, now=None]"
     ]
    },
    {
     "name": "stdout",
     "output_type": "stream",
     "text": [
      "MoviePy - Done !\n",
      "MoviePy - video ready Non_Behaviour_clips\\clip_4_16.mp4\n",
      "MoviePy - Building video Non_Behaviour_clips\\clip_4_17.mp4.\n",
      "MoviePy - Writing audio in clip_4_17TEMP_MPY_wvf_snd.mp3\n"
     ]
    },
    {
     "name": "stderr",
     "output_type": "stream",
     "text": [
      "chunk:   1%|▏         | 1/67 [13:02<14:20:40, 782.43s/it, now=None]"
     ]
    },
    {
     "name": "stdout",
     "output_type": "stream",
     "text": [
      "MoviePy - Done.\n",
      "MoviePy - Writing video Non_Behaviour_clips\\clip_4_17.mp4\n",
      "\n"
     ]
    },
    {
     "name": "stderr",
     "output_type": "stream",
     "text": [
      "chunk:   1%|▏         | 1/67 [13:03<14:21:19, 783.02s/it, now=None]"
     ]
    },
    {
     "name": "stdout",
     "output_type": "stream",
     "text": [
      "MoviePy - Done !\n",
      "MoviePy - video ready Non_Behaviour_clips\\clip_4_17.mp4\n",
      "MoviePy - Building video Non_Behaviour_clips\\clip_4_18.mp4.\n",
      "MoviePy - Writing audio in clip_4_18TEMP_MPY_wvf_snd.mp3\n"
     ]
    },
    {
     "name": "stderr",
     "output_type": "stream",
     "text": [
      "chunk:   1%|▏         | 1/67 [13:03<14:21:33, 783.23s/it, now=None]"
     ]
    },
    {
     "name": "stdout",
     "output_type": "stream",
     "text": [
      "MoviePy - Done.\n",
      "MoviePy - Writing video Non_Behaviour_clips\\clip_4_18.mp4\n",
      "\n"
     ]
    },
    {
     "name": "stderr",
     "output_type": "stream",
     "text": [
      "chunk:   1%|▏         | 1/67 [13:03<14:22:14, 783.85s/it, now=None]"
     ]
    },
    {
     "name": "stdout",
     "output_type": "stream",
     "text": [
      "MoviePy - Done !\n",
      "MoviePy - video ready Non_Behaviour_clips\\clip_4_18.mp4\n",
      "MoviePy - Building video Non_Behaviour_clips\\clip_4_19.mp4.\n",
      "MoviePy - Writing audio in clip_4_19TEMP_MPY_wvf_snd.mp3\n"
     ]
    },
    {
     "name": "stderr",
     "output_type": "stream",
     "text": [
      "chunk:   1%|▏         | 1/67 [13:04<14:22:27, 784.06s/it, now=None]"
     ]
    },
    {
     "name": "stdout",
     "output_type": "stream",
     "text": [
      "MoviePy - Done.\n",
      "MoviePy - Writing video Non_Behaviour_clips\\clip_4_19.mp4\n",
      "\n"
     ]
    },
    {
     "name": "stderr",
     "output_type": "stream",
     "text": [
      "chunk:   1%|▏         | 1/67 [13:04<14:23:04, 784.61s/it, now=None]"
     ]
    },
    {
     "name": "stdout",
     "output_type": "stream",
     "text": [
      "MoviePy - Done !\n",
      "MoviePy - video ready Non_Behaviour_clips\\clip_4_19.mp4\n",
      "MoviePy - Building video Non_Behaviour_clips\\clip_4_20.mp4.\n",
      "MoviePy - Writing audio in clip_4_20TEMP_MPY_wvf_snd.mp3\n"
     ]
    },
    {
     "name": "stderr",
     "output_type": "stream",
     "text": [
      "chunk:   1%|▏         | 1/67 [13:04<14:23:17, 784.81s/it, now=None]"
     ]
    },
    {
     "name": "stdout",
     "output_type": "stream",
     "text": [
      "MoviePy - Done.\n",
      "MoviePy - Writing video Non_Behaviour_clips\\clip_4_20.mp4\n",
      "\n"
     ]
    },
    {
     "name": "stderr",
     "output_type": "stream",
     "text": [
      "chunk:   1%|▏         | 1/67 [13:05<14:23:53, 785.36s/it, now=None]"
     ]
    },
    {
     "name": "stdout",
     "output_type": "stream",
     "text": [
      "MoviePy - Done !\n",
      "MoviePy - video ready Non_Behaviour_clips\\clip_4_20.mp4\n"
     ]
    },
    {
     "name": "stderr",
     "output_type": "stream",
     "text": [
      "chunk:   1%|▏         | 1/67 [13:05<14:24:27, 785.87s/it, now=None]"
     ]
    },
    {
     "name": "stdout",
     "output_type": "stream",
     "text": [
      "MoviePy - Building video Non_Behaviour_clips\\clip_5_1.mp4.\n",
      "MoviePy - Writing audio in clip_5_1TEMP_MPY_wvf_snd.mp3\n"
     ]
    },
    {
     "name": "stderr",
     "output_type": "stream",
     "text": [
      "chunk:   1%|▏         | 1/67 [13:06<14:24:38, 786.04s/it, now=None]"
     ]
    },
    {
     "name": "stdout",
     "output_type": "stream",
     "text": [
      "MoviePy - Done.\n",
      "MoviePy - Writing video Non_Behaviour_clips\\clip_5_1.mp4\n",
      "\n"
     ]
    },
    {
     "name": "stderr",
     "output_type": "stream",
     "text": [
      "chunk:   1%|▏         | 1/67 [13:06<14:25:03, 786.41s/it, now=None]c:\\Users\\manje\\.pyenv\\pyenv-win\\versions\\3.12.5\\Lib\\site-packages\\moviepy\\video\\io\\ffmpeg_reader.py:157: UserWarning: In file 6.mp4 , 3 bytes wanted but 0 bytes read at frame index 0 (out of a total 0 frames), at time 0.00/0.00 sec. Using the last valid frame instead.\n",
      "  warnings.warn(\n"
     ]
    },
    {
     "name": "stdout",
     "output_type": "stream",
     "text": [
      "MoviePy - Done !\n",
      "MoviePy - video ready Non_Behaviour_clips\\clip_5_1.mp4\n",
      "Error loading video: MoviePy error: failed to read the first frame of video file 6.mp4 . That might mean that the file is corrupted. That may also mean that you are using a deprecated version of FFMPEG. On Ubuntu/Debian for instance the version in the repos is deprecated. Please update to a recent version from the website.\n"
     ]
    },
    {
     "name": "stderr",
     "output_type": "stream",
     "text": [
      "c:\\Users\\manje\\.pyenv\\pyenv-win\\versions\\3.12.5\\Lib\\site-packages\\moviepy\\video\\io\\ffmpeg_reader.py:157: UserWarning: In file 7.mp4 , 3 bytes wanted but 0 bytes read at frame index 0 (out of a total 0 frames), at time 0.00/0.00 sec. Using the last valid frame instead.\n",
      "  warnings.warn(\n"
     ]
    },
    {
     "name": "stdout",
     "output_type": "stream",
     "text": [
      "Error loading video: MoviePy error: failed to read the first frame of video file 7.mp4 . That might mean that the file is corrupted. That may also mean that you are using a deprecated version of FFMPEG. On Ubuntu/Debian for instance the version in the repos is deprecated. Please update to a recent version from the website.\n"
     ]
    },
    {
     "name": "stderr",
     "output_type": "stream",
     "text": [
      "chunk:   1%|▏         | 1/67 [13:07<14:26:01, 787.29s/it, now=None]"
     ]
    },
    {
     "name": "stdout",
     "output_type": "stream",
     "text": [
      "MoviePy - Building video Non_Behaviour_clips\\clip_8_1.mp4.\n",
      "MoviePy - Writing audio in clip_8_1TEMP_MPY_wvf_snd.mp3\n"
     ]
    },
    {
     "name": "stderr",
     "output_type": "stream",
     "text": [
      "chunk:   1%|▏         | 1/67 [13:07<14:26:12, 787.46s/it, now=None]"
     ]
    },
    {
     "name": "stdout",
     "output_type": "stream",
     "text": [
      "MoviePy - Done.\n",
      "MoviePy - Writing video Non_Behaviour_clips\\clip_8_1.mp4\n",
      "\n"
     ]
    },
    {
     "name": "stderr",
     "output_type": "stream",
     "text": [
      "chunk:   1%|▏         | 1/67 [13:07<14:26:34, 787.79s/it, now=None]"
     ]
    },
    {
     "name": "stdout",
     "output_type": "stream",
     "text": [
      "MoviePy - Done !\n",
      "MoviePy - video ready Non_Behaviour_clips\\clip_8_1.mp4\n",
      "MoviePy - Building video Non_Behaviour_clips\\clip_8_2.mp4.\n",
      "MoviePy - Writing audio in clip_8_2TEMP_MPY_wvf_snd.mp3\n"
     ]
    },
    {
     "name": "stderr",
     "output_type": "stream",
     "text": [
      "chunk:   1%|▏         | 1/67 [13:07<14:26:46, 787.97s/it, now=None]"
     ]
    },
    {
     "name": "stdout",
     "output_type": "stream",
     "text": [
      "MoviePy - Done.\n",
      "MoviePy - Writing video Non_Behaviour_clips\\clip_8_2.mp4\n",
      "\n"
     ]
    },
    {
     "name": "stderr",
     "output_type": "stream",
     "text": [
      "chunk:   1%|▏         | 1/67 [13:08<14:27:06, 788.28s/it, now=None]"
     ]
    },
    {
     "name": "stdout",
     "output_type": "stream",
     "text": [
      "MoviePy - Done !\n",
      "MoviePy - video ready Non_Behaviour_clips\\clip_8_2.mp4\n",
      "MoviePy - Building video Non_Behaviour_clips\\clip_8_3.mp4.\n",
      "MoviePy - Writing audio in clip_8_3TEMP_MPY_wvf_snd.mp3\n"
     ]
    },
    {
     "name": "stderr",
     "output_type": "stream",
     "text": [
      "chunk:   1%|▏         | 1/67 [13:08<14:27:18, 788.46s/it, now=None]"
     ]
    },
    {
     "name": "stdout",
     "output_type": "stream",
     "text": [
      "MoviePy - Done.\n",
      "MoviePy - Writing video Non_Behaviour_clips\\clip_8_3.mp4\n",
      "\n"
     ]
    },
    {
     "name": "stderr",
     "output_type": "stream",
     "text": [
      "chunk:   1%|▏         | 1/67 [13:08<14:27:38, 788.77s/it, now=None]"
     ]
    },
    {
     "name": "stdout",
     "output_type": "stream",
     "text": [
      "MoviePy - Done !\n",
      "MoviePy - video ready Non_Behaviour_clips\\clip_8_3.mp4\n",
      "MoviePy - Building video Non_Behaviour_clips\\clip_8_4.mp4.\n",
      "MoviePy - Writing audio in clip_8_4TEMP_MPY_wvf_snd.mp3\n"
     ]
    },
    {
     "name": "stderr",
     "output_type": "stream",
     "text": [
      "chunk:   1%|▏         | 1/67 [13:08<14:27:51, 788.96s/it, now=None]"
     ]
    },
    {
     "name": "stdout",
     "output_type": "stream",
     "text": [
      "MoviePy - Done.\n",
      "MoviePy - Writing video Non_Behaviour_clips\\clip_8_4.mp4\n",
      "\n"
     ]
    },
    {
     "name": "stderr",
     "output_type": "stream",
     "text": [
      "chunk:   1%|▏         | 1/67 [13:09<14:28:15, 789.32s/it, now=None]"
     ]
    },
    {
     "name": "stdout",
     "output_type": "stream",
     "text": [
      "MoviePy - Done !\n",
      "MoviePy - video ready Non_Behaviour_clips\\clip_8_4.mp4\n",
      "MoviePy - Building video Non_Behaviour_clips\\clip_8_5.mp4.\n",
      "MoviePy - Writing audio in clip_8_5TEMP_MPY_wvf_snd.mp3\n"
     ]
    },
    {
     "name": "stderr",
     "output_type": "stream",
     "text": [
      "chunk:   1%|▏         | 1/67 [13:09<14:28:28, 789.52s/it, now=None]"
     ]
    },
    {
     "name": "stdout",
     "output_type": "stream",
     "text": [
      "MoviePy - Done.\n",
      "MoviePy - Writing video Non_Behaviour_clips\\clip_8_5.mp4\n",
      "\n"
     ]
    },
    {
     "name": "stderr",
     "output_type": "stream",
     "text": [
      "chunk:   1%|▏         | 1/67 [13:09<14:28:49, 789.84s/it, now=None]"
     ]
    },
    {
     "name": "stdout",
     "output_type": "stream",
     "text": [
      "MoviePy - Done !\n",
      "MoviePy - video ready Non_Behaviour_clips\\clip_8_5.mp4\n",
      "MoviePy - Building video Non_Behaviour_clips\\clip_8_6.mp4.\n",
      "MoviePy - Writing audio in clip_8_6TEMP_MPY_wvf_snd.mp3\n"
     ]
    },
    {
     "name": "stderr",
     "output_type": "stream",
     "text": [
      "chunk:   1%|▏         | 1/67 [13:10<14:29:02, 790.03s/it, now=None]"
     ]
    },
    {
     "name": "stdout",
     "output_type": "stream",
     "text": [
      "MoviePy - Done.\n",
      "MoviePy - Writing video Non_Behaviour_clips\\clip_8_6.mp4\n",
      "\n"
     ]
    },
    {
     "name": "stderr",
     "output_type": "stream",
     "text": [
      "chunk:   1%|▏         | 1/67 [13:10<14:29:23, 790.35s/it, now=None]"
     ]
    },
    {
     "name": "stdout",
     "output_type": "stream",
     "text": [
      "MoviePy - Done !\n",
      "MoviePy - video ready Non_Behaviour_clips\\clip_8_6.mp4\n"
     ]
    },
    {
     "name": "stderr",
     "output_type": "stream",
     "text": [
      "chunk:   1%|▏         | 1/67 [13:10<14:29:58, 790.88s/it, now=None]"
     ]
    },
    {
     "name": "stdout",
     "output_type": "stream",
     "text": [
      "MoviePy - Building video Non_Behaviour_clips\\clip_9_1.mp4.\n",
      "MoviePy - Writing audio in clip_9_1TEMP_MPY_wvf_snd.mp3\n"
     ]
    },
    {
     "name": "stderr",
     "output_type": "stream",
     "text": [
      "chunk:   1%|▏         | 1/67 [13:11<14:30:11, 791.09s/it, now=None]"
     ]
    },
    {
     "name": "stdout",
     "output_type": "stream",
     "text": [
      "MoviePy - Done.\n",
      "MoviePy - Writing video Non_Behaviour_clips\\clip_9_1.mp4\n",
      "\n"
     ]
    },
    {
     "name": "stderr",
     "output_type": "stream",
     "text": [
      "chunk:   1%|▏         | 1/67 [13:11<14:30:44, 791.58s/it, now=None]"
     ]
    },
    {
     "name": "stdout",
     "output_type": "stream",
     "text": [
      "MoviePy - Done !\n",
      "MoviePy - video ready Non_Behaviour_clips\\clip_9_1.mp4\n",
      "MoviePy - Building video Non_Behaviour_clips\\clip_9_2.mp4.\n",
      "MoviePy - Writing audio in clip_9_2TEMP_MPY_wvf_snd.mp3\n"
     ]
    },
    {
     "name": "stderr",
     "output_type": "stream",
     "text": [
      "chunk:   1%|▏         | 1/67 [13:11<14:30:54, 791.74s/it, now=None]"
     ]
    },
    {
     "name": "stdout",
     "output_type": "stream",
     "text": [
      "MoviePy - Done.\n",
      "MoviePy - Writing video Non_Behaviour_clips\\clip_9_2.mp4\n",
      "\n"
     ]
    },
    {
     "name": "stderr",
     "output_type": "stream",
     "text": [
      "chunk:   1%|▏         | 1/67 [13:12<14:31:19, 792.11s/it, now=None]"
     ]
    },
    {
     "name": "stdout",
     "output_type": "stream",
     "text": [
      "MoviePy - Done !\n",
      "MoviePy - video ready Non_Behaviour_clips\\clip_9_2.mp4\n"
     ]
    },
    {
     "name": "stderr",
     "output_type": "stream",
     "text": [
      "chunk:   1%|▏         | 1/67 [13:12<14:31:50, 792.59s/it, now=None]"
     ]
    },
    {
     "name": "stdout",
     "output_type": "stream",
     "text": [
      "MoviePy - Building video Non_Behaviour_clips\\clip_10_1.mp4.\n",
      "MoviePy - Writing audio in clip_10_1TEMP_MPY_wvf_snd.mp3\n"
     ]
    },
    {
     "name": "stderr",
     "output_type": "stream",
     "text": [
      "chunk:   1%|▏         | 1/67 [13:12<14:32:02, 792.76s/it, now=None]"
     ]
    },
    {
     "name": "stdout",
     "output_type": "stream",
     "text": [
      "MoviePy - Done.\n",
      "MoviePy - Writing video Non_Behaviour_clips\\clip_10_1.mp4\n",
      "\n"
     ]
    },
    {
     "name": "stderr",
     "output_type": "stream",
     "text": [
      "chunk:   1%|▏         | 1/67 [13:13<14:32:22, 793.07s/it, now=None]"
     ]
    },
    {
     "name": "stdout",
     "output_type": "stream",
     "text": [
      "MoviePy - Done !\n",
      "MoviePy - video ready Non_Behaviour_clips\\clip_10_1.mp4\n",
      "MoviePy - Building video Non_Behaviour_clips\\clip_10_2.mp4.\n",
      "MoviePy - Writing audio in clip_10_2TEMP_MPY_wvf_snd.mp3\n"
     ]
    },
    {
     "name": "stderr",
     "output_type": "stream",
     "text": [
      "chunk:   1%|▏         | 1/67 [13:13<14:32:34, 793.25s/it, now=None]"
     ]
    },
    {
     "name": "stdout",
     "output_type": "stream",
     "text": [
      "MoviePy - Done.\n",
      "MoviePy - Writing video Non_Behaviour_clips\\clip_10_2.mp4\n",
      "\n"
     ]
    },
    {
     "name": "stderr",
     "output_type": "stream",
     "text": [
      "chunk:   1%|▏         | 1/67 [13:13<14:32:55, 793.57s/it, now=None]"
     ]
    },
    {
     "name": "stdout",
     "output_type": "stream",
     "text": [
      "MoviePy - Done !\n",
      "MoviePy - video ready Non_Behaviour_clips\\clip_10_2.mp4\n",
      "MoviePy - Building video Non_Behaviour_clips\\clip_10_3.mp4.\n",
      "MoviePy - Writing audio in clip_10_3TEMP_MPY_wvf_snd.mp3\n"
     ]
    },
    {
     "name": "stderr",
     "output_type": "stream",
     "text": [
      "chunk:   1%|▏         | 1/67 [13:13<14:33:08, 793.76s/it, now=None]"
     ]
    },
    {
     "name": "stdout",
     "output_type": "stream",
     "text": [
      "MoviePy - Done.\n",
      "MoviePy - Writing video Non_Behaviour_clips\\clip_10_3.mp4\n",
      "\n"
     ]
    },
    {
     "name": "stderr",
     "output_type": "stream",
     "text": [
      "chunk:   1%|▏         | 1/67 [13:14<14:33:29, 794.08s/it, now=None]"
     ]
    },
    {
     "name": "stdout",
     "output_type": "stream",
     "text": [
      "MoviePy - Done !\n",
      "MoviePy - video ready Non_Behaviour_clips\\clip_10_3.mp4\n",
      "MoviePy - Building video Non_Behaviour_clips\\clip_10_4.mp4.\n",
      "MoviePy - Writing audio in clip_10_4TEMP_MPY_wvf_snd.mp3\n"
     ]
    },
    {
     "name": "stderr",
     "output_type": "stream",
     "text": [
      "chunk:   1%|▏         | 1/67 [13:14<14:33:41, 794.27s/it, now=None]"
     ]
    },
    {
     "name": "stdout",
     "output_type": "stream",
     "text": [
      "MoviePy - Done.\n",
      "MoviePy - Writing video Non_Behaviour_clips\\clip_10_4.mp4\n",
      "\n"
     ]
    },
    {
     "name": "stderr",
     "output_type": "stream",
     "text": [
      "chunk:   1%|▏         | 1/67 [13:14<14:34:06, 794.64s/it, now=None]"
     ]
    },
    {
     "name": "stdout",
     "output_type": "stream",
     "text": [
      "MoviePy - Done !\n",
      "MoviePy - video ready Non_Behaviour_clips\\clip_10_4.mp4\n",
      "MoviePy - Building video Non_Behaviour_clips\\clip_10_5.mp4.\n",
      "MoviePy - Writing audio in clip_10_5TEMP_MPY_wvf_snd.mp3\n"
     ]
    },
    {
     "name": "stderr",
     "output_type": "stream",
     "text": [
      "chunk:   1%|▏         | 1/67 [13:14<14:34:17, 794.82s/it, now=None]"
     ]
    },
    {
     "name": "stdout",
     "output_type": "stream",
     "text": [
      "MoviePy - Done.\n",
      "MoviePy - Writing video Non_Behaviour_clips\\clip_10_5.mp4\n",
      "\n"
     ]
    },
    {
     "name": "stderr",
     "output_type": "stream",
     "text": [
      "chunk:   1%|▏         | 1/67 [13:15<14:34:40, 795.16s/it, now=None]"
     ]
    },
    {
     "name": "stdout",
     "output_type": "stream",
     "text": [
      "MoviePy - Done !\n",
      "MoviePy - video ready Non_Behaviour_clips\\clip_10_5.mp4\n",
      "MoviePy - Building video Non_Behaviour_clips\\clip_10_6.mp4.\n",
      "MoviePy - Writing audio in clip_10_6TEMP_MPY_wvf_snd.mp3\n"
     ]
    },
    {
     "name": "stderr",
     "output_type": "stream",
     "text": [
      "chunk:   1%|▏         | 1/67 [13:15<14:34:52, 795.34s/it, now=None]"
     ]
    },
    {
     "name": "stdout",
     "output_type": "stream",
     "text": [
      "MoviePy - Done.\n",
      "MoviePy - Writing video Non_Behaviour_clips\\clip_10_6.mp4\n",
      "\n"
     ]
    },
    {
     "name": "stderr",
     "output_type": "stream",
     "text": [
      "chunk:   1%|▏         | 1/67 [13:15<14:35:14, 795.68s/it, now=None]"
     ]
    },
    {
     "name": "stdout",
     "output_type": "stream",
     "text": [
      "MoviePy - Done !\n",
      "MoviePy - video ready Non_Behaviour_clips\\clip_10_6.mp4\n",
      "MoviePy - Building video Non_Behaviour_clips\\clip_10_7.mp4.\n",
      "MoviePy - Writing audio in clip_10_7TEMP_MPY_wvf_snd.mp3\n"
     ]
    },
    {
     "name": "stderr",
     "output_type": "stream",
     "text": [
      "chunk:   1%|▏         | 1/67 [13:15<14:35:27, 795.87s/it, now=None]"
     ]
    },
    {
     "name": "stdout",
     "output_type": "stream",
     "text": [
      "MoviePy - Done.\n",
      "MoviePy - Writing video Non_Behaviour_clips\\clip_10_7.mp4\n",
      "\n"
     ]
    },
    {
     "name": "stderr",
     "output_type": "stream",
     "text": [
      "chunk:   1%|▏         | 1/67 [13:16<14:35:47, 796.17s/it, now=None]"
     ]
    },
    {
     "name": "stdout",
     "output_type": "stream",
     "text": [
      "MoviePy - Done !\n",
      "MoviePy - video ready Non_Behaviour_clips\\clip_10_7.mp4\n",
      "MoviePy - Building video Non_Behaviour_clips\\clip_10_8.mp4.\n",
      "MoviePy - Writing audio in clip_10_8TEMP_MPY_wvf_snd.mp3\n"
     ]
    },
    {
     "name": "stderr",
     "output_type": "stream",
     "text": [
      "chunk:   1%|▏         | 1/67 [13:16<14:36:00, 796.37s/it, now=None]"
     ]
    },
    {
     "name": "stdout",
     "output_type": "stream",
     "text": [
      "MoviePy - Done.\n",
      "MoviePy - Writing video Non_Behaviour_clips\\clip_10_8.mp4\n",
      "\n"
     ]
    },
    {
     "name": "stderr",
     "output_type": "stream",
     "text": [
      "chunk:   1%|▏         | 1/67 [13:16<14:36:22, 796.70s/it, now=None]"
     ]
    },
    {
     "name": "stdout",
     "output_type": "stream",
     "text": [
      "MoviePy - Done !\n",
      "MoviePy - video ready Non_Behaviour_clips\\clip_10_8.mp4\n",
      "MoviePy - Building video Non_Behaviour_clips\\clip_10_9.mp4.\n",
      "MoviePy - Writing audio in clip_10_9TEMP_MPY_wvf_snd.mp3\n"
     ]
    },
    {
     "name": "stderr",
     "output_type": "stream",
     "text": [
      "chunk:   1%|▏         | 1/67 [13:16<14:36:34, 796.89s/it, now=None]"
     ]
    },
    {
     "name": "stdout",
     "output_type": "stream",
     "text": [
      "MoviePy - Done.\n",
      "MoviePy - Writing video Non_Behaviour_clips\\clip_10_9.mp4\n",
      "\n"
     ]
    },
    {
     "name": "stderr",
     "output_type": "stream",
     "text": [
      "chunk:   1%|▏         | 1/67 [13:17<14:36:57, 797.23s/it, now=None]"
     ]
    },
    {
     "name": "stdout",
     "output_type": "stream",
     "text": [
      "MoviePy - Done !\n",
      "MoviePy - video ready Non_Behaviour_clips\\clip_10_9.mp4\n",
      "MoviePy - Building video Non_Behaviour_clips\\clip_10_10.mp4.\n",
      "MoviePy - Writing audio in clip_10_10TEMP_MPY_wvf_snd.mp3\n"
     ]
    },
    {
     "name": "stderr",
     "output_type": "stream",
     "text": [
      "chunk:   1%|▏         | 1/67 [13:17<14:37:09, 797.42s/it, now=None]"
     ]
    },
    {
     "name": "stdout",
     "output_type": "stream",
     "text": [
      "MoviePy - Done.\n",
      "MoviePy - Writing video Non_Behaviour_clips\\clip_10_10.mp4\n",
      "\n"
     ]
    },
    {
     "name": "stderr",
     "output_type": "stream",
     "text": [
      "chunk:   1%|▏         | 1/67 [13:17<14:37:32, 797.77s/it, now=None]"
     ]
    },
    {
     "name": "stdout",
     "output_type": "stream",
     "text": [
      "MoviePy - Done !\n",
      "MoviePy - video ready Non_Behaviour_clips\\clip_10_10.mp4\n",
      "MoviePy - Building video Non_Behaviour_clips\\clip_10_11.mp4.\n",
      "MoviePy - Writing audio in clip_10_11TEMP_MPY_wvf_snd.mp3\n"
     ]
    },
    {
     "name": "stderr",
     "output_type": "stream",
     "text": [
      "chunk:   1%|▏         | 1/67 [13:17<14:37:44, 797.95s/it, now=None]"
     ]
    },
    {
     "name": "stdout",
     "output_type": "stream",
     "text": [
      "MoviePy - Done.\n",
      "MoviePy - Writing video Non_Behaviour_clips\\clip_10_11.mp4\n",
      "\n"
     ]
    },
    {
     "name": "stderr",
     "output_type": "stream",
     "text": [
      "chunk:   1%|▏         | 1/67 [13:18<14:38:07, 798.29s/it, now=None]"
     ]
    },
    {
     "name": "stdout",
     "output_type": "stream",
     "text": [
      "MoviePy - Done !\n",
      "MoviePy - video ready Non_Behaviour_clips\\clip_10_11.mp4\n",
      "MoviePy - Building video Non_Behaviour_clips\\clip_10_12.mp4.\n",
      "MoviePy - Writing audio in clip_10_12TEMP_MPY_wvf_snd.mp3\n"
     ]
    },
    {
     "name": "stderr",
     "output_type": "stream",
     "text": [
      "chunk:   1%|▏         | 1/67 [13:18<14:38:18, 798.47s/it, now=None]"
     ]
    },
    {
     "name": "stdout",
     "output_type": "stream",
     "text": [
      "MoviePy - Done.\n",
      "MoviePy - Writing video Non_Behaviour_clips\\clip_10_12.mp4\n",
      "\n"
     ]
    },
    {
     "name": "stderr",
     "output_type": "stream",
     "text": [
      "chunk:   1%|▏         | 1/67 [13:18<14:38:40, 798.80s/it, now=None]"
     ]
    },
    {
     "name": "stdout",
     "output_type": "stream",
     "text": [
      "MoviePy - Done !\n",
      "MoviePy - video ready Non_Behaviour_clips\\clip_10_12.mp4\n",
      "MoviePy - Building video Non_Behaviour_clips\\clip_10_13.mp4.\n",
      "MoviePy - Writing audio in clip_10_13TEMP_MPY_wvf_snd.mp3\n"
     ]
    },
    {
     "name": "stderr",
     "output_type": "stream",
     "text": [
      "chunk:   1%|▏         | 1/67 [13:19<14:38:54, 799.00s/it, now=None]"
     ]
    },
    {
     "name": "stdout",
     "output_type": "stream",
     "text": [
      "MoviePy - Done.\n",
      "MoviePy - Writing video Non_Behaviour_clips\\clip_10_13.mp4\n",
      "\n"
     ]
    },
    {
     "name": "stderr",
     "output_type": "stream",
     "text": [
      "chunk:   1%|▏         | 1/67 [13:19<14:39:13, 799.29s/it, now=None]"
     ]
    },
    {
     "name": "stdout",
     "output_type": "stream",
     "text": [
      "MoviePy - Done !\n",
      "MoviePy - video ready Non_Behaviour_clips\\clip_10_13.mp4\n",
      "MoviePy - Building video Non_Behaviour_clips\\clip_10_14.mp4.\n",
      "MoviePy - Writing audio in clip_10_14TEMP_MPY_wvf_snd.mp3\n"
     ]
    },
    {
     "name": "stderr",
     "output_type": "stream",
     "text": [
      "chunk:   1%|▏         | 1/67 [13:19<14:39:25, 799.48s/it, now=None]"
     ]
    },
    {
     "name": "stdout",
     "output_type": "stream",
     "text": [
      "MoviePy - Done.\n",
      "MoviePy - Writing video Non_Behaviour_clips\\clip_10_14.mp4\n",
      "\n"
     ]
    },
    {
     "name": "stderr",
     "output_type": "stream",
     "text": [
      "chunk:   1%|▏         | 1/67 [13:19<14:39:46, 799.80s/it, now=None]"
     ]
    },
    {
     "name": "stdout",
     "output_type": "stream",
     "text": [
      "MoviePy - Done !\n",
      "MoviePy - video ready Non_Behaviour_clips\\clip_10_14.mp4\n",
      "MoviePy - Building video Non_Behaviour_clips\\clip_10_15.mp4.\n",
      "MoviePy - Writing audio in clip_10_15TEMP_MPY_wvf_snd.mp3\n"
     ]
    },
    {
     "name": "stderr",
     "output_type": "stream",
     "text": [
      "chunk:   1%|▏         | 1/67 [13:19<14:39:59, 800.00s/it, now=None]"
     ]
    },
    {
     "name": "stdout",
     "output_type": "stream",
     "text": [
      "MoviePy - Done.\n",
      "MoviePy - Writing video Non_Behaviour_clips\\clip_10_15.mp4\n",
      "\n"
     ]
    },
    {
     "name": "stderr",
     "output_type": "stream",
     "text": [
      "chunk:   1%|▏         | 1/67 [13:20<14:40:19, 800.30s/it, now=None]"
     ]
    },
    {
     "name": "stdout",
     "output_type": "stream",
     "text": [
      "MoviePy - Done !\n",
      "MoviePy - video ready Non_Behaviour_clips\\clip_10_15.mp4\n",
      "MoviePy - Building video Non_Behaviour_clips\\clip_10_16.mp4.\n",
      "MoviePy - Writing audio in clip_10_16TEMP_MPY_wvf_snd.mp3\n"
     ]
    },
    {
     "name": "stderr",
     "output_type": "stream",
     "text": [
      "chunk:   1%|▏         | 1/67 [13:20<14:40:32, 800.49s/it, now=None]"
     ]
    },
    {
     "name": "stdout",
     "output_type": "stream",
     "text": [
      "MoviePy - Done.\n",
      "MoviePy - Writing video Non_Behaviour_clips\\clip_10_16.mp4\n",
      "\n"
     ]
    },
    {
     "name": "stderr",
     "output_type": "stream",
     "text": [
      "chunk:   1%|▏         | 1/67 [13:20<14:40:53, 800.81s/it, now=None]"
     ]
    },
    {
     "name": "stdout",
     "output_type": "stream",
     "text": [
      "MoviePy - Done !\n",
      "MoviePy - video ready Non_Behaviour_clips\\clip_10_16.mp4\n",
      "MoviePy - Building video Non_Behaviour_clips\\clip_10_17.mp4.\n",
      "MoviePy - Writing audio in clip_10_17TEMP_MPY_wvf_snd.mp3\n"
     ]
    },
    {
     "name": "stderr",
     "output_type": "stream",
     "text": [
      "chunk:   1%|▏         | 1/67 [13:20<14:41:05, 800.99s/it, now=None]"
     ]
    },
    {
     "name": "stdout",
     "output_type": "stream",
     "text": [
      "MoviePy - Done.\n",
      "MoviePy - Writing video Non_Behaviour_clips\\clip_10_17.mp4\n",
      "\n"
     ]
    },
    {
     "name": "stderr",
     "output_type": "stream",
     "text": [
      "chunk:   1%|▏         | 1/67 [13:21<14:41:25, 801.29s/it, now=None]"
     ]
    },
    {
     "name": "stdout",
     "output_type": "stream",
     "text": [
      "MoviePy - Done !\n",
      "MoviePy - video ready Non_Behaviour_clips\\clip_10_17.mp4\n",
      "MoviePy - Building video Non_Behaviour_clips\\clip_10_18.mp4.\n",
      "MoviePy - Writing audio in clip_10_18TEMP_MPY_wvf_snd.mp3\n"
     ]
    },
    {
     "name": "stderr",
     "output_type": "stream",
     "text": [
      "chunk:   1%|▏         | 1/67 [13:21<14:41:37, 801.47s/it, now=None]"
     ]
    },
    {
     "name": "stdout",
     "output_type": "stream",
     "text": [
      "MoviePy - Done.\n",
      "MoviePy - Writing video Non_Behaviour_clips\\clip_10_18.mp4\n",
      "\n"
     ]
    },
    {
     "name": "stderr",
     "output_type": "stream",
     "text": [
      "chunk:   1%|▏         | 1/67 [13:21<14:41:57, 801.78s/it, now=None]"
     ]
    },
    {
     "name": "stdout",
     "output_type": "stream",
     "text": [
      "MoviePy - Done !\n",
      "MoviePy - video ready Non_Behaviour_clips\\clip_10_18.mp4\n",
      "MoviePy - Building video Non_Behaviour_clips\\clip_10_19.mp4.\n",
      "MoviePy - Writing audio in clip_10_19TEMP_MPY_wvf_snd.mp3\n"
     ]
    },
    {
     "name": "stderr",
     "output_type": "stream",
     "text": [
      "chunk:   1%|▏         | 1/67 [13:21<14:42:09, 801.97s/it, now=None]"
     ]
    },
    {
     "name": "stdout",
     "output_type": "stream",
     "text": [
      "MoviePy - Done.\n",
      "MoviePy - Writing video Non_Behaviour_clips\\clip_10_19.mp4\n",
      "\n"
     ]
    },
    {
     "name": "stderr",
     "output_type": "stream",
     "text": [
      "chunk:   1%|▏         | 1/67 [13:22<14:42:30, 802.27s/it, now=None]"
     ]
    },
    {
     "name": "stdout",
     "output_type": "stream",
     "text": [
      "MoviePy - Done !\n",
      "MoviePy - video ready Non_Behaviour_clips\\clip_10_19.mp4\n",
      "MoviePy - Building video Non_Behaviour_clips\\clip_10_20.mp4.\n",
      "MoviePy - Writing audio in clip_10_20TEMP_MPY_wvf_snd.mp3\n"
     ]
    },
    {
     "name": "stderr",
     "output_type": "stream",
     "text": [
      "chunk:   1%|▏         | 1/67 [13:22<14:42:43, 802.48s/it, now=None]"
     ]
    },
    {
     "name": "stdout",
     "output_type": "stream",
     "text": [
      "MoviePy - Done.\n",
      "MoviePy - Writing video Non_Behaviour_clips\\clip_10_20.mp4\n",
      "\n"
     ]
    },
    {
     "name": "stderr",
     "output_type": "stream",
     "text": [
      "chunk:   1%|▏         | 1/67 [13:22<14:43:05, 802.81s/it, now=None]"
     ]
    },
    {
     "name": "stdout",
     "output_type": "stream",
     "text": [
      "MoviePy - Done !\n",
      "MoviePy - video ready Non_Behaviour_clips\\clip_10_20.mp4\n",
      "MoviePy - Building video Non_Behaviour_clips\\clip_10_21.mp4.\n",
      "MoviePy - Writing audio in clip_10_21TEMP_MPY_wvf_snd.mp3\n"
     ]
    },
    {
     "name": "stderr",
     "output_type": "stream",
     "text": [
      "chunk:   1%|▏         | 1/67 [13:22<14:43:17, 802.99s/it, now=None]"
     ]
    },
    {
     "name": "stdout",
     "output_type": "stream",
     "text": [
      "MoviePy - Done.\n",
      "MoviePy - Writing video Non_Behaviour_clips\\clip_10_21.mp4\n",
      "\n"
     ]
    },
    {
     "name": "stderr",
     "output_type": "stream",
     "text": [
      "chunk:   1%|▏         | 1/67 [13:23<14:43:37, 803.30s/it, now=None]"
     ]
    },
    {
     "name": "stdout",
     "output_type": "stream",
     "text": [
      "MoviePy - Done !\n",
      "MoviePy - video ready Non_Behaviour_clips\\clip_10_21.mp4\n",
      "MoviePy - Building video Non_Behaviour_clips\\clip_10_22.mp4.\n",
      "MoviePy - Writing audio in clip_10_22TEMP_MPY_wvf_snd.mp3\n"
     ]
    },
    {
     "name": "stderr",
     "output_type": "stream",
     "text": [
      "chunk:   1%|▏         | 1/67 [13:23<14:43:49, 803.48s/it, now=None]"
     ]
    },
    {
     "name": "stdout",
     "output_type": "stream",
     "text": [
      "MoviePy - Done.\n",
      "MoviePy - Writing video Non_Behaviour_clips\\clip_10_22.mp4\n",
      "\n"
     ]
    },
    {
     "name": "stderr",
     "output_type": "stream",
     "text": [
      "chunk:   1%|▏         | 1/67 [13:23<14:44:11, 803.81s/it, now=None]"
     ]
    },
    {
     "name": "stdout",
     "output_type": "stream",
     "text": [
      "MoviePy - Done !\n",
      "MoviePy - video ready Non_Behaviour_clips\\clip_10_22.mp4\n",
      "MoviePy - Building video Non_Behaviour_clips\\clip_10_23.mp4.\n",
      "MoviePy - Writing audio in clip_10_23TEMP_MPY_wvf_snd.mp3\n"
     ]
    },
    {
     "name": "stderr",
     "output_type": "stream",
     "text": [
      "chunk:   1%|▏         | 1/67 [13:23<14:44:22, 803.98s/it, now=None]"
     ]
    },
    {
     "name": "stdout",
     "output_type": "stream",
     "text": [
      "MoviePy - Done.\n",
      "MoviePy - Writing video Non_Behaviour_clips\\clip_10_23.mp4\n",
      "\n"
     ]
    },
    {
     "name": "stderr",
     "output_type": "stream",
     "text": [
      "chunk:   1%|▏         | 1/67 [13:24<14:44:39, 804.24s/it, now=None]"
     ]
    },
    {
     "name": "stdout",
     "output_type": "stream",
     "text": [
      "MoviePy - Done !\n",
      "MoviePy - video ready Non_Behaviour_clips\\clip_10_23.mp4\n"
     ]
    },
    {
     "name": "stderr",
     "output_type": "stream",
     "text": [
      "c:\\Users\\manje\\.pyenv\\pyenv-win\\versions\\3.12.5\\Lib\\site-packages\\moviepy\\video\\io\\ffmpeg_reader.py:157: UserWarning: In file 11.mp4 , 3 bytes wanted but 0 bytes read at frame index 0 (out of a total 0 frames), at time 0.00/0.00 sec. Using the last valid frame instead.\n",
      "  warnings.warn(\n"
     ]
    },
    {
     "name": "stdout",
     "output_type": "stream",
     "text": [
      "Error loading video: MoviePy error: failed to read the first frame of video file 11.mp4 . That might mean that the file is corrupted. That may also mean that you are using a deprecated version of FFMPEG. On Ubuntu/Debian for instance the version in the repos is deprecated. Please update to a recent version from the website.\n"
     ]
    },
    {
     "name": "stderr",
     "output_type": "stream",
     "text": [
      "chunk:   1%|▏         | 1/67 [13:24<14:45:25, 804.92s/it, now=None]"
     ]
    },
    {
     "name": "stdout",
     "output_type": "stream",
     "text": [
      "MoviePy - Building video Non_Behaviour_clips\\clip_12_1.mp4.\n",
      "MoviePy - Writing audio in clip_12_1TEMP_MPY_wvf_snd.mp3\n"
     ]
    },
    {
     "name": "stderr",
     "output_type": "stream",
     "text": [
      "chunk:   1%|▏         | 1/67 [13:25<14:45:37, 805.11s/it, now=None]"
     ]
    },
    {
     "name": "stdout",
     "output_type": "stream",
     "text": [
      "MoviePy - Done.\n",
      "MoviePy - Writing video Non_Behaviour_clips\\clip_12_1.mp4\n",
      "\n"
     ]
    },
    {
     "name": "stderr",
     "output_type": "stream",
     "text": [
      "chunk:   1%|▏         | 1/67 [13:25<14:46:06, 805.56s/it, now=None]"
     ]
    },
    {
     "name": "stdout",
     "output_type": "stream",
     "text": [
      "MoviePy - Done !\n",
      "MoviePy - video ready Non_Behaviour_clips\\clip_12_1.mp4\n",
      "MoviePy - Building video Non_Behaviour_clips\\clip_12_2.mp4.\n",
      "MoviePy - Writing audio in clip_12_2TEMP_MPY_wvf_snd.mp3\n"
     ]
    },
    {
     "name": "stderr",
     "output_type": "stream",
     "text": [
      "chunk:   1%|▏         | 1/67 [13:25<14:46:19, 805.75s/it, now=None]"
     ]
    },
    {
     "name": "stdout",
     "output_type": "stream",
     "text": [
      "MoviePy - Done.\n",
      "MoviePy - Writing video Non_Behaviour_clips\\clip_12_2.mp4\n",
      "\n"
     ]
    },
    {
     "name": "stderr",
     "output_type": "stream",
     "text": [
      "chunk:   1%|▏         | 1/67 [13:26<14:46:46, 806.16s/it, now=None]"
     ]
    },
    {
     "name": "stdout",
     "output_type": "stream",
     "text": [
      "MoviePy - Done !\n",
      "MoviePy - video ready Non_Behaviour_clips\\clip_12_2.mp4\n",
      "MoviePy - Building video Non_Behaviour_clips\\clip_12_3.mp4.\n",
      "MoviePy - Writing audio in clip_12_3TEMP_MPY_wvf_snd.mp3\n"
     ]
    },
    {
     "name": "stderr",
     "output_type": "stream",
     "text": [
      "chunk:   1%|▏         | 1/67 [13:26<14:46:58, 806.34s/it, now=None]"
     ]
    },
    {
     "name": "stdout",
     "output_type": "stream",
     "text": [
      "MoviePy - Done.\n",
      "MoviePy - Writing video Non_Behaviour_clips\\clip_12_3.mp4\n",
      "\n"
     ]
    },
    {
     "name": "stderr",
     "output_type": "stream",
     "text": [
      "chunk:   1%|▏         | 1/67 [13:26<14:47:31, 806.85s/it, now=None]"
     ]
    },
    {
     "name": "stdout",
     "output_type": "stream",
     "text": [
      "MoviePy - Done !\n",
      "MoviePy - video ready Non_Behaviour_clips\\clip_12_3.mp4\n",
      "MoviePy - Building video Non_Behaviour_clips\\clip_12_4.mp4.\n",
      "MoviePy - Writing audio in clip_12_4TEMP_MPY_wvf_snd.mp3\n"
     ]
    },
    {
     "name": "stderr",
     "output_type": "stream",
     "text": [
      "chunk:   1%|▏         | 1/67 [13:27<14:47:43, 807.03s/it, now=None]"
     ]
    },
    {
     "name": "stdout",
     "output_type": "stream",
     "text": [
      "MoviePy - Done.\n",
      "MoviePy - Writing video Non_Behaviour_clips\\clip_12_4.mp4\n",
      "\n"
     ]
    },
    {
     "name": "stderr",
     "output_type": "stream",
     "text": [
      "chunk:   1%|▏         | 1/67 [13:27<14:48:12, 807.46s/it, now=None]"
     ]
    },
    {
     "name": "stdout",
     "output_type": "stream",
     "text": [
      "MoviePy - Done !\n",
      "MoviePy - video ready Non_Behaviour_clips\\clip_12_4.mp4\n",
      "MoviePy - Building video Non_Behaviour_clips\\clip_12_5.mp4.\n",
      "MoviePy - Writing audio in clip_12_5TEMP_MPY_wvf_snd.mp3\n"
     ]
    },
    {
     "name": "stderr",
     "output_type": "stream",
     "text": [
      "chunk:   1%|▏         | 1/67 [13:27<14:48:24, 807.65s/it, now=None]"
     ]
    },
    {
     "name": "stdout",
     "output_type": "stream",
     "text": [
      "MoviePy - Done.\n",
      "MoviePy - Writing video Non_Behaviour_clips\\clip_12_5.mp4\n",
      "\n"
     ]
    },
    {
     "name": "stderr",
     "output_type": "stream",
     "text": [
      "chunk:   1%|▏         | 1/67 [13:28<14:48:53, 808.08s/it, now=None]"
     ]
    },
    {
     "name": "stdout",
     "output_type": "stream",
     "text": [
      "MoviePy - Done !\n",
      "MoviePy - video ready Non_Behaviour_clips\\clip_12_5.mp4\n",
      "MoviePy - Building video Non_Behaviour_clips\\clip_12_6.mp4.\n",
      "MoviePy - Writing audio in clip_12_6TEMP_MPY_wvf_snd.mp3\n"
     ]
    },
    {
     "name": "stderr",
     "output_type": "stream",
     "text": [
      "chunk:   1%|▏         | 1/67 [13:28<14:49:05, 808.27s/it, now=None]"
     ]
    },
    {
     "name": "stdout",
     "output_type": "stream",
     "text": [
      "MoviePy - Done.\n",
      "MoviePy - Writing video Non_Behaviour_clips\\clip_12_6.mp4\n",
      "\n"
     ]
    },
    {
     "name": "stderr",
     "output_type": "stream",
     "text": [
      "chunk:   1%|▏         | 1/67 [13:28<14:49:31, 808.66s/it, now=None]"
     ]
    },
    {
     "name": "stdout",
     "output_type": "stream",
     "text": [
      "MoviePy - Done !\n",
      "MoviePy - video ready Non_Behaviour_clips\\clip_12_6.mp4\n",
      "MoviePy - Building video Non_Behaviour_clips\\clip_12_7.mp4.\n",
      "MoviePy - Writing audio in clip_12_7TEMP_MPY_wvf_snd.mp3\n"
     ]
    },
    {
     "name": "stderr",
     "output_type": "stream",
     "text": [
      "chunk:   1%|▏         | 1/67 [13:28<14:49:44, 808.86s/it, now=None]"
     ]
    },
    {
     "name": "stdout",
     "output_type": "stream",
     "text": [
      "MoviePy - Done.\n",
      "MoviePy - Writing video Non_Behaviour_clips\\clip_12_7.mp4\n",
      "\n"
     ]
    },
    {
     "name": "stderr",
     "output_type": "stream",
     "text": [
      "chunk:   1%|▏         | 1/67 [13:29<14:50:11, 809.26s/it, now=None]"
     ]
    },
    {
     "name": "stdout",
     "output_type": "stream",
     "text": [
      "MoviePy - Done !\n",
      "MoviePy - video ready Non_Behaviour_clips\\clip_12_7.mp4\n",
      "MoviePy - Building video Non_Behaviour_clips\\clip_12_8.mp4.\n",
      "MoviePy - Writing audio in clip_12_8TEMP_MPY_wvf_snd.mp3\n"
     ]
    },
    {
     "name": "stderr",
     "output_type": "stream",
     "text": [
      "chunk:   1%|▏         | 1/67 [13:29<14:50:23, 809.45s/it, now=None]"
     ]
    },
    {
     "name": "stdout",
     "output_type": "stream",
     "text": [
      "MoviePy - Done.\n",
      "MoviePy - Writing video Non_Behaviour_clips\\clip_12_8.mp4\n",
      "\n"
     ]
    },
    {
     "name": "stderr",
     "output_type": "stream",
     "text": [
      "chunk:   1%|▏         | 1/67 [13:29<14:50:53, 809.90s/it, now=None]"
     ]
    },
    {
     "name": "stdout",
     "output_type": "stream",
     "text": [
      "MoviePy - Done !\n",
      "MoviePy - video ready Non_Behaviour_clips\\clip_12_8.mp4\n",
      "MoviePy - Building video Non_Behaviour_clips\\clip_12_9.mp4.\n",
      "MoviePy - Writing audio in clip_12_9TEMP_MPY_wvf_snd.mp3\n"
     ]
    },
    {
     "name": "stderr",
     "output_type": "stream",
     "text": [
      "chunk:   1%|▏         | 1/67 [13:30<14:51:06, 810.10s/it, now=None]"
     ]
    },
    {
     "name": "stdout",
     "output_type": "stream",
     "text": [
      "MoviePy - Done.\n",
      "MoviePy - Writing video Non_Behaviour_clips\\clip_12_9.mp4\n",
      "\n"
     ]
    },
    {
     "name": "stderr",
     "output_type": "stream",
     "text": [
      "chunk:   1%|▏         | 1/67 [13:30<14:51:35, 810.54s/it, now=None]"
     ]
    },
    {
     "name": "stdout",
     "output_type": "stream",
     "text": [
      "MoviePy - Done !\n",
      "MoviePy - video ready Non_Behaviour_clips\\clip_12_9.mp4\n",
      "MoviePy - Building video Non_Behaviour_clips\\clip_12_10.mp4.\n",
      "MoviePy - Writing audio in clip_12_10TEMP_MPY_wvf_snd.mp3\n"
     ]
    },
    {
     "name": "stderr",
     "output_type": "stream",
     "text": [
      "chunk:   1%|▏         | 1/67 [13:30<14:51:47, 810.73s/it, now=None]"
     ]
    },
    {
     "name": "stdout",
     "output_type": "stream",
     "text": [
      "MoviePy - Done.\n",
      "MoviePy - Writing video Non_Behaviour_clips\\clip_12_10.mp4\n",
      "\n"
     ]
    },
    {
     "name": "stderr",
     "output_type": "stream",
     "text": [
      "chunk:   1%|▏         | 1/67 [13:31<14:52:13, 811.12s/it, now=None]"
     ]
    },
    {
     "name": "stdout",
     "output_type": "stream",
     "text": [
      "MoviePy - Done !\n",
      "MoviePy - video ready Non_Behaviour_clips\\clip_12_10.mp4\n",
      "MoviePy - Building video Non_Behaviour_clips\\clip_12_11.mp4.\n",
      "MoviePy - Writing audio in clip_12_11TEMP_MPY_wvf_snd.mp3\n"
     ]
    },
    {
     "name": "stderr",
     "output_type": "stream",
     "text": [
      "chunk:   1%|▏         | 1/67 [13:31<14:52:26, 811.31s/it, now=None]"
     ]
    },
    {
     "name": "stdout",
     "output_type": "stream",
     "text": [
      "MoviePy - Done.\n",
      "MoviePy - Writing video Non_Behaviour_clips\\clip_12_11.mp4\n",
      "\n"
     ]
    },
    {
     "name": "stderr",
     "output_type": "stream",
     "text": [
      "chunk:   1%|▏         | 1/67 [13:31<14:52:54, 811.74s/it, now=None]"
     ]
    },
    {
     "name": "stdout",
     "output_type": "stream",
     "text": [
      "MoviePy - Done !\n",
      "MoviePy - video ready Non_Behaviour_clips\\clip_12_11.mp4\n",
      "MoviePy - Building video Non_Behaviour_clips\\clip_12_12.mp4.\n",
      "MoviePy - Writing audio in clip_12_12TEMP_MPY_wvf_snd.mp3\n"
     ]
    },
    {
     "name": "stderr",
     "output_type": "stream",
     "text": [
      "chunk:   1%|▏         | 1/67 [13:31<14:53:06, 811.92s/it, now=None]"
     ]
    },
    {
     "name": "stdout",
     "output_type": "stream",
     "text": [
      "MoviePy - Done.\n",
      "MoviePy - Writing video Non_Behaviour_clips\\clip_12_12.mp4\n",
      "\n"
     ]
    },
    {
     "name": "stderr",
     "output_type": "stream",
     "text": [
      "chunk:   1%|▏         | 1/67 [13:32<14:53:35, 812.36s/it, now=None]"
     ]
    },
    {
     "name": "stdout",
     "output_type": "stream",
     "text": [
      "MoviePy - Done !\n",
      "MoviePy - video ready Non_Behaviour_clips\\clip_12_12.mp4\n",
      "MoviePy - Building video Non_Behaviour_clips\\clip_12_13.mp4.\n",
      "MoviePy - Writing audio in clip_12_13TEMP_MPY_wvf_snd.mp3\n"
     ]
    },
    {
     "name": "stderr",
     "output_type": "stream",
     "text": [
      "chunk:   1%|▏         | 1/67 [13:32<14:53:47, 812.54s/it, now=None]"
     ]
    },
    {
     "name": "stdout",
     "output_type": "stream",
     "text": [
      "MoviePy - Done.\n",
      "MoviePy - Writing video Non_Behaviour_clips\\clip_12_13.mp4\n",
      "\n"
     ]
    },
    {
     "name": "stderr",
     "output_type": "stream",
     "text": [
      "chunk:   1%|▏         | 1/67 [13:32<14:54:17, 812.99s/it, now=None]"
     ]
    },
    {
     "name": "stdout",
     "output_type": "stream",
     "text": [
      "MoviePy - Done !\n",
      "MoviePy - video ready Non_Behaviour_clips\\clip_12_13.mp4\n",
      "MoviePy - Building video Non_Behaviour_clips\\clip_12_14.mp4.\n",
      "MoviePy - Writing audio in clip_12_14TEMP_MPY_wvf_snd.mp3\n"
     ]
    },
    {
     "name": "stderr",
     "output_type": "stream",
     "text": [
      "chunk:   1%|▏         | 1/67 [13:33<14:54:28, 813.16s/it, now=None]"
     ]
    },
    {
     "name": "stdout",
     "output_type": "stream",
     "text": [
      "MoviePy - Done.\n",
      "MoviePy - Writing video Non_Behaviour_clips\\clip_12_14.mp4\n",
      "\n"
     ]
    },
    {
     "name": "stderr",
     "output_type": "stream",
     "text": [
      "chunk:   1%|▏         | 1/67 [13:33<14:54:56, 813.59s/it, now=None]"
     ]
    },
    {
     "name": "stdout",
     "output_type": "stream",
     "text": [
      "MoviePy - Done !\n",
      "MoviePy - video ready Non_Behaviour_clips\\clip_12_14.mp4\n",
      "MoviePy - Building video Non_Behaviour_clips\\clip_12_15.mp4.\n",
      "MoviePy - Writing audio in clip_12_15TEMP_MPY_wvf_snd.mp3\n"
     ]
    },
    {
     "name": "stderr",
     "output_type": "stream",
     "text": [
      "chunk:   1%|▏         | 1/67 [13:33<14:55:08, 813.76s/it, now=None]"
     ]
    },
    {
     "name": "stdout",
     "output_type": "stream",
     "text": [
      "MoviePy - Done.\n",
      "MoviePy - Writing video Non_Behaviour_clips\\clip_12_15.mp4\n",
      "\n"
     ]
    },
    {
     "name": "stderr",
     "output_type": "stream",
     "text": [
      "chunk:   1%|▏         | 1/67 [13:34<14:55:35, 814.18s/it, now=None]"
     ]
    },
    {
     "name": "stdout",
     "output_type": "stream",
     "text": [
      "MoviePy - Done !\n",
      "MoviePy - video ready Non_Behaviour_clips\\clip_12_15.mp4\n",
      "MoviePy - Building video Non_Behaviour_clips\\clip_12_16.mp4.\n",
      "MoviePy - Writing audio in clip_12_16TEMP_MPY_wvf_snd.mp3\n"
     ]
    },
    {
     "name": "stderr",
     "output_type": "stream",
     "text": [
      "chunk:   1%|▏         | 1/67 [13:34<14:55:47, 814.36s/it, now=None]"
     ]
    },
    {
     "name": "stdout",
     "output_type": "stream",
     "text": [
      "MoviePy - Done.\n",
      "MoviePy - Writing video Non_Behaviour_clips\\clip_12_16.mp4\n",
      "\n"
     ]
    },
    {
     "name": "stderr",
     "output_type": "stream",
     "text": [
      "chunk:   1%|▏         | 1/67 [13:34<14:56:14, 814.76s/it, now=None]"
     ]
    },
    {
     "name": "stdout",
     "output_type": "stream",
     "text": [
      "MoviePy - Done !\n",
      "MoviePy - video ready Non_Behaviour_clips\\clip_12_16.mp4\n",
      "MoviePy - Building video Non_Behaviour_clips\\clip_12_17.mp4.\n",
      "MoviePy - Writing audio in clip_12_17TEMP_MPY_wvf_snd.mp3\n"
     ]
    },
    {
     "name": "stderr",
     "output_type": "stream",
     "text": [
      "chunk:   1%|▏         | 1/67 [13:34<14:56:26, 814.95s/it, now=None]"
     ]
    },
    {
     "name": "stdout",
     "output_type": "stream",
     "text": [
      "MoviePy - Done.\n",
      "MoviePy - Writing video Non_Behaviour_clips\\clip_12_17.mp4\n",
      "\n"
     ]
    },
    {
     "name": "stderr",
     "output_type": "stream",
     "text": [
      "chunk:   1%|▏         | 1/67 [13:35<14:56:53, 815.35s/it, now=None]"
     ]
    },
    {
     "name": "stdout",
     "output_type": "stream",
     "text": [
      "MoviePy - Done !\n",
      "MoviePy - video ready Non_Behaviour_clips\\clip_12_17.mp4\n",
      "MoviePy - Building video Non_Behaviour_clips\\clip_12_18.mp4.\n",
      "MoviePy - Writing audio in clip_12_18TEMP_MPY_wvf_snd.mp3\n"
     ]
    },
    {
     "name": "stderr",
     "output_type": "stream",
     "text": [
      "chunk:   1%|▏         | 1/67 [13:35<14:57:05, 815.54s/it, now=None]"
     ]
    },
    {
     "name": "stdout",
     "output_type": "stream",
     "text": [
      "MoviePy - Done.\n",
      "MoviePy - Writing video Non_Behaviour_clips\\clip_12_18.mp4\n",
      "\n"
     ]
    },
    {
     "name": "stderr",
     "output_type": "stream",
     "text": [
      "chunk:   1%|▏         | 1/67 [13:35<14:57:32, 815.94s/it, now=None]"
     ]
    },
    {
     "name": "stdout",
     "output_type": "stream",
     "text": [
      "MoviePy - Done !\n",
      "MoviePy - video ready Non_Behaviour_clips\\clip_12_18.mp4\n",
      "MoviePy - Building video Non_Behaviour_clips\\clip_12_19.mp4.\n",
      "MoviePy - Writing audio in clip_12_19TEMP_MPY_wvf_snd.mp3\n"
     ]
    },
    {
     "name": "stderr",
     "output_type": "stream",
     "text": [
      "chunk:   1%|▏         | 1/67 [13:36<14:57:43, 816.12s/it, now=None]"
     ]
    },
    {
     "name": "stdout",
     "output_type": "stream",
     "text": [
      "MoviePy - Done.\n",
      "MoviePy - Writing video Non_Behaviour_clips\\clip_12_19.mp4\n",
      "\n"
     ]
    },
    {
     "name": "stderr",
     "output_type": "stream",
     "text": [
      "chunk:   1%|▏         | 1/67 [13:36<14:58:11, 816.53s/it, now=None]"
     ]
    },
    {
     "name": "stdout",
     "output_type": "stream",
     "text": [
      "MoviePy - Done !\n",
      "MoviePy - video ready Non_Behaviour_clips\\clip_12_19.mp4\n",
      "MoviePy - Building video Non_Behaviour_clips\\clip_12_20.mp4.\n",
      "MoviePy - Writing audio in clip_12_20TEMP_MPY_wvf_snd.mp3\n"
     ]
    },
    {
     "name": "stderr",
     "output_type": "stream",
     "text": [
      "chunk:   1%|▏         | 1/67 [13:36<14:58:24, 816.73s/it, now=None]"
     ]
    },
    {
     "name": "stdout",
     "output_type": "stream",
     "text": [
      "MoviePy - Done.\n",
      "MoviePy - Writing video Non_Behaviour_clips\\clip_12_20.mp4\n",
      "\n"
     ]
    },
    {
     "name": "stderr",
     "output_type": "stream",
     "text": [
      "chunk:   1%|▏         | 1/67 [13:37<14:58:49, 817.12s/it, now=None]"
     ]
    },
    {
     "name": "stdout",
     "output_type": "stream",
     "text": [
      "MoviePy - Done !\n",
      "MoviePy - video ready Non_Behaviour_clips\\clip_12_20.mp4\n",
      "MoviePy - Building video Non_Behaviour_clips\\clip_12_21.mp4.\n",
      "MoviePy - Writing audio in clip_12_21TEMP_MPY_wvf_snd.mp3\n"
     ]
    },
    {
     "name": "stderr",
     "output_type": "stream",
     "text": [
      "chunk:   1%|▏         | 1/67 [13:37<14:59:01, 817.30s/it, now=None]"
     ]
    },
    {
     "name": "stdout",
     "output_type": "stream",
     "text": [
      "MoviePy - Done.\n",
      "MoviePy - Writing video Non_Behaviour_clips\\clip_12_21.mp4\n",
      "\n"
     ]
    },
    {
     "name": "stderr",
     "output_type": "stream",
     "text": [
      "chunk:   1%|▏         | 1/67 [13:37<14:59:29, 817.72s/it, now=None]"
     ]
    },
    {
     "name": "stdout",
     "output_type": "stream",
     "text": [
      "MoviePy - Done !\n",
      "MoviePy - video ready Non_Behaviour_clips\\clip_12_21.mp4\n",
      "MoviePy - Building video Non_Behaviour_clips\\clip_12_22.mp4.\n",
      "MoviePy - Writing audio in clip_12_22TEMP_MPY_wvf_snd.mp3\n"
     ]
    },
    {
     "name": "stderr",
     "output_type": "stream",
     "text": [
      "chunk:   1%|▏         | 1/67 [13:37<14:59:41, 817.91s/it, now=None]"
     ]
    },
    {
     "name": "stdout",
     "output_type": "stream",
     "text": [
      "MoviePy - Done.\n",
      "MoviePy - Writing video Non_Behaviour_clips\\clip_12_22.mp4\n",
      "\n"
     ]
    },
    {
     "name": "stderr",
     "output_type": "stream",
     "text": [
      "chunk:   1%|▏         | 1/67 [13:38<15:00:10, 818.34s/it, now=None]"
     ]
    },
    {
     "name": "stdout",
     "output_type": "stream",
     "text": [
      "MoviePy - Done !\n",
      "MoviePy - video ready Non_Behaviour_clips\\clip_12_22.mp4\n",
      "MoviePy - Building video Non_Behaviour_clips\\clip_12_23.mp4.\n",
      "MoviePy - Writing audio in clip_12_23TEMP_MPY_wvf_snd.mp3\n"
     ]
    },
    {
     "name": "stderr",
     "output_type": "stream",
     "text": [
      "chunk:   1%|▏         | 1/67 [13:38<15:00:23, 818.53s/it, now=None]"
     ]
    },
    {
     "name": "stdout",
     "output_type": "stream",
     "text": [
      "MoviePy - Done.\n",
      "MoviePy - Writing video Non_Behaviour_clips\\clip_12_23.mp4\n",
      "\n"
     ]
    },
    {
     "name": "stderr",
     "output_type": "stream",
     "text": [
      "chunk:   1%|▏         | 1/67 [13:38<15:00:53, 818.99s/it, now=None]"
     ]
    },
    {
     "name": "stdout",
     "output_type": "stream",
     "text": [
      "MoviePy - Done !\n",
      "MoviePy - video ready Non_Behaviour_clips\\clip_12_23.mp4\n",
      "MoviePy - Building video Non_Behaviour_clips\\clip_12_24.mp4.\n",
      "MoviePy - Writing audio in clip_12_24TEMP_MPY_wvf_snd.mp3\n"
     ]
    },
    {
     "name": "stderr",
     "output_type": "stream",
     "text": [
      "chunk:   1%|▏         | 1/67 [13:39<15:01:04, 819.16s/it, now=None]"
     ]
    },
    {
     "name": "stdout",
     "output_type": "stream",
     "text": [
      "MoviePy - Done.\n",
      "MoviePy - Writing video Non_Behaviour_clips\\clip_12_24.mp4\n",
      "\n"
     ]
    },
    {
     "name": "stderr",
     "output_type": "stream",
     "text": [
      "chunk:   1%|▏         | 1/67 [13:39<15:01:34, 819.62s/it, now=None]"
     ]
    },
    {
     "name": "stdout",
     "output_type": "stream",
     "text": [
      "MoviePy - Done !\n",
      "MoviePy - video ready Non_Behaviour_clips\\clip_12_24.mp4\n",
      "MoviePy - Building video Non_Behaviour_clips\\clip_12_25.mp4.\n",
      "MoviePy - Writing audio in clip_12_25TEMP_MPY_wvf_snd.mp3\n"
     ]
    },
    {
     "name": "stderr",
     "output_type": "stream",
     "text": [
      "chunk:   1%|▏         | 1/67 [13:39<15:01:46, 819.80s/it, now=None]"
     ]
    },
    {
     "name": "stdout",
     "output_type": "stream",
     "text": [
      "MoviePy - Done.\n",
      "MoviePy - Writing video Non_Behaviour_clips\\clip_12_25.mp4\n",
      "\n"
     ]
    },
    {
     "name": "stderr",
     "output_type": "stream",
     "text": [
      "chunk:   1%|▏         | 1/67 [13:40<15:02:14, 820.23s/it, now=None]"
     ]
    },
    {
     "name": "stdout",
     "output_type": "stream",
     "text": [
      "MoviePy - Done !\n",
      "MoviePy - video ready Non_Behaviour_clips\\clip_12_25.mp4\n",
      "MoviePy - Building video Non_Behaviour_clips\\clip_12_26.mp4.\n",
      "MoviePy - Writing audio in clip_12_26TEMP_MPY_wvf_snd.mp3\n"
     ]
    },
    {
     "name": "stderr",
     "output_type": "stream",
     "text": [
      "chunk:   1%|▏         | 1/67 [13:40<15:02:27, 820.42s/it, now=None]"
     ]
    },
    {
     "name": "stdout",
     "output_type": "stream",
     "text": [
      "MoviePy - Done.\n",
      "MoviePy - Writing video Non_Behaviour_clips\\clip_12_26.mp4\n",
      "\n"
     ]
    },
    {
     "name": "stderr",
     "output_type": "stream",
     "text": [
      "chunk:   1%|▏         | 1/67 [13:40<15:02:56, 820.85s/it, now=None]"
     ]
    },
    {
     "name": "stdout",
     "output_type": "stream",
     "text": [
      "MoviePy - Done !\n",
      "MoviePy - video ready Non_Behaviour_clips\\clip_12_26.mp4\n",
      "MoviePy - Building video Non_Behaviour_clips\\clip_12_27.mp4.\n",
      "MoviePy - Writing audio in clip_12_27TEMP_MPY_wvf_snd.mp3\n"
     ]
    },
    {
     "name": "stderr",
     "output_type": "stream",
     "text": [
      "chunk:   1%|▏         | 1/67 [13:41<15:03:08, 821.03s/it, now=None]"
     ]
    },
    {
     "name": "stdout",
     "output_type": "stream",
     "text": [
      "MoviePy - Done.\n",
      "MoviePy - Writing video Non_Behaviour_clips\\clip_12_27.mp4\n",
      "\n"
     ]
    },
    {
     "name": "stderr",
     "output_type": "stream",
     "text": [
      "chunk:   1%|▏         | 1/67 [13:41<15:03:35, 821.45s/it, now=None]"
     ]
    },
    {
     "name": "stdout",
     "output_type": "stream",
     "text": [
      "MoviePy - Done !\n",
      "MoviePy - video ready Non_Behaviour_clips\\clip_12_27.mp4\n",
      "MoviePy - Building video Non_Behaviour_clips\\clip_12_28.mp4.\n",
      "MoviePy - Writing audio in clip_12_28TEMP_MPY_wvf_snd.mp3\n"
     ]
    },
    {
     "name": "stderr",
     "output_type": "stream",
     "text": [
      "chunk:   1%|▏         | 1/67 [13:41<15:03:47, 821.62s/it, now=None]"
     ]
    },
    {
     "name": "stdout",
     "output_type": "stream",
     "text": [
      "MoviePy - Done.\n",
      "MoviePy - Writing video Non_Behaviour_clips\\clip_12_28.mp4\n",
      "\n"
     ]
    },
    {
     "name": "stderr",
     "output_type": "stream",
     "text": [
      "chunk:   1%|▏         | 1/67 [13:42<15:04:15, 822.05s/it, now=None]"
     ]
    },
    {
     "name": "stdout",
     "output_type": "stream",
     "text": [
      "MoviePy - Done !\n",
      "MoviePy - video ready Non_Behaviour_clips\\clip_12_28.mp4\n",
      "MoviePy - Building video Non_Behaviour_clips\\clip_12_29.mp4.\n",
      "MoviePy - Writing audio in clip_12_29TEMP_MPY_wvf_snd.mp3\n"
     ]
    },
    {
     "name": "stderr",
     "output_type": "stream",
     "text": [
      "chunk:   1%|▏         | 1/67 [13:42<15:04:28, 822.24s/it, now=None]"
     ]
    },
    {
     "name": "stdout",
     "output_type": "stream",
     "text": [
      "MoviePy - Done.\n",
      "MoviePy - Writing video Non_Behaviour_clips\\clip_12_29.mp4\n",
      "\n"
     ]
    },
    {
     "name": "stderr",
     "output_type": "stream",
     "text": [
      "chunk:   1%|▏         | 1/67 [13:42<15:04:56, 822.68s/it, now=None]"
     ]
    },
    {
     "name": "stdout",
     "output_type": "stream",
     "text": [
      "MoviePy - Done !\n",
      "MoviePy - video ready Non_Behaviour_clips\\clip_12_29.mp4\n",
      "MoviePy - Building video Non_Behaviour_clips\\clip_12_30.mp4.\n",
      "MoviePy - Writing audio in clip_12_30TEMP_MPY_wvf_snd.mp3\n"
     ]
    },
    {
     "name": "stderr",
     "output_type": "stream",
     "text": [
      "chunk:   1%|▏         | 1/67 [13:42<15:05:08, 822.86s/it, now=None]"
     ]
    },
    {
     "name": "stdout",
     "output_type": "stream",
     "text": [
      "MoviePy - Done.\n",
      "MoviePy - Writing video Non_Behaviour_clips\\clip_12_30.mp4\n",
      "\n"
     ]
    },
    {
     "name": "stderr",
     "output_type": "stream",
     "text": [
      "chunk:   1%|▏         | 1/67 [13:43<15:05:40, 823.34s/it, now=None]"
     ]
    },
    {
     "name": "stdout",
     "output_type": "stream",
     "text": [
      "MoviePy - Done !\n",
      "MoviePy - video ready Non_Behaviour_clips\\clip_12_30.mp4\n",
      "MoviePy - Building video Non_Behaviour_clips\\clip_12_31.mp4.\n",
      "MoviePy - Writing audio in clip_12_31TEMP_MPY_wvf_snd.mp3\n"
     ]
    },
    {
     "name": "stderr",
     "output_type": "stream",
     "text": [
      "chunk:   1%|▏         | 1/67 [13:43<15:05:51, 823.51s/it, now=None]"
     ]
    },
    {
     "name": "stdout",
     "output_type": "stream",
     "text": [
      "MoviePy - Done.\n",
      "MoviePy - Writing video Non_Behaviour_clips\\clip_12_31.mp4\n",
      "\n"
     ]
    },
    {
     "name": "stderr",
     "output_type": "stream",
     "text": [
      "chunk:   1%|▏         | 1/67 [13:43<15:06:23, 823.99s/it, now=None]"
     ]
    },
    {
     "name": "stdout",
     "output_type": "stream",
     "text": [
      "MoviePy - Done !\n",
      "MoviePy - video ready Non_Behaviour_clips\\clip_12_31.mp4\n",
      "MoviePy - Building video Non_Behaviour_clips\\clip_12_32.mp4.\n",
      "MoviePy - Writing audio in clip_12_32TEMP_MPY_wvf_snd.mp3\n"
     ]
    },
    {
     "name": "stderr",
     "output_type": "stream",
     "text": [
      "chunk:   1%|▏         | 1/67 [13:44<15:06:36, 824.18s/it, now=None]"
     ]
    },
    {
     "name": "stdout",
     "output_type": "stream",
     "text": [
      "MoviePy - Done.\n",
      "MoviePy - Writing video Non_Behaviour_clips\\clip_12_32.mp4\n",
      "\n"
     ]
    },
    {
     "name": "stderr",
     "output_type": "stream",
     "text": [
      "chunk:   1%|▏         | 1/67 [13:44<15:07:05, 824.63s/it, now=None]"
     ]
    },
    {
     "name": "stdout",
     "output_type": "stream",
     "text": [
      "MoviePy - Done !\n",
      "MoviePy - video ready Non_Behaviour_clips\\clip_12_32.mp4\n",
      "MoviePy - Building video Non_Behaviour_clips\\clip_12_33.mp4.\n",
      "MoviePy - Writing audio in clip_12_33TEMP_MPY_wvf_snd.mp3\n"
     ]
    },
    {
     "name": "stderr",
     "output_type": "stream",
     "text": [
      "chunk:   1%|▏         | 1/67 [13:44<15:07:17, 824.82s/it, now=None]"
     ]
    },
    {
     "name": "stdout",
     "output_type": "stream",
     "text": [
      "MoviePy - Done.\n",
      "MoviePy - Writing video Non_Behaviour_clips\\clip_12_33.mp4\n",
      "\n"
     ]
    },
    {
     "name": "stderr",
     "output_type": "stream",
     "text": [
      "chunk:   1%|▏         | 1/67 [13:45<15:07:46, 825.26s/it, now=None]"
     ]
    },
    {
     "name": "stdout",
     "output_type": "stream",
     "text": [
      "MoviePy - Done !\n",
      "MoviePy - video ready Non_Behaviour_clips\\clip_12_33.mp4\n",
      "MoviePy - Building video Non_Behaviour_clips\\clip_12_34.mp4.\n",
      "MoviePy - Writing audio in clip_12_34TEMP_MPY_wvf_snd.mp3\n"
     ]
    },
    {
     "name": "stderr",
     "output_type": "stream",
     "text": [
      "chunk:   1%|▏         | 1/67 [13:45<15:07:58, 825.44s/it, now=None]"
     ]
    },
    {
     "name": "stdout",
     "output_type": "stream",
     "text": [
      "MoviePy - Done.\n",
      "MoviePy - Writing video Non_Behaviour_clips\\clip_12_34.mp4\n",
      "\n"
     ]
    },
    {
     "name": "stderr",
     "output_type": "stream",
     "text": [
      "chunk:   1%|▏         | 1/67 [13:45<15:08:26, 825.86s/it, now=None]"
     ]
    },
    {
     "name": "stdout",
     "output_type": "stream",
     "text": [
      "MoviePy - Done !\n",
      "MoviePy - video ready Non_Behaviour_clips\\clip_12_34.mp4\n",
      "MoviePy - Building video Non_Behaviour_clips\\clip_12_35.mp4.\n",
      "MoviePy - Writing audio in clip_12_35TEMP_MPY_wvf_snd.mp3\n"
     ]
    },
    {
     "name": "stderr",
     "output_type": "stream",
     "text": [
      "chunk:   1%|▏         | 1/67 [13:46<15:08:38, 826.03s/it, now=None]"
     ]
    },
    {
     "name": "stdout",
     "output_type": "stream",
     "text": [
      "MoviePy - Done.\n",
      "MoviePy - Writing video Non_Behaviour_clips\\clip_12_35.mp4\n",
      "\n"
     ]
    },
    {
     "name": "stderr",
     "output_type": "stream",
     "text": [
      "chunk:   1%|▏         | 1/67 [13:46<15:09:06, 826.46s/it, now=None]"
     ]
    },
    {
     "name": "stdout",
     "output_type": "stream",
     "text": [
      "MoviePy - Done !\n",
      "MoviePy - video ready Non_Behaviour_clips\\clip_12_35.mp4\n",
      "MoviePy - Building video Non_Behaviour_clips\\clip_12_36.mp4.\n",
      "MoviePy - Writing audio in clip_12_36TEMP_MPY_wvf_snd.mp3\n"
     ]
    },
    {
     "name": "stderr",
     "output_type": "stream",
     "text": [
      "chunk:   1%|▏         | 1/67 [13:46<15:09:17, 826.64s/it, now=None]"
     ]
    },
    {
     "name": "stdout",
     "output_type": "stream",
     "text": [
      "MoviePy - Done.\n",
      "MoviePy - Writing video Non_Behaviour_clips\\clip_12_36.mp4\n",
      "\n"
     ]
    },
    {
     "name": "stderr",
     "output_type": "stream",
     "text": [
      "chunk:   1%|▏         | 1/67 [13:47<15:09:47, 827.08s/it, now=None]"
     ]
    },
    {
     "name": "stdout",
     "output_type": "stream",
     "text": [
      "MoviePy - Done !\n",
      "MoviePy - video ready Non_Behaviour_clips\\clip_12_36.mp4\n",
      "MoviePy - Building video Non_Behaviour_clips\\clip_12_37.mp4.\n",
      "MoviePy - Writing audio in clip_12_37TEMP_MPY_wvf_snd.mp3\n"
     ]
    },
    {
     "name": "stderr",
     "output_type": "stream",
     "text": [
      "chunk:   1%|▏         | 1/67 [13:47<15:09:59, 827.26s/it, now=None]"
     ]
    },
    {
     "name": "stdout",
     "output_type": "stream",
     "text": [
      "MoviePy - Done.\n",
      "MoviePy - Writing video Non_Behaviour_clips\\clip_12_37.mp4\n",
      "\n"
     ]
    },
    {
     "name": "stderr",
     "output_type": "stream",
     "text": [
      "chunk:   1%|▏         | 1/67 [13:47<15:10:27, 827.69s/it, now=None]"
     ]
    },
    {
     "name": "stdout",
     "output_type": "stream",
     "text": [
      "MoviePy - Done !\n",
      "MoviePy - video ready Non_Behaviour_clips\\clip_12_37.mp4\n",
      "MoviePy - Building video Non_Behaviour_clips\\clip_12_38.mp4.\n",
      "MoviePy - Writing audio in clip_12_38TEMP_MPY_wvf_snd.mp3\n"
     ]
    },
    {
     "name": "stderr",
     "output_type": "stream",
     "text": [
      "chunk:   1%|▏         | 1/67 [13:47<15:10:40, 827.89s/it, now=None]"
     ]
    },
    {
     "name": "stdout",
     "output_type": "stream",
     "text": [
      "MoviePy - Done.\n",
      "MoviePy - Writing video Non_Behaviour_clips\\clip_12_38.mp4\n",
      "\n"
     ]
    },
    {
     "name": "stderr",
     "output_type": "stream",
     "text": [
      "chunk:   1%|▏         | 1/67 [13:48<15:11:08, 828.31s/it, now=None]"
     ]
    },
    {
     "name": "stdout",
     "output_type": "stream",
     "text": [
      "MoviePy - Done !\n",
      "MoviePy - video ready Non_Behaviour_clips\\clip_12_38.mp4\n",
      "MoviePy - Building video Non_Behaviour_clips\\clip_12_39.mp4.\n",
      "MoviePy - Writing audio in clip_12_39TEMP_MPY_wvf_snd.mp3\n"
     ]
    },
    {
     "name": "stderr",
     "output_type": "stream",
     "text": [
      "chunk:   1%|▏         | 1/67 [13:48<15:11:21, 828.51s/it, now=None]"
     ]
    },
    {
     "name": "stdout",
     "output_type": "stream",
     "text": [
      "MoviePy - Done.\n",
      "MoviePy - Writing video Non_Behaviour_clips\\clip_12_39.mp4\n",
      "\n"
     ]
    },
    {
     "name": "stderr",
     "output_type": "stream",
     "text": [
      "chunk:   1%|▏         | 1/67 [13:48<15:11:48, 828.92s/it, now=None]"
     ]
    },
    {
     "name": "stdout",
     "output_type": "stream",
     "text": [
      "MoviePy - Done !\n",
      "MoviePy - video ready Non_Behaviour_clips\\clip_12_39.mp4\n",
      "MoviePy - Building video Non_Behaviour_clips\\clip_12_40.mp4.\n",
      "MoviePy - Writing audio in clip_12_40TEMP_MPY_wvf_snd.mp3\n"
     ]
    },
    {
     "name": "stderr",
     "output_type": "stream",
     "text": [
      "chunk:   1%|▏         | 1/67 [13:49<15:12:01, 829.11s/it, now=None]"
     ]
    },
    {
     "name": "stdout",
     "output_type": "stream",
     "text": [
      "MoviePy - Done.\n",
      "MoviePy - Writing video Non_Behaviour_clips\\clip_12_40.mp4\n",
      "\n"
     ]
    },
    {
     "name": "stderr",
     "output_type": "stream",
     "text": [
      "chunk:   1%|▏         | 1/67 [13:49<15:12:31, 829.56s/it, now=None]"
     ]
    },
    {
     "name": "stdout",
     "output_type": "stream",
     "text": [
      "MoviePy - Done !\n",
      "MoviePy - video ready Non_Behaviour_clips\\clip_12_40.mp4\n",
      "MoviePy - Building video Non_Behaviour_clips\\clip_12_41.mp4.\n",
      "MoviePy - Writing audio in clip_12_41TEMP_MPY_wvf_snd.mp3\n"
     ]
    },
    {
     "name": "stderr",
     "output_type": "stream",
     "text": [
      "chunk:   1%|▏         | 1/67 [13:49<15:12:43, 829.74s/it, now=None]"
     ]
    },
    {
     "name": "stdout",
     "output_type": "stream",
     "text": [
      "MoviePy - Done.\n",
      "MoviePy - Writing video Non_Behaviour_clips\\clip_12_41.mp4\n",
      "\n"
     ]
    },
    {
     "name": "stderr",
     "output_type": "stream",
     "text": [
      "chunk:   1%|▏         | 1/67 [13:50<15:13:11, 830.17s/it, now=None]"
     ]
    },
    {
     "name": "stdout",
     "output_type": "stream",
     "text": [
      "MoviePy - Done !\n",
      "MoviePy - video ready Non_Behaviour_clips\\clip_12_41.mp4\n",
      "MoviePy - Building video Non_Behaviour_clips\\clip_12_42.mp4.\n",
      "MoviePy - Writing audio in clip_12_42TEMP_MPY_wvf_snd.mp3\n"
     ]
    },
    {
     "name": "stderr",
     "output_type": "stream",
     "text": [
      "chunk:   1%|▏         | 1/67 [13:50<15:13:24, 830.37s/it, now=None]"
     ]
    },
    {
     "name": "stdout",
     "output_type": "stream",
     "text": [
      "MoviePy - Done.\n",
      "MoviePy - Writing video Non_Behaviour_clips\\clip_12_42.mp4\n",
      "\n"
     ]
    },
    {
     "name": "stderr",
     "output_type": "stream",
     "text": [
      "chunk:   1%|▏         | 1/67 [13:50<15:13:51, 830.78s/it, now=None]"
     ]
    },
    {
     "name": "stdout",
     "output_type": "stream",
     "text": [
      "MoviePy - Done !\n",
      "MoviePy - video ready Non_Behaviour_clips\\clip_12_42.mp4\n",
      "MoviePy - Building video Non_Behaviour_clips\\clip_12_43.mp4.\n",
      "MoviePy - Writing audio in clip_12_43TEMP_MPY_wvf_snd.mp3\n"
     ]
    },
    {
     "name": "stderr",
     "output_type": "stream",
     "text": [
      "chunk:   1%|▏         | 1/67 [13:50<15:14:03, 830.96s/it, now=None]"
     ]
    },
    {
     "name": "stdout",
     "output_type": "stream",
     "text": [
      "MoviePy - Done.\n",
      "MoviePy - Writing video Non_Behaviour_clips\\clip_12_43.mp4\n",
      "\n"
     ]
    },
    {
     "name": "stderr",
     "output_type": "stream",
     "text": [
      "chunk:   1%|▏         | 1/67 [13:51<15:14:29, 831.36s/it, now=None]"
     ]
    },
    {
     "name": "stdout",
     "output_type": "stream",
     "text": [
      "MoviePy - Done !\n",
      "MoviePy - video ready Non_Behaviour_clips\\clip_12_43.mp4\n",
      "MoviePy - Building video Non_Behaviour_clips\\clip_12_44.mp4.\n",
      "MoviePy - Writing audio in clip_12_44TEMP_MPY_wvf_snd.mp3\n"
     ]
    },
    {
     "name": "stderr",
     "output_type": "stream",
     "text": [
      "chunk:   1%|▏         | 1/67 [13:51<15:14:40, 831.52s/it, now=None]"
     ]
    },
    {
     "name": "stdout",
     "output_type": "stream",
     "text": [
      "MoviePy - Done.\n",
      "MoviePy - Writing video Non_Behaviour_clips\\clip_12_44.mp4\n",
      "\n"
     ]
    },
    {
     "name": "stderr",
     "output_type": "stream",
     "text": [
      "chunk:   1%|▏         | 1/67 [13:51<15:15:05, 831.90s/it, now=None]"
     ]
    },
    {
     "name": "stdout",
     "output_type": "stream",
     "text": [
      "MoviePy - Done !\n",
      "MoviePy - video ready Non_Behaviour_clips\\clip_12_44.mp4\n"
     ]
    },
    {
     "name": "stderr",
     "output_type": "stream",
     "text": [
      "chunk:   1%|▏         | 1/67 [13:52<15:15:37, 832.38s/it, now=None]"
     ]
    },
    {
     "name": "stdout",
     "output_type": "stream",
     "text": [
      "MoviePy - Building video Non_Behaviour_clips\\clip_13_1.mp4.\n",
      "MoviePy - Writing audio in clip_13_1TEMP_MPY_wvf_snd.mp3\n"
     ]
    },
    {
     "name": "stderr",
     "output_type": "stream",
     "text": [
      "chunk:   1%|▏         | 1/67 [13:52<15:15:48, 832.56s/it, now=None]"
     ]
    },
    {
     "name": "stdout",
     "output_type": "stream",
     "text": [
      "MoviePy - Done.\n",
      "MoviePy - Writing video Non_Behaviour_clips\\clip_13_1.mp4\n",
      "\n"
     ]
    },
    {
     "name": "stderr",
     "output_type": "stream",
     "text": [
      "chunk:   1%|▏         | 1/67 [13:53<15:16:34, 833.25s/it, now=None]"
     ]
    },
    {
     "name": "stdout",
     "output_type": "stream",
     "text": [
      "MoviePy - Done !\n",
      "MoviePy - video ready Non_Behaviour_clips\\clip_13_1.mp4\n",
      "MoviePy - Building video Non_Behaviour_clips\\clip_13_2.mp4.\n",
      "MoviePy - Writing audio in clip_13_2TEMP_MPY_wvf_snd.mp3\n"
     ]
    },
    {
     "name": "stderr",
     "output_type": "stream",
     "text": [
      "chunk:   1%|▏         | 1/67 [13:53<15:16:46, 833.44s/it, now=None]"
     ]
    },
    {
     "name": "stdout",
     "output_type": "stream",
     "text": [
      "MoviePy - Done.\n",
      "MoviePy - Writing video Non_Behaviour_clips\\clip_13_2.mp4\n",
      "\n"
     ]
    },
    {
     "name": "stderr",
     "output_type": "stream",
     "text": [
      "chunk:   1%|▏         | 1/67 [13:54<15:17:30, 834.09s/it, now=None]"
     ]
    },
    {
     "name": "stdout",
     "output_type": "stream",
     "text": [
      "MoviePy - Done !\n",
      "MoviePy - video ready Non_Behaviour_clips\\clip_13_2.mp4\n",
      "MoviePy - Building video Non_Behaviour_clips\\clip_13_3.mp4.\n",
      "MoviePy - Writing audio in clip_13_3TEMP_MPY_wvf_snd.mp3\n"
     ]
    },
    {
     "name": "stderr",
     "output_type": "stream",
     "text": [
      "chunk:   1%|▏         | 1/67 [13:54<15:17:42, 834.28s/it, now=None]"
     ]
    },
    {
     "name": "stdout",
     "output_type": "stream",
     "text": [
      "MoviePy - Done.\n",
      "MoviePy - Writing video Non_Behaviour_clips\\clip_13_3.mp4\n",
      "\n"
     ]
    },
    {
     "name": "stderr",
     "output_type": "stream",
     "text": [
      "chunk:   1%|▏         | 1/67 [13:54<15:18:25, 834.94s/it, now=None]"
     ]
    },
    {
     "name": "stdout",
     "output_type": "stream",
     "text": [
      "MoviePy - Done !\n",
      "MoviePy - video ready Non_Behaviour_clips\\clip_13_3.mp4\n",
      "MoviePy - Building video Non_Behaviour_clips\\clip_13_4.mp4.\n",
      "MoviePy - Writing audio in clip_13_4TEMP_MPY_wvf_snd.mp3\n"
     ]
    },
    {
     "name": "stderr",
     "output_type": "stream",
     "text": [
      "chunk:   1%|▏         | 1/67 [13:55<15:18:38, 835.13s/it, now=None]"
     ]
    },
    {
     "name": "stdout",
     "output_type": "stream",
     "text": [
      "MoviePy - Done.\n",
      "MoviePy - Writing video Non_Behaviour_clips\\clip_13_4.mp4\n",
      "\n"
     ]
    },
    {
     "name": "stderr",
     "output_type": "stream",
     "text": [
      "chunk:   1%|▏         | 1/67 [13:55<15:19:16, 835.71s/it, now=None]"
     ]
    },
    {
     "name": "stdout",
     "output_type": "stream",
     "text": [
      "MoviePy - Done !\n",
      "MoviePy - video ready Non_Behaviour_clips\\clip_13_4.mp4\n",
      "MoviePy - Building video Non_Behaviour_clips\\clip_13_5.mp4.\n",
      "MoviePy - Writing audio in clip_13_5TEMP_MPY_wvf_snd.mp3\n"
     ]
    },
    {
     "name": "stderr",
     "output_type": "stream",
     "text": [
      "chunk:   1%|▏         | 1/67 [13:55<15:19:29, 835.90s/it, now=None]"
     ]
    },
    {
     "name": "stdout",
     "output_type": "stream",
     "text": [
      "MoviePy - Done.\n",
      "MoviePy - Writing video Non_Behaviour_clips\\clip_13_5.mp4\n",
      "\n"
     ]
    },
    {
     "name": "stderr",
     "output_type": "stream",
     "text": [
      "chunk:   1%|▏         | 1/67 [13:56<15:20:09, 836.51s/it, now=None]"
     ]
    },
    {
     "name": "stdout",
     "output_type": "stream",
     "text": [
      "MoviePy - Done !\n",
      "MoviePy - video ready Non_Behaviour_clips\\clip_13_5.mp4\n",
      "MoviePy - Building video Non_Behaviour_clips\\clip_13_6.mp4.\n",
      "MoviePy - Writing audio in clip_13_6TEMP_MPY_wvf_snd.mp3\n"
     ]
    },
    {
     "name": "stderr",
     "output_type": "stream",
     "text": [
      "chunk:   1%|▏         | 1/67 [13:56<15:20:21, 836.69s/it, now=None]"
     ]
    },
    {
     "name": "stdout",
     "output_type": "stream",
     "text": [
      "MoviePy - Done.\n",
      "MoviePy - Writing video Non_Behaviour_clips\\clip_13_6.mp4\n",
      "\n"
     ]
    },
    {
     "name": "stderr",
     "output_type": "stream",
     "text": [
      "chunk:   1%|▏         | 1/67 [13:57<15:21:00, 837.28s/it, now=None]"
     ]
    },
    {
     "name": "stdout",
     "output_type": "stream",
     "text": [
      "MoviePy - Done !\n",
      "MoviePy - video ready Non_Behaviour_clips\\clip_13_6.mp4\n",
      "MoviePy - Building video Non_Behaviour_clips\\clip_13_7.mp4.\n",
      "MoviePy - Writing audio in clip_13_7TEMP_MPY_wvf_snd.mp3\n"
     ]
    },
    {
     "name": "stderr",
     "output_type": "stream",
     "text": [
      "chunk:   1%|▏         | 1/67 [13:57<15:21:13, 837.47s/it, now=None]"
     ]
    },
    {
     "name": "stdout",
     "output_type": "stream",
     "text": [
      "MoviePy - Done.\n",
      "MoviePy - Writing video Non_Behaviour_clips\\clip_13_7.mp4\n",
      "\n"
     ]
    },
    {
     "name": "stderr",
     "output_type": "stream",
     "text": [
      "chunk:   1%|▏         | 1/67 [13:58<15:21:56, 838.13s/it, now=None]"
     ]
    },
    {
     "name": "stdout",
     "output_type": "stream",
     "text": [
      "MoviePy - Done !\n",
      "MoviePy - video ready Non_Behaviour_clips\\clip_13_7.mp4\n",
      "MoviePy - Building video Non_Behaviour_clips\\clip_13_8.mp4.\n",
      "MoviePy - Writing audio in clip_13_8TEMP_MPY_wvf_snd.mp3\n"
     ]
    },
    {
     "name": "stderr",
     "output_type": "stream",
     "text": [
      "chunk:   1%|▏         | 1/67 [13:58<15:22:08, 838.31s/it, now=None]"
     ]
    },
    {
     "name": "stdout",
     "output_type": "stream",
     "text": [
      "MoviePy - Done.\n",
      "MoviePy - Writing video Non_Behaviour_clips\\clip_13_8.mp4\n",
      "\n"
     ]
    },
    {
     "name": "stderr",
     "output_type": "stream",
     "text": [
      "chunk:   1%|▏         | 1/67 [13:58<15:22:49, 838.93s/it, now=None]"
     ]
    },
    {
     "name": "stdout",
     "output_type": "stream",
     "text": [
      "MoviePy - Done !\n",
      "MoviePy - video ready Non_Behaviour_clips\\clip_13_8.mp4\n",
      "MoviePy - Building video Non_Behaviour_clips\\clip_13_9.mp4.\n",
      "MoviePy - Writing audio in clip_13_9TEMP_MPY_wvf_snd.mp3\n"
     ]
    },
    {
     "name": "stderr",
     "output_type": "stream",
     "text": [
      "chunk:   1%|▏         | 1/67 [13:59<15:23:01, 839.11s/it, now=None]"
     ]
    },
    {
     "name": "stdout",
     "output_type": "stream",
     "text": [
      "MoviePy - Done.\n",
      "MoviePy - Writing video Non_Behaviour_clips\\clip_13_9.mp4\n",
      "\n"
     ]
    },
    {
     "name": "stderr",
     "output_type": "stream",
     "text": [
      "chunk:   1%|▏         | 1/67 [13:59<15:23:40, 839.71s/it, now=None]"
     ]
    },
    {
     "name": "stdout",
     "output_type": "stream",
     "text": [
      "MoviePy - Done !\n",
      "MoviePy - video ready Non_Behaviour_clips\\clip_13_9.mp4\n",
      "MoviePy - Building video Non_Behaviour_clips\\clip_13_10.mp4.\n",
      "MoviePy - Writing audio in clip_13_10TEMP_MPY_wvf_snd.mp3\n"
     ]
    },
    {
     "name": "stderr",
     "output_type": "stream",
     "text": [
      "chunk:   1%|▏         | 1/67 [13:59<15:23:53, 839.90s/it, now=None]"
     ]
    },
    {
     "name": "stdout",
     "output_type": "stream",
     "text": [
      "MoviePy - Done.\n",
      "MoviePy - Writing video Non_Behaviour_clips\\clip_13_10.mp4\n",
      "\n"
     ]
    },
    {
     "name": "stderr",
     "output_type": "stream",
     "text": [
      "chunk:   1%|▏         | 1/67 [14:00<15:24:32, 840.50s/it, now=None]"
     ]
    },
    {
     "name": "stdout",
     "output_type": "stream",
     "text": [
      "MoviePy - Done !\n",
      "MoviePy - video ready Non_Behaviour_clips\\clip_13_10.mp4\n",
      "MoviePy - Building video Non_Behaviour_clips\\clip_13_11.mp4.\n",
      "MoviePy - Writing audio in clip_13_11TEMP_MPY_wvf_snd.mp3\n"
     ]
    },
    {
     "name": "stderr",
     "output_type": "stream",
     "text": [
      "chunk:   1%|▏         | 1/67 [14:00<15:24:45, 840.68s/it, now=None]"
     ]
    },
    {
     "name": "stdout",
     "output_type": "stream",
     "text": [
      "MoviePy - Done.\n",
      "MoviePy - Writing video Non_Behaviour_clips\\clip_13_11.mp4\n",
      "\n"
     ]
    },
    {
     "name": "stderr",
     "output_type": "stream",
     "text": [
      "chunk:   1%|▏         | 1/67 [14:01<15:25:23, 841.26s/it, now=None]"
     ]
    },
    {
     "name": "stdout",
     "output_type": "stream",
     "text": [
      "MoviePy - Done !\n",
      "MoviePy - video ready Non_Behaviour_clips\\clip_13_11.mp4\n",
      "MoviePy - Building video Non_Behaviour_clips\\clip_13_12.mp4.\n",
      "MoviePy - Writing audio in clip_13_12TEMP_MPY_wvf_snd.mp3\n"
     ]
    },
    {
     "name": "stderr",
     "output_type": "stream",
     "text": [
      "chunk:   1%|▏         | 1/67 [14:01<15:25:35, 841.45s/it, now=None]"
     ]
    },
    {
     "name": "stdout",
     "output_type": "stream",
     "text": [
      "MoviePy - Done.\n",
      "MoviePy - Writing video Non_Behaviour_clips\\clip_13_12.mp4\n",
      "\n"
     ]
    },
    {
     "name": "stderr",
     "output_type": "stream",
     "text": [
      "chunk:   1%|▏         | 1/67 [14:02<15:26:19, 842.11s/it, now=None]"
     ]
    },
    {
     "name": "stdout",
     "output_type": "stream",
     "text": [
      "MoviePy - Done !\n",
      "MoviePy - video ready Non_Behaviour_clips\\clip_13_12.mp4\n",
      "MoviePy - Building video Non_Behaviour_clips\\clip_13_13.mp4.\n",
      "MoviePy - Writing audio in clip_13_13TEMP_MPY_wvf_snd.mp3\n"
     ]
    },
    {
     "name": "stderr",
     "output_type": "stream",
     "text": [
      "chunk:   1%|▏         | 1/67 [14:02<15:26:32, 842.30s/it, now=None]"
     ]
    },
    {
     "name": "stdout",
     "output_type": "stream",
     "text": [
      "MoviePy - Done.\n",
      "MoviePy - Writing video Non_Behaviour_clips\\clip_13_13.mp4\n",
      "\n"
     ]
    },
    {
     "name": "stderr",
     "output_type": "stream",
     "text": [
      "chunk:   1%|▏         | 1/67 [14:02<15:27:10, 842.89s/it, now=None]"
     ]
    },
    {
     "name": "stdout",
     "output_type": "stream",
     "text": [
      "MoviePy - Done !\n",
      "MoviePy - video ready Non_Behaviour_clips\\clip_13_13.mp4\n",
      "MoviePy - Building video Non_Behaviour_clips\\clip_13_14.mp4.\n",
      "MoviePy - Writing audio in clip_13_14TEMP_MPY_wvf_snd.mp3\n"
     ]
    },
    {
     "name": "stderr",
     "output_type": "stream",
     "text": [
      "chunk:   1%|▏         | 1/67 [14:03<15:27:20, 843.03s/it, now=None]"
     ]
    },
    {
     "name": "stdout",
     "output_type": "stream",
     "text": [
      "MoviePy - Done.\n",
      "MoviePy - Writing video Non_Behaviour_clips\\clip_13_14.mp4\n",
      "\n"
     ]
    },
    {
     "name": "stderr",
     "output_type": "stream",
     "text": [
      "chunk:   1%|▏         | 1/67 [14:03<15:27:42, 843.38s/it, now=None]"
     ]
    },
    {
     "name": "stdout",
     "output_type": "stream",
     "text": [
      "MoviePy - Done !\n",
      "MoviePy - video ready Non_Behaviour_clips\\clip_13_14.mp4\n"
     ]
    },
    {
     "name": "stderr",
     "output_type": "stream",
     "text": [
      "chunk:   1%|▏         | 1/67 [14:03<15:28:13, 843.85s/it, now=None]"
     ]
    },
    {
     "name": "stdout",
     "output_type": "stream",
     "text": [
      "MoviePy - Building video Non_Behaviour_clips\\clip_14_1.mp4.\n",
      "MoviePy - Writing audio in clip_14_1TEMP_MPY_wvf_snd.mp3\n"
     ]
    },
    {
     "name": "stderr",
     "output_type": "stream",
     "text": [
      "chunk:   1%|▏         | 1/67 [14:04<15:28:25, 844.03s/it, now=None]"
     ]
    },
    {
     "name": "stdout",
     "output_type": "stream",
     "text": [
      "MoviePy - Done.\n",
      "MoviePy - Writing video Non_Behaviour_clips\\clip_14_1.mp4\n",
      "\n"
     ]
    },
    {
     "name": "stderr",
     "output_type": "stream",
     "text": [
      "chunk:   1%|▏         | 1/67 [14:04<15:28:43, 844.29s/it, now=None]"
     ]
    },
    {
     "name": "stdout",
     "output_type": "stream",
     "text": [
      "MoviePy - Done !\n",
      "MoviePy - video ready Non_Behaviour_clips\\clip_14_1.mp4\n"
     ]
    },
    {
     "name": "stderr",
     "output_type": "stream",
     "text": [
      "chunk:   1%|▏         | 1/67 [14:04<15:29:14, 844.77s/it, now=None]"
     ]
    },
    {
     "name": "stdout",
     "output_type": "stream",
     "text": [
      "MoviePy - Building video Non_Behaviour_clips\\clip_15_1.mp4.\n",
      "MoviePy - Writing audio in clip_15_1TEMP_MPY_wvf_snd.mp3\n"
     ]
    },
    {
     "name": "stderr",
     "output_type": "stream",
     "text": [
      "chunk:   1%|▏         | 1/67 [14:04<15:29:27, 844.96s/it, now=None]"
     ]
    },
    {
     "name": "stdout",
     "output_type": "stream",
     "text": [
      "MoviePy - Done.\n",
      "MoviePy - Writing video Non_Behaviour_clips\\clip_15_1.mp4\n",
      "\n"
     ]
    },
    {
     "name": "stderr",
     "output_type": "stream",
     "text": [
      "chunk:   1%|▏         | 1/67 [14:05<15:30:02, 845.50s/it, now=None]"
     ]
    },
    {
     "name": "stdout",
     "output_type": "stream",
     "text": [
      "MoviePy - Done !\n",
      "MoviePy - video ready Non_Behaviour_clips\\clip_15_1.mp4\n",
      "MoviePy - Building video Non_Behaviour_clips\\clip_15_2.mp4.\n",
      "MoviePy - Writing audio in clip_15_2TEMP_MPY_wvf_snd.mp3\n"
     ]
    },
    {
     "name": "stderr",
     "output_type": "stream",
     "text": [
      "chunk:   1%|▏         | 1/67 [14:05<15:30:16, 845.70s/it, now=None]"
     ]
    },
    {
     "name": "stdout",
     "output_type": "stream",
     "text": [
      "MoviePy - Done.\n",
      "MoviePy - Writing video Non_Behaviour_clips\\clip_15_2.mp4\n",
      "\n"
     ]
    },
    {
     "name": "stderr",
     "output_type": "stream",
     "text": [
      "chunk:   1%|▏         | 1/67 [14:06<15:30:49, 846.20s/it, now=None]"
     ]
    },
    {
     "name": "stdout",
     "output_type": "stream",
     "text": [
      "MoviePy - Done !\n",
      "MoviePy - video ready Non_Behaviour_clips\\clip_15_2.mp4\n",
      "MoviePy - Building video Non_Behaviour_clips\\clip_15_3.mp4.\n",
      "MoviePy - Writing audio in clip_15_3TEMP_MPY_wvf_snd.mp3\n"
     ]
    },
    {
     "name": "stderr",
     "output_type": "stream",
     "text": [
      "chunk:   1%|▏         | 1/67 [14:06<15:31:02, 846.40s/it, now=None]"
     ]
    },
    {
     "name": "stdout",
     "output_type": "stream",
     "text": [
      "MoviePy - Done.\n",
      "MoviePy - Writing video Non_Behaviour_clips\\clip_15_3.mp4\n",
      "\n"
     ]
    },
    {
     "name": "stderr",
     "output_type": "stream",
     "text": [
      "chunk:   1%|▏         | 1/67 [14:06<15:31:35, 846.90s/it, now=None]"
     ]
    },
    {
     "name": "stdout",
     "output_type": "stream",
     "text": [
      "MoviePy - Done !\n",
      "MoviePy - video ready Non_Behaviour_clips\\clip_15_3.mp4\n",
      "MoviePy - Building video Non_Behaviour_clips\\clip_15_4.mp4.\n",
      "MoviePy - Writing audio in clip_15_4TEMP_MPY_wvf_snd.mp3\n"
     ]
    },
    {
     "name": "stderr",
     "output_type": "stream",
     "text": [
      "chunk:   1%|▏         | 1/67 [14:07<15:31:49, 847.11s/it, now=None]"
     ]
    },
    {
     "name": "stdout",
     "output_type": "stream",
     "text": [
      "MoviePy - Done.\n",
      "MoviePy - Writing video Non_Behaviour_clips\\clip_15_4.mp4\n",
      "\n"
     ]
    },
    {
     "name": "stderr",
     "output_type": "stream",
     "text": [
      "chunk:   1%|▏         | 1/67 [14:07<15:32:23, 847.63s/it, now=None]"
     ]
    },
    {
     "name": "stdout",
     "output_type": "stream",
     "text": [
      "MoviePy - Done !\n",
      "MoviePy - video ready Non_Behaviour_clips\\clip_15_4.mp4\n",
      "MoviePy - Building video Non_Behaviour_clips\\clip_15_5.mp4.\n",
      "MoviePy - Writing audio in clip_15_5TEMP_MPY_wvf_snd.mp3\n"
     ]
    },
    {
     "name": "stderr",
     "output_type": "stream",
     "text": [
      "chunk:   1%|▏         | 1/67 [14:07<15:32:36, 847.83s/it, now=None]"
     ]
    },
    {
     "name": "stdout",
     "output_type": "stream",
     "text": [
      "MoviePy - Done.\n",
      "MoviePy - Writing video Non_Behaviour_clips\\clip_15_5.mp4\n",
      "\n"
     ]
    },
    {
     "name": "stderr",
     "output_type": "stream",
     "text": [
      "chunk:   1%|▏         | 1/67 [14:08<15:33:11, 848.36s/it, now=None]"
     ]
    },
    {
     "name": "stdout",
     "output_type": "stream",
     "text": [
      "MoviePy - Done !\n",
      "MoviePy - video ready Non_Behaviour_clips\\clip_15_5.mp4\n",
      "MoviePy - Building video Non_Behaviour_clips\\clip_15_6.mp4.\n",
      "MoviePy - Writing audio in clip_15_6TEMP_MPY_wvf_snd.mp3\n"
     ]
    },
    {
     "name": "stderr",
     "output_type": "stream",
     "text": [
      "chunk:   1%|▏         | 1/67 [14:08<15:33:23, 848.54s/it, now=None]"
     ]
    },
    {
     "name": "stdout",
     "output_type": "stream",
     "text": [
      "MoviePy - Done.\n",
      "MoviePy - Writing video Non_Behaviour_clips\\clip_15_6.mp4\n",
      "\n"
     ]
    },
    {
     "name": "stderr",
     "output_type": "stream",
     "text": [
      "chunk:   1%|▏         | 1/67 [14:09<15:33:54, 849.00s/it, now=None]"
     ]
    },
    {
     "name": "stdout",
     "output_type": "stream",
     "text": [
      "MoviePy - Done !\n",
      "MoviePy - video ready Non_Behaviour_clips\\clip_15_6.mp4\n"
     ]
    },
    {
     "name": "stderr",
     "output_type": "stream",
     "text": [
      "chunk:   1%|▏         | 1/67 [14:09<15:34:25, 849.47s/it, now=None]"
     ]
    },
    {
     "name": "stdout",
     "output_type": "stream",
     "text": [
      "MoviePy - Building video Non_Behaviour_clips\\clip_16_1.mp4.\n",
      "MoviePy - Writing audio in clip_16_1TEMP_MPY_wvf_snd.mp3\n"
     ]
    },
    {
     "name": "stderr",
     "output_type": "stream",
     "text": [
      "chunk:   1%|▏         | 1/67 [14:09<15:34:36, 849.65s/it, now=None]"
     ]
    },
    {
     "name": "stdout",
     "output_type": "stream",
     "text": [
      "MoviePy - Done.\n",
      "MoviePy - Writing video Non_Behaviour_clips\\clip_16_1.mp4\n",
      "\n"
     ]
    },
    {
     "name": "stderr",
     "output_type": "stream",
     "text": [
      "chunk:   1%|▏         | 1/67 [14:09<15:34:55, 849.93s/it, now=None]"
     ]
    },
    {
     "name": "stdout",
     "output_type": "stream",
     "text": [
      "MoviePy - Done !\n",
      "MoviePy - video ready Non_Behaviour_clips\\clip_16_1.mp4\n",
      "MoviePy - Building video Non_Behaviour_clips\\clip_16_2.mp4.\n",
      "MoviePy - Writing audio in clip_16_2TEMP_MPY_wvf_snd.mp3\n"
     ]
    },
    {
     "name": "stderr",
     "output_type": "stream",
     "text": [
      "chunk:   1%|▏         | 1/67 [14:10<15:35:07, 850.12s/it, now=None]"
     ]
    },
    {
     "name": "stdout",
     "output_type": "stream",
     "text": [
      "MoviePy - Done.\n",
      "MoviePy - Writing video Non_Behaviour_clips\\clip_16_2.mp4\n",
      "\n"
     ]
    },
    {
     "name": "stderr",
     "output_type": "stream",
     "text": [
      "chunk:   1%|▏         | 1/67 [14:10<15:35:26, 850.40s/it, now=None]"
     ]
    },
    {
     "name": "stdout",
     "output_type": "stream",
     "text": [
      "MoviePy - Done !\n",
      "MoviePy - video ready Non_Behaviour_clips\\clip_16_2.mp4\n",
      "MoviePy - Building video Non_Behaviour_clips\\clip_16_3.mp4.\n",
      "MoviePy - Writing audio in clip_16_3TEMP_MPY_wvf_snd.mp3\n"
     ]
    },
    {
     "name": "stderr",
     "output_type": "stream",
     "text": [
      "chunk:   1%|▏         | 1/67 [14:10<15:35:37, 850.57s/it, now=None]"
     ]
    },
    {
     "name": "stdout",
     "output_type": "stream",
     "text": [
      "MoviePy - Done.\n",
      "MoviePy - Writing video Non_Behaviour_clips\\clip_16_3.mp4\n",
      "\n"
     ]
    },
    {
     "name": "stderr",
     "output_type": "stream",
     "text": [
      "chunk:   1%|▏         | 1/67 [14:10<15:35:56, 850.86s/it, now=None]"
     ]
    },
    {
     "name": "stdout",
     "output_type": "stream",
     "text": [
      "MoviePy - Done !\n",
      "MoviePy - video ready Non_Behaviour_clips\\clip_16_3.mp4\n",
      "MoviePy - Building video Non_Behaviour_clips\\clip_16_4.mp4.\n",
      "MoviePy - Writing audio in clip_16_4TEMP_MPY_wvf_snd.mp3\n"
     ]
    },
    {
     "name": "stderr",
     "output_type": "stream",
     "text": [
      "chunk:   1%|▏         | 1/67 [14:11<15:36:08, 851.04s/it, now=None]"
     ]
    },
    {
     "name": "stdout",
     "output_type": "stream",
     "text": [
      "MoviePy - Done.\n",
      "MoviePy - Writing video Non_Behaviour_clips\\clip_16_4.mp4\n",
      "\n"
     ]
    },
    {
     "name": "stderr",
     "output_type": "stream",
     "text": [
      "chunk:   1%|▏         | 1/67 [14:11<15:36:27, 851.33s/it, now=None]"
     ]
    },
    {
     "name": "stdout",
     "output_type": "stream",
     "text": [
      "MoviePy - Done !\n",
      "MoviePy - video ready Non_Behaviour_clips\\clip_16_4.mp4\n",
      "MoviePy - Building video Non_Behaviour_clips\\clip_16_5.mp4.\n",
      "MoviePy - Writing audio in clip_16_5TEMP_MPY_wvf_snd.mp3\n"
     ]
    },
    {
     "name": "stderr",
     "output_type": "stream",
     "text": [
      "chunk:   1%|▏         | 1/67 [14:11<15:36:38, 851.50s/it, now=None]"
     ]
    },
    {
     "name": "stdout",
     "output_type": "stream",
     "text": [
      "MoviePy - Done.\n"
     ]
    },
    {
     "name": "stderr",
     "output_type": "stream",
     "text": [
      "chunk:   1%|▏         | 1/67 [14:11<15:36:39, 851.50s/it, now=None]"
     ]
    },
    {
     "name": "stdout",
     "output_type": "stream",
     "text": [
      "MoviePy - Writing video Non_Behaviour_clips\\clip_16_5.mp4\n",
      "\n"
     ]
    },
    {
     "name": "stderr",
     "output_type": "stream",
     "text": [
      "chunk:   1%|▏         | 1/67 [14:11<15:36:59, 851.81s/it, now=None]"
     ]
    },
    {
     "name": "stdout",
     "output_type": "stream",
     "text": [
      "MoviePy - Done !\n",
      "MoviePy - video ready Non_Behaviour_clips\\clip_16_5.mp4\n",
      "MoviePy - Building video Non_Behaviour_clips\\clip_16_6.mp4.\n",
      "MoviePy - Writing audio in clip_16_6TEMP_MPY_wvf_snd.mp3\n"
     ]
    },
    {
     "name": "stderr",
     "output_type": "stream",
     "text": [
      "chunk:   1%|▏         | 1/67 [14:11<15:37:10, 851.98s/it, now=None]"
     ]
    },
    {
     "name": "stdout",
     "output_type": "stream",
     "text": [
      "MoviePy - Done.\n",
      "MoviePy - Writing video Non_Behaviour_clips\\clip_16_6.mp4\n",
      "\n"
     ]
    },
    {
     "name": "stderr",
     "output_type": "stream",
     "text": [
      "chunk:   1%|▏         | 1/67 [14:12<15:37:30, 852.27s/it, now=None]"
     ]
    },
    {
     "name": "stdout",
     "output_type": "stream",
     "text": [
      "MoviePy - Done !\n",
      "MoviePy - video ready Non_Behaviour_clips\\clip_16_6.mp4\n",
      "MoviePy - Building video Non_Behaviour_clips\\clip_16_7.mp4.\n",
      "MoviePy - Writing audio in clip_16_7TEMP_MPY_wvf_snd.mp3\n"
     ]
    },
    {
     "name": "stderr",
     "output_type": "stream",
     "text": [
      "chunk:   1%|▏         | 1/67 [14:12<15:37:42, 852.46s/it, now=None]"
     ]
    },
    {
     "name": "stdout",
     "output_type": "stream",
     "text": [
      "MoviePy - Done.\n",
      "MoviePy - Writing video Non_Behaviour_clips\\clip_16_7.mp4\n",
      "\n"
     ]
    },
    {
     "name": "stderr",
     "output_type": "stream",
     "text": [
      "chunk:   1%|▏         | 1/67 [14:12<15:38:02, 852.77s/it, now=None]"
     ]
    },
    {
     "name": "stdout",
     "output_type": "stream",
     "text": [
      "MoviePy - Done !\n",
      "MoviePy - video ready Non_Behaviour_clips\\clip_16_7.mp4\n",
      "MoviePy - Building video Non_Behaviour_clips\\clip_16_8.mp4.\n",
      "MoviePy - Writing audio in clip_16_8TEMP_MPY_wvf_snd.mp3\n"
     ]
    },
    {
     "name": "stderr",
     "output_type": "stream",
     "text": [
      "chunk:   1%|▏         | 1/67 [14:12<15:38:13, 852.93s/it, now=None]"
     ]
    },
    {
     "name": "stdout",
     "output_type": "stream",
     "text": [
      "MoviePy - Done.\n",
      "MoviePy - Writing video Non_Behaviour_clips\\clip_16_8.mp4\n",
      "\n"
     ]
    },
    {
     "name": "stderr",
     "output_type": "stream",
     "text": [
      "chunk:   1%|▏         | 1/67 [14:13<15:38:32, 853.22s/it, now=None]"
     ]
    },
    {
     "name": "stdout",
     "output_type": "stream",
     "text": [
      "MoviePy - Done !\n",
      "MoviePy - video ready Non_Behaviour_clips\\clip_16_8.mp4\n",
      "MoviePy - Building video Non_Behaviour_clips\\clip_16_9.mp4.\n",
      "MoviePy - Writing audio in clip_16_9TEMP_MPY_wvf_snd.mp3\n"
     ]
    },
    {
     "name": "stderr",
     "output_type": "stream",
     "text": [
      "chunk:   1%|▏         | 1/67 [14:13<15:38:44, 853.40s/it, now=None]"
     ]
    },
    {
     "name": "stdout",
     "output_type": "stream",
     "text": [
      "MoviePy - Done.\n",
      "MoviePy - Writing video Non_Behaviour_clips\\clip_16_9.mp4\n",
      "\n"
     ]
    },
    {
     "name": "stderr",
     "output_type": "stream",
     "text": [
      "chunk:   1%|▏         | 1/67 [14:13<15:39:05, 853.71s/it, now=None]"
     ]
    },
    {
     "name": "stdout",
     "output_type": "stream",
     "text": [
      "MoviePy - Done !\n",
      "MoviePy - video ready Non_Behaviour_clips\\clip_16_9.mp4\n",
      "MoviePy - Building video Non_Behaviour_clips\\clip_16_10.mp4.\n",
      "MoviePy - Writing audio in clip_16_10TEMP_MPY_wvf_snd.mp3\n"
     ]
    },
    {
     "name": "stderr",
     "output_type": "stream",
     "text": [
      "chunk:   1%|▏         | 1/67 [14:13<15:39:17, 853.89s/it, now=None]"
     ]
    },
    {
     "name": "stdout",
     "output_type": "stream",
     "text": [
      "MoviePy - Done.\n",
      "MoviePy - Writing video Non_Behaviour_clips\\clip_16_10.mp4\n",
      "\n"
     ]
    },
    {
     "name": "stderr",
     "output_type": "stream",
     "text": [
      "chunk:   1%|▏         | 1/67 [14:14<15:39:38, 854.22s/it, now=None]"
     ]
    },
    {
     "name": "stdout",
     "output_type": "stream",
     "text": [
      "MoviePy - Done !\n",
      "MoviePy - video ready Non_Behaviour_clips\\clip_16_10.mp4\n",
      "MoviePy - Building video Non_Behaviour_clips\\clip_16_11.mp4.\n",
      "MoviePy - Writing audio in clip_16_11TEMP_MPY_wvf_snd.mp3\n"
     ]
    },
    {
     "name": "stderr",
     "output_type": "stream",
     "text": [
      "chunk:   1%|▏         | 1/67 [14:14<15:39:49, 854.38s/it, now=None]"
     ]
    },
    {
     "name": "stdout",
     "output_type": "stream",
     "text": [
      "MoviePy - Done.\n",
      "MoviePy - Writing video Non_Behaviour_clips\\clip_16_11.mp4\n",
      "\n"
     ]
    },
    {
     "name": "stderr",
     "output_type": "stream",
     "text": [
      "chunk:   1%|▏         | 1/67 [14:14<15:40:07, 854.66s/it, now=None]c:\\Users\\manje\\.pyenv\\pyenv-win\\versions\\3.12.5\\Lib\\site-packages\\moviepy\\video\\io\\ffmpeg_reader.py:157: UserWarning: In file 17.mp4 , 3 bytes wanted but 0 bytes read at frame index 0 (out of a total 0 frames), at time 0.00/0.00 sec. Using the last valid frame instead.\n",
      "  warnings.warn(\n"
     ]
    },
    {
     "name": "stdout",
     "output_type": "stream",
     "text": [
      "MoviePy - Done !\n",
      "MoviePy - video ready Non_Behaviour_clips\\clip_16_11.mp4\n",
      "Error loading video: MoviePy error: failed to read the first frame of video file 17.mp4 . That might mean that the file is corrupted. That may also mean that you are using a deprecated version of FFMPEG. On Ubuntu/Debian for instance the version in the repos is deprecated. Please update to a recent version from the website.\n"
     ]
    },
    {
     "name": "stderr",
     "output_type": "stream",
     "text": [
      "chunk:   1%|▏         | 1/67 [14:15<15:40:51, 855.33s/it, now=None]"
     ]
    },
    {
     "name": "stdout",
     "output_type": "stream",
     "text": [
      "MoviePy - Building video Non_Behaviour_clips\\clip_18_1.mp4.\n",
      "MoviePy - Writing audio in clip_18_1TEMP_MPY_wvf_snd.mp3\n"
     ]
    },
    {
     "name": "stderr",
     "output_type": "stream",
     "text": [
      "chunk:   1%|▏         | 1/67 [14:15<15:41:03, 855.50s/it, now=None]"
     ]
    },
    {
     "name": "stdout",
     "output_type": "stream",
     "text": [
      "MoviePy - Done.\n",
      "MoviePy - Writing video Non_Behaviour_clips\\clip_18_1.mp4\n",
      "\n"
     ]
    },
    {
     "name": "stderr",
     "output_type": "stream",
     "text": [
      "chunk:   1%|▏         | 1/67 [14:16<15:41:36, 856.01s/it, now=None]"
     ]
    },
    {
     "name": "stdout",
     "output_type": "stream",
     "text": [
      "MoviePy - Done !\n",
      "MoviePy - video ready Non_Behaviour_clips\\clip_18_1.mp4\n"
     ]
    },
    {
     "name": "stderr",
     "output_type": "stream",
     "text": [
      "chunk:   1%|▏         | 1/67 [14:16<15:42:07, 856.48s/it, now=None]"
     ]
    },
    {
     "name": "stdout",
     "output_type": "stream",
     "text": [
      "MoviePy - Building video Non_Behaviour_clips\\clip_19_1.mp4.\n",
      "MoviePy - Writing audio in clip_19_1TEMP_MPY_wvf_snd.mp3\n"
     ]
    },
    {
     "name": "stderr",
     "output_type": "stream",
     "text": [
      "chunk:   1%|▏         | 1/67 [14:16<15:42:18, 856.65s/it, now=None]"
     ]
    },
    {
     "name": "stdout",
     "output_type": "stream",
     "text": [
      "MoviePy - Done.\n",
      "MoviePy - Writing video Non_Behaviour_clips\\clip_19_1.mp4\n",
      "\n"
     ]
    },
    {
     "name": "stderr",
     "output_type": "stream",
     "text": [
      "chunk:   1%|▏         | 1/67 [14:17<15:42:49, 857.11s/it, now=None]"
     ]
    },
    {
     "name": "stdout",
     "output_type": "stream",
     "text": [
      "MoviePy - Done !\n",
      "MoviePy - video ready Non_Behaviour_clips\\clip_19_1.mp4\n",
      "MoviePy - Building video Non_Behaviour_clips\\clip_19_2.mp4.\n",
      "MoviePy - Writing audio in clip_19_2TEMP_MPY_wvf_snd.mp3\n"
     ]
    },
    {
     "name": "stderr",
     "output_type": "stream",
     "text": [
      "chunk:   1%|▏         | 1/67 [14:17<15:43:01, 857.29s/it, now=None]"
     ]
    },
    {
     "name": "stdout",
     "output_type": "stream",
     "text": [
      "MoviePy - Done.\n",
      "MoviePy - Writing video Non_Behaviour_clips\\clip_19_2.mp4\n",
      "\n"
     ]
    },
    {
     "name": "stderr",
     "output_type": "stream",
     "text": [
      "chunk:   1%|▏         | 1/67 [14:17<15:43:32, 857.77s/it, now=None]"
     ]
    },
    {
     "name": "stdout",
     "output_type": "stream",
     "text": [
      "MoviePy - Done !\n",
      "MoviePy - video ready Non_Behaviour_clips\\clip_19_2.mp4\n",
      "MoviePy - Building video Non_Behaviour_clips\\clip_19_3.mp4.\n",
      "MoviePy - Writing audio in clip_19_3TEMP_MPY_wvf_snd.mp3\n"
     ]
    },
    {
     "name": "stderr",
     "output_type": "stream",
     "text": [
      "chunk:   1%|▏         | 1/67 [14:17<15:43:44, 857.95s/it, now=None]"
     ]
    },
    {
     "name": "stdout",
     "output_type": "stream",
     "text": [
      "MoviePy - Done.\n",
      "MoviePy - Writing video Non_Behaviour_clips\\clip_19_3.mp4\n",
      "\n"
     ]
    },
    {
     "name": "stderr",
     "output_type": "stream",
     "text": [
      "chunk:   1%|▏         | 1/67 [14:18<15:44:15, 858.42s/it, now=None]"
     ]
    },
    {
     "name": "stdout",
     "output_type": "stream",
     "text": [
      "MoviePy - Done !\n",
      "MoviePy - video ready Non_Behaviour_clips\\clip_19_3.mp4\n",
      "MoviePy - Building video Non_Behaviour_clips\\clip_19_4.mp4.\n",
      "MoviePy - Writing audio in clip_19_4TEMP_MPY_wvf_snd.mp3\n"
     ]
    },
    {
     "name": "stderr",
     "output_type": "stream",
     "text": [
      "chunk:   1%|▏         | 1/67 [14:18<15:44:27, 858.60s/it, now=None]"
     ]
    },
    {
     "name": "stdout",
     "output_type": "stream",
     "text": [
      "MoviePy - Done.\n",
      "MoviePy - Writing video Non_Behaviour_clips\\clip_19_4.mp4\n",
      "\n"
     ]
    },
    {
     "name": "stderr",
     "output_type": "stream",
     "text": [
      "chunk:   1%|▏         | 1/67 [14:19<15:44:59, 859.08s/it, now=None]"
     ]
    },
    {
     "name": "stdout",
     "output_type": "stream",
     "text": [
      "MoviePy - Done !\n",
      "MoviePy - video ready Non_Behaviour_clips\\clip_19_4.mp4\n",
      "MoviePy - Building video Non_Behaviour_clips\\clip_19_5.mp4.\n",
      "MoviePy - Writing audio in clip_19_5TEMP_MPY_wvf_snd.mp3\n"
     ]
    },
    {
     "name": "stderr",
     "output_type": "stream",
     "text": [
      "chunk:   1%|▏         | 1/67 [14:19<15:45:11, 859.26s/it, now=None]"
     ]
    },
    {
     "name": "stdout",
     "output_type": "stream",
     "text": [
      "MoviePy - Done.\n",
      "MoviePy - Writing video Non_Behaviour_clips\\clip_19_5.mp4\n",
      "\n"
     ]
    },
    {
     "name": "stderr",
     "output_type": "stream",
     "text": [
      "chunk:   1%|▏         | 1/67 [14:19<15:45:44, 859.76s/it, now=None]"
     ]
    },
    {
     "name": "stdout",
     "output_type": "stream",
     "text": [
      "MoviePy - Done !\n",
      "MoviePy - video ready Non_Behaviour_clips\\clip_19_5.mp4\n",
      "MoviePy - Building video Non_Behaviour_clips\\clip_19_6.mp4.\n",
      "MoviePy - Writing audio in clip_19_6TEMP_MPY_wvf_snd.mp3\n"
     ]
    },
    {
     "name": "stderr",
     "output_type": "stream",
     "text": [
      "chunk:   1%|▏         | 1/67 [14:19<15:45:55, 859.94s/it, now=None]"
     ]
    },
    {
     "name": "stdout",
     "output_type": "stream",
     "text": [
      "MoviePy - Done.\n",
      "MoviePy - Writing video Non_Behaviour_clips\\clip_19_6.mp4\n",
      "\n"
     ]
    },
    {
     "name": "stderr",
     "output_type": "stream",
     "text": [
      "chunk:   1%|▏         | 1/67 [14:20<15:46:28, 860.44s/it, now=None]"
     ]
    },
    {
     "name": "stdout",
     "output_type": "stream",
     "text": [
      "MoviePy - Done !\n",
      "MoviePy - video ready Non_Behaviour_clips\\clip_19_6.mp4\n",
      "MoviePy - Building video Non_Behaviour_clips\\clip_19_7.mp4.\n",
      "MoviePy - Writing audio in clip_19_7TEMP_MPY_wvf_snd.mp3\n"
     ]
    },
    {
     "name": "stderr",
     "output_type": "stream",
     "text": [
      "chunk:   1%|▏         | 1/67 [14:20<15:46:40, 860.62s/it, now=None]"
     ]
    },
    {
     "name": "stdout",
     "output_type": "stream",
     "text": [
      "MoviePy - Done.\n",
      "MoviePy - Writing video Non_Behaviour_clips\\clip_19_7.mp4\n",
      "\n"
     ]
    },
    {
     "name": "stderr",
     "output_type": "stream",
     "text": [
      "chunk:   1%|▏         | 1/67 [14:21<15:47:13, 861.12s/it, now=None]"
     ]
    },
    {
     "name": "stdout",
     "output_type": "stream",
     "text": [
      "MoviePy - Done !\n",
      "MoviePy - video ready Non_Behaviour_clips\\clip_19_7.mp4\n",
      "MoviePy - Building video Non_Behaviour_clips\\clip_19_8.mp4.\n",
      "MoviePy - Writing audio in clip_19_8TEMP_MPY_wvf_snd.mp3\n"
     ]
    },
    {
     "name": "stderr",
     "output_type": "stream",
     "text": [
      "chunk:   1%|▏         | 1/67 [14:21<15:47:25, 861.30s/it, now=None]"
     ]
    },
    {
     "name": "stdout",
     "output_type": "stream",
     "text": [
      "MoviePy - Done.\n",
      "MoviePy - Writing video Non_Behaviour_clips\\clip_19_8.mp4\n",
      "\n"
     ]
    },
    {
     "name": "stderr",
     "output_type": "stream",
     "text": [
      "chunk:   1%|▏         | 1/67 [14:21<15:48:00, 861.82s/it, now=None]"
     ]
    },
    {
     "name": "stdout",
     "output_type": "stream",
     "text": [
      "MoviePy - Done !\n",
      "MoviePy - video ready Non_Behaviour_clips\\clip_19_8.mp4\n",
      "MoviePy - Building video Non_Behaviour_clips\\clip_19_9.mp4.\n",
      "MoviePy - Writing audio in clip_19_9TEMP_MPY_wvf_snd.mp3\n"
     ]
    },
    {
     "name": "stderr",
     "output_type": "stream",
     "text": [
      "                                                                   \r"
     ]
    },
    {
     "name": "stdout",
     "output_type": "stream",
     "text": [
      "MoviePy - Done.\n"
     ]
    },
    {
     "name": "stderr",
     "output_type": "stream",
     "text": [
      "chunk:   1%|▏         | 1/67 [14:21<15:48:11, 862.00s/it, now=None]"
     ]
    },
    {
     "name": "stdout",
     "output_type": "stream",
     "text": [
      "MoviePy - Writing video Non_Behaviour_clips\\clip_19_9.mp4\n",
      "\n"
     ]
    },
    {
     "name": "stderr",
     "output_type": "stream",
     "text": [
      "chunk:   1%|▏         | 1/67 [14:22<15:48:44, 862.49s/it, now=None]"
     ]
    },
    {
     "name": "stdout",
     "output_type": "stream",
     "text": [
      "MoviePy - Done !\n",
      "MoviePy - video ready Non_Behaviour_clips\\clip_19_9.mp4\n",
      "MoviePy - Building video Non_Behaviour_clips\\clip_19_10.mp4.\n",
      "MoviePy - Writing audio in clip_19_10TEMP_MPY_wvf_snd.mp3\n"
     ]
    },
    {
     "name": "stderr",
     "output_type": "stream",
     "text": [
      "chunk:   1%|▏         | 1/67 [14:22<15:48:57, 862.69s/it, now=None]"
     ]
    },
    {
     "name": "stdout",
     "output_type": "stream",
     "text": [
      "MoviePy - Done.\n",
      "MoviePy - Writing video Non_Behaviour_clips\\clip_19_10.mp4\n",
      "\n"
     ]
    },
    {
     "name": "stderr",
     "output_type": "stream",
     "text": [
      "chunk:   1%|▏         | 1/67 [14:23<15:49:30, 863.20s/it, now=None]"
     ]
    },
    {
     "name": "stdout",
     "output_type": "stream",
     "text": [
      "MoviePy - Done !\n",
      "MoviePy - video ready Non_Behaviour_clips\\clip_19_10.mp4\n",
      "MoviePy - Building video Non_Behaviour_clips\\clip_19_11.mp4.\n",
      "MoviePy - Writing audio in clip_19_11TEMP_MPY_wvf_snd.mp3\n"
     ]
    },
    {
     "name": "stderr",
     "output_type": "stream",
     "text": [
      "chunk:   1%|▏         | 1/67 [14:23<15:49:42, 863.38s/it, now=None]"
     ]
    },
    {
     "name": "stdout",
     "output_type": "stream",
     "text": [
      "MoviePy - Done.\n",
      "MoviePy - Writing video Non_Behaviour_clips\\clip_19_11.mp4\n",
      "\n"
     ]
    },
    {
     "name": "stderr",
     "output_type": "stream",
     "text": [
      "chunk:   1%|▏         | 1/67 [14:23<15:50:14, 863.85s/it, now=None]"
     ]
    },
    {
     "name": "stdout",
     "output_type": "stream",
     "text": [
      "MoviePy - Done !\n",
      "MoviePy - video ready Non_Behaviour_clips\\clip_19_11.mp4\n",
      "MoviePy - Building video Non_Behaviour_clips\\clip_19_12.mp4.\n",
      "MoviePy - Writing audio in clip_19_12TEMP_MPY_wvf_snd.mp3\n"
     ]
    },
    {
     "name": "stderr",
     "output_type": "stream",
     "text": [
      "chunk:   1%|▏         | 1/67 [14:24<15:50:26, 864.04s/it, now=None]"
     ]
    },
    {
     "name": "stdout",
     "output_type": "stream",
     "text": [
      "MoviePy - Done.\n",
      "MoviePy - Writing video Non_Behaviour_clips\\clip_19_12.mp4\n",
      "\n"
     ]
    },
    {
     "name": "stderr",
     "output_type": "stream",
     "text": [
      "chunk:   1%|▏         | 1/67 [14:24<15:50:59, 864.53s/it, now=None]"
     ]
    },
    {
     "name": "stdout",
     "output_type": "stream",
     "text": [
      "MoviePy - Done !\n",
      "MoviePy - video ready Non_Behaviour_clips\\clip_19_12.mp4\n",
      "MoviePy - Building video Non_Behaviour_clips\\clip_19_13.mp4.\n",
      "MoviePy - Writing audio in clip_19_13TEMP_MPY_wvf_snd.mp3\n"
     ]
    },
    {
     "name": "stderr",
     "output_type": "stream",
     "text": [
      "chunk:   1%|▏         | 1/67 [14:24<15:51:11, 864.72s/it, now=None]"
     ]
    },
    {
     "name": "stdout",
     "output_type": "stream",
     "text": [
      "MoviePy - Done.\n",
      "MoviePy - Writing video Non_Behaviour_clips\\clip_19_13.mp4\n",
      "\n"
     ]
    },
    {
     "name": "stderr",
     "output_type": "stream",
     "text": [
      "chunk:   1%|▏         | 1/67 [14:25<15:51:44, 865.23s/it, now=None]"
     ]
    },
    {
     "name": "stdout",
     "output_type": "stream",
     "text": [
      "MoviePy - Done !\n",
      "MoviePy - video ready Non_Behaviour_clips\\clip_19_13.mp4\n",
      "MoviePy - Building video Non_Behaviour_clips\\clip_19_14.mp4.\n",
      "MoviePy - Writing audio in clip_19_14TEMP_MPY_wvf_snd.mp3\n"
     ]
    },
    {
     "name": "stderr",
     "output_type": "stream",
     "text": [
      "chunk:   1%|▏         | 1/67 [14:25<15:51:56, 865.40s/it, now=None]"
     ]
    },
    {
     "name": "stdout",
     "output_type": "stream",
     "text": [
      "MoviePy - Done.\n",
      "MoviePy - Writing video Non_Behaviour_clips\\clip_19_14.mp4\n",
      "\n"
     ]
    },
    {
     "name": "stderr",
     "output_type": "stream",
     "text": [
      "chunk:   1%|▏         | 1/67 [14:25<15:52:25, 865.84s/it, now=None]"
     ]
    },
    {
     "name": "stdout",
     "output_type": "stream",
     "text": [
      "MoviePy - Done !\n",
      "MoviePy - video ready Non_Behaviour_clips\\clip_19_14.mp4\n",
      "MoviePy - Building video Non_Behaviour_clips\\clip_19_15.mp4.\n",
      "MoviePy - Writing audio in clip_19_15TEMP_MPY_wvf_snd.mp3\n"
     ]
    },
    {
     "name": "stderr",
     "output_type": "stream",
     "text": [
      "chunk:   1%|▏         | 1/67 [14:26<15:52:36, 866.01s/it, now=None]"
     ]
    },
    {
     "name": "stdout",
     "output_type": "stream",
     "text": [
      "MoviePy - Done.\n",
      "MoviePy - Writing video Non_Behaviour_clips\\clip_19_15.mp4\n",
      "\n"
     ]
    },
    {
     "name": "stderr",
     "output_type": "stream",
     "text": [
      "chunk:   1%|▏         | 1/67 [14:26<15:53:06, 866.46s/it, now=None]"
     ]
    },
    {
     "name": "stdout",
     "output_type": "stream",
     "text": [
      "MoviePy - Done !\n",
      "MoviePy - video ready Non_Behaviour_clips\\clip_19_15.mp4\n",
      "MoviePy - Building video Non_Behaviour_clips\\clip_19_16.mp4.\n",
      "MoviePy - Writing audio in clip_19_16TEMP_MPY_wvf_snd.mp3\n"
     ]
    },
    {
     "name": "stderr",
     "output_type": "stream",
     "text": [
      "chunk:   1%|▏         | 1/67 [14:26<15:53:19, 866.66s/it, now=None]"
     ]
    },
    {
     "name": "stdout",
     "output_type": "stream",
     "text": [
      "MoviePy - Done.\n",
      "MoviePy - Writing video Non_Behaviour_clips\\clip_19_16.mp4\n",
      "\n"
     ]
    },
    {
     "name": "stderr",
     "output_type": "stream",
     "text": [
      "chunk:   1%|▏         | 1/67 [14:27<15:53:49, 867.12s/it, now=None]"
     ]
    },
    {
     "name": "stdout",
     "output_type": "stream",
     "text": [
      "MoviePy - Done !\n",
      "MoviePy - video ready Non_Behaviour_clips\\clip_19_16.mp4\n",
      "MoviePy - Building video Non_Behaviour_clips\\clip_19_17.mp4.\n",
      "MoviePy - Writing audio in clip_19_17TEMP_MPY_wvf_snd.mp3\n"
     ]
    },
    {
     "name": "stderr",
     "output_type": "stream",
     "text": [
      "chunk:   1%|▏         | 1/67 [14:27<15:54:01, 867.30s/it, now=None]"
     ]
    },
    {
     "name": "stdout",
     "output_type": "stream",
     "text": [
      "MoviePy - Done.\n",
      "MoviePy - Writing video Non_Behaviour_clips\\clip_19_17.mp4\n",
      "\n"
     ]
    },
    {
     "name": "stderr",
     "output_type": "stream",
     "text": [
      "chunk:   1%|▏         | 1/67 [14:27<15:54:36, 867.82s/it, now=None]"
     ]
    },
    {
     "name": "stdout",
     "output_type": "stream",
     "text": [
      "MoviePy - Done !\n",
      "MoviePy - video ready Non_Behaviour_clips\\clip_19_17.mp4\n",
      "MoviePy - Building video Non_Behaviour_clips\\clip_19_18.mp4.\n",
      "MoviePy - Writing audio in clip_19_18TEMP_MPY_wvf_snd.mp3\n"
     ]
    },
    {
     "name": "stderr",
     "output_type": "stream",
     "text": [
      "chunk:   1%|▏         | 1/67 [14:28<15:54:48, 868.00s/it, now=None]"
     ]
    },
    {
     "name": "stdout",
     "output_type": "stream",
     "text": [
      "MoviePy - Done.\n",
      "MoviePy - Writing video Non_Behaviour_clips\\clip_19_18.mp4\n",
      "\n"
     ]
    },
    {
     "name": "stderr",
     "output_type": "stream",
     "text": [
      "chunk:   1%|▏         | 1/67 [14:28<15:55:21, 868.51s/it, now=None]"
     ]
    },
    {
     "name": "stdout",
     "output_type": "stream",
     "text": [
      "MoviePy - Done !\n",
      "MoviePy - video ready Non_Behaviour_clips\\clip_19_18.mp4\n",
      "MoviePy - Building video Non_Behaviour_clips\\clip_19_19.mp4.\n",
      "MoviePy - Writing audio in clip_19_19TEMP_MPY_wvf_snd.mp3\n"
     ]
    },
    {
     "name": "stderr",
     "output_type": "stream",
     "text": [
      "chunk:   1%|▏         | 1/67 [14:28<15:55:34, 868.70s/it, now=None]"
     ]
    },
    {
     "name": "stdout",
     "output_type": "stream",
     "text": [
      "MoviePy - Done.\n",
      "MoviePy - Writing video Non_Behaviour_clips\\clip_19_19.mp4\n",
      "\n"
     ]
    },
    {
     "name": "stderr",
     "output_type": "stream",
     "text": [
      "chunk:   1%|▏         | 1/67 [14:29<15:56:05, 869.17s/it, now=None]"
     ]
    },
    {
     "name": "stdout",
     "output_type": "stream",
     "text": [
      "MoviePy - Done !\n",
      "MoviePy - video ready Non_Behaviour_clips\\clip_19_19.mp4\n",
      "MoviePy - Building video Non_Behaviour_clips\\clip_19_20.mp4.\n",
      "MoviePy - Writing audio in clip_19_20TEMP_MPY_wvf_snd.mp3\n"
     ]
    },
    {
     "name": "stderr",
     "output_type": "stream",
     "text": [
      "chunk:   1%|▏         | 1/67 [14:29<15:56:17, 869.36s/it, now=None]"
     ]
    },
    {
     "name": "stdout",
     "output_type": "stream",
     "text": [
      "MoviePy - Done.\n",
      "MoviePy - Writing video Non_Behaviour_clips\\clip_19_20.mp4\n",
      "\n"
     ]
    },
    {
     "name": "stderr",
     "output_type": "stream",
     "text": [
      "chunk:   1%|▏         | 1/67 [14:29<15:56:50, 869.86s/it, now=None]"
     ]
    },
    {
     "name": "stdout",
     "output_type": "stream",
     "text": [
      "MoviePy - Done !\n",
      "MoviePy - video ready Non_Behaviour_clips\\clip_19_20.mp4\n",
      "MoviePy - Building video Non_Behaviour_clips\\clip_19_21.mp4.\n",
      "MoviePy - Writing audio in clip_19_21TEMP_MPY_wvf_snd.mp3\n"
     ]
    },
    {
     "name": "stderr",
     "output_type": "stream",
     "text": [
      "chunk:   1%|▏         | 1/67 [14:30<15:57:02, 870.03s/it, now=None]"
     ]
    },
    {
     "name": "stdout",
     "output_type": "stream",
     "text": [
      "MoviePy - Done.\n",
      "MoviePy - Writing video Non_Behaviour_clips\\clip_19_21.mp4\n",
      "\n"
     ]
    },
    {
     "name": "stderr",
     "output_type": "stream",
     "text": [
      "chunk:   1%|▏         | 1/67 [14:30<15:57:34, 870.53s/it, now=None]"
     ]
    },
    {
     "name": "stdout",
     "output_type": "stream",
     "text": [
      "MoviePy - Done !\n",
      "MoviePy - video ready Non_Behaviour_clips\\clip_19_21.mp4\n",
      "MoviePy - Building video Non_Behaviour_clips\\clip_19_22.mp4.\n",
      "MoviePy - Writing audio in clip_19_22TEMP_MPY_wvf_snd.mp3\n"
     ]
    },
    {
     "name": "stderr",
     "output_type": "stream",
     "text": [
      "chunk:   1%|▏         | 1/67 [14:30<15:57:46, 870.71s/it, now=None]"
     ]
    },
    {
     "name": "stdout",
     "output_type": "stream",
     "text": [
      "MoviePy - Done.\n",
      "MoviePy - Writing video Non_Behaviour_clips\\clip_19_22.mp4\n",
      "\n"
     ]
    },
    {
     "name": "stderr",
     "output_type": "stream",
     "text": [
      "chunk:   1%|▏         | 1/67 [14:31<15:58:20, 871.21s/it, now=None]"
     ]
    },
    {
     "name": "stdout",
     "output_type": "stream",
     "text": [
      "MoviePy - Done !\n",
      "MoviePy - video ready Non_Behaviour_clips\\clip_19_22.mp4\n",
      "MoviePy - Building video Non_Behaviour_clips\\clip_19_23.mp4.\n",
      "MoviePy - Writing audio in clip_19_23TEMP_MPY_wvf_snd.mp3\n"
     ]
    },
    {
     "name": "stderr",
     "output_type": "stream",
     "text": [
      "chunk:   1%|▏         | 1/67 [14:31<15:58:32, 871.41s/it, now=None]"
     ]
    },
    {
     "name": "stdout",
     "output_type": "stream",
     "text": [
      "MoviePy - Done.\n",
      "MoviePy - Writing video Non_Behaviour_clips\\clip_19_23.mp4\n",
      "\n"
     ]
    },
    {
     "name": "stderr",
     "output_type": "stream",
     "text": [
      "chunk:   1%|▏         | 1/67 [14:31<15:59:06, 871.92s/it, now=None]"
     ]
    },
    {
     "name": "stdout",
     "output_type": "stream",
     "text": [
      "MoviePy - Done !\n",
      "MoviePy - video ready Non_Behaviour_clips\\clip_19_23.mp4\n",
      "MoviePy - Building video Non_Behaviour_clips\\clip_19_24.mp4.\n",
      "MoviePy - Writing audio in clip_19_24TEMP_MPY_wvf_snd.mp3\n"
     ]
    },
    {
     "name": "stderr",
     "output_type": "stream",
     "text": [
      "chunk:   1%|▏         | 1/67 [14:32<15:59:19, 872.11s/it, now=None]"
     ]
    },
    {
     "name": "stdout",
     "output_type": "stream",
     "text": [
      "MoviePy - Done.\n",
      "MoviePy - Writing video Non_Behaviour_clips\\clip_19_24.mp4\n",
      "\n"
     ]
    },
    {
     "name": "stderr",
     "output_type": "stream",
     "text": [
      "chunk:   1%|▏         | 1/67 [14:32<15:59:50, 872.59s/it, now=None]"
     ]
    },
    {
     "name": "stdout",
     "output_type": "stream",
     "text": [
      "MoviePy - Done !\n",
      "MoviePy - video ready Non_Behaviour_clips\\clip_19_24.mp4\n",
      "MoviePy - Building video Non_Behaviour_clips\\clip_19_25.mp4.\n",
      "MoviePy - Writing audio in clip_19_25TEMP_MPY_wvf_snd.mp3\n"
     ]
    },
    {
     "name": "stderr",
     "output_type": "stream",
     "text": [
      "chunk:   1%|▏         | 1/67 [14:32<16:00:02, 872.77s/it, now=None]"
     ]
    },
    {
     "name": "stdout",
     "output_type": "stream",
     "text": [
      "MoviePy - Done.\n",
      "MoviePy - Writing video Non_Behaviour_clips\\clip_19_25.mp4\n",
      "\n"
     ]
    },
    {
     "name": "stderr",
     "output_type": "stream",
     "text": [
      "chunk:   1%|▏         | 1/67 [14:33<16:00:34, 873.24s/it, now=None]"
     ]
    },
    {
     "name": "stdout",
     "output_type": "stream",
     "text": [
      "MoviePy - Done !\n",
      "MoviePy - video ready Non_Behaviour_clips\\clip_19_25.mp4\n",
      "MoviePy - Building video Non_Behaviour_clips\\clip_19_26.mp4.\n",
      "MoviePy - Writing audio in clip_19_26TEMP_MPY_wvf_snd.mp3\n"
     ]
    },
    {
     "name": "stderr",
     "output_type": "stream",
     "text": [
      "chunk:   1%|▏         | 1/67 [14:33<16:00:46, 873.43s/it, now=None]"
     ]
    },
    {
     "name": "stdout",
     "output_type": "stream",
     "text": [
      "MoviePy - Done.\n",
      "MoviePy - Writing video Non_Behaviour_clips\\clip_19_26.mp4\n",
      "\n"
     ]
    },
    {
     "name": "stderr",
     "output_type": "stream",
     "text": [
      "chunk:   1%|▏         | 1/67 [14:33<16:01:17, 873.90s/it, now=None]"
     ]
    },
    {
     "name": "stdout",
     "output_type": "stream",
     "text": [
      "MoviePy - Done !\n",
      "MoviePy - video ready Non_Behaviour_clips\\clip_19_26.mp4\n",
      "MoviePy - Building video Non_Behaviour_clips\\clip_19_27.mp4.\n",
      "MoviePy - Writing audio in clip_19_27TEMP_MPY_wvf_snd.mp3\n"
     ]
    },
    {
     "name": "stderr",
     "output_type": "stream",
     "text": [
      "                                                                   \r"
     ]
    },
    {
     "name": "stdout",
     "output_type": "stream",
     "text": [
      "MoviePy - Done.\n"
     ]
    },
    {
     "name": "stderr",
     "output_type": "stream",
     "text": [
      "chunk:   1%|▏         | 1/67 [14:34<16:01:29, 874.08s/it, now=None]"
     ]
    },
    {
     "name": "stdout",
     "output_type": "stream",
     "text": [
      "MoviePy - Writing video Non_Behaviour_clips\\clip_19_27.mp4\n",
      "\n"
     ]
    },
    {
     "name": "stderr",
     "output_type": "stream",
     "text": [
      "chunk:   1%|▏         | 1/67 [14:34<16:01:59, 874.54s/it, now=None]"
     ]
    },
    {
     "name": "stdout",
     "output_type": "stream",
     "text": [
      "MoviePy - Done !\n",
      "MoviePy - video ready Non_Behaviour_clips\\clip_19_27.mp4\n",
      "MoviePy - Building video Non_Behaviour_clips\\clip_19_28.mp4.\n",
      "MoviePy - Writing audio in clip_19_28TEMP_MPY_wvf_snd.mp3\n"
     ]
    },
    {
     "name": "stderr",
     "output_type": "stream",
     "text": [
      "chunk:   1%|▏         | 1/67 [14:34<16:02:10, 874.71s/it, now=None]"
     ]
    },
    {
     "name": "stdout",
     "output_type": "stream",
     "text": [
      "MoviePy - Done.\n",
      "MoviePy - Writing video Non_Behaviour_clips\\clip_19_28.mp4\n",
      "\n"
     ]
    },
    {
     "name": "stderr",
     "output_type": "stream",
     "text": [
      "chunk:   1%|▏         | 1/67 [14:35<16:02:42, 875.18s/it, now=None]"
     ]
    },
    {
     "name": "stdout",
     "output_type": "stream",
     "text": [
      "MoviePy - Done !\n",
      "MoviePy - video ready Non_Behaviour_clips\\clip_19_28.mp4\n",
      "MoviePy - Building video Non_Behaviour_clips\\clip_19_29.mp4.\n",
      "MoviePy - Writing audio in clip_19_29TEMP_MPY_wvf_snd.mp3\n"
     ]
    },
    {
     "name": "stderr",
     "output_type": "stream",
     "text": [
      "chunk:   1%|▏         | 1/67 [14:35<16:02:54, 875.38s/it, now=None]"
     ]
    },
    {
     "name": "stdout",
     "output_type": "stream",
     "text": [
      "MoviePy - Done.\n",
      "MoviePy - Writing video Non_Behaviour_clips\\clip_19_29.mp4\n",
      "\n"
     ]
    },
    {
     "name": "stderr",
     "output_type": "stream",
     "text": [
      "chunk:   1%|▏         | 1/67 [14:35<16:03:27, 875.87s/it, now=None]"
     ]
    },
    {
     "name": "stdout",
     "output_type": "stream",
     "text": [
      "MoviePy - Done !\n",
      "MoviePy - video ready Non_Behaviour_clips\\clip_19_29.mp4\n",
      "MoviePy - Building video Non_Behaviour_clips\\clip_19_30.mp4.\n",
      "MoviePy - Writing audio in clip_19_30TEMP_MPY_wvf_snd.mp3\n"
     ]
    },
    {
     "name": "stderr",
     "output_type": "stream",
     "text": [
      "chunk:   1%|▏         | 1/67 [14:36<16:03:39, 876.05s/it, now=None]"
     ]
    },
    {
     "name": "stdout",
     "output_type": "stream",
     "text": [
      "MoviePy - Done.\n",
      "MoviePy - Writing video Non_Behaviour_clips\\clip_19_30.mp4\n",
      "\n"
     ]
    },
    {
     "name": "stderr",
     "output_type": "stream",
     "text": [
      "chunk:   1%|▏         | 1/67 [14:36<16:04:10, 876.52s/it, now=None]"
     ]
    },
    {
     "name": "stdout",
     "output_type": "stream",
     "text": [
      "MoviePy - Done !\n",
      "MoviePy - video ready Non_Behaviour_clips\\clip_19_30.mp4\n",
      "MoviePy - Building video Non_Behaviour_clips\\clip_19_31.mp4.\n",
      "MoviePy - Writing audio in clip_19_31TEMP_MPY_wvf_snd.mp3\n"
     ]
    },
    {
     "name": "stderr",
     "output_type": "stream",
     "text": [
      "chunk:   1%|▏         | 1/67 [14:36<16:04:22, 876.70s/it, now=None]"
     ]
    },
    {
     "name": "stdout",
     "output_type": "stream",
     "text": [
      "MoviePy - Done.\n",
      "MoviePy - Writing video Non_Behaviour_clips\\clip_19_31.mp4\n",
      "\n"
     ]
    },
    {
     "name": "stderr",
     "output_type": "stream",
     "text": [
      "chunk:   1%|▏         | 1/67 [14:37<16:04:53, 877.18s/it, now=None]"
     ]
    },
    {
     "name": "stdout",
     "output_type": "stream",
     "text": [
      "MoviePy - Done !\n",
      "MoviePy - video ready Non_Behaviour_clips\\clip_19_31.mp4\n",
      "MoviePy - Building video Non_Behaviour_clips\\clip_19_32.mp4.\n",
      "MoviePy - Writing audio in clip_19_32TEMP_MPY_wvf_snd.mp3\n"
     ]
    },
    {
     "name": "stderr",
     "output_type": "stream",
     "text": [
      "chunk:   1%|▏         | 1/67 [14:37<16:05:05, 877.36s/it, now=None]"
     ]
    },
    {
     "name": "stdout",
     "output_type": "stream",
     "text": [
      "MoviePy - Done.\n",
      "MoviePy - Writing video Non_Behaviour_clips\\clip_19_32.mp4\n",
      "\n"
     ]
    },
    {
     "name": "stderr",
     "output_type": "stream",
     "text": [
      "chunk:   1%|▏         | 1/67 [14:37<16:05:37, 877.84s/it, now=None]"
     ]
    },
    {
     "name": "stdout",
     "output_type": "stream",
     "text": [
      "MoviePy - Done !\n",
      "MoviePy - video ready Non_Behaviour_clips\\clip_19_32.mp4\n",
      "MoviePy - Building video Non_Behaviour_clips\\clip_19_33.mp4.\n",
      "MoviePy - Writing audio in clip_19_33TEMP_MPY_wvf_snd.mp3\n"
     ]
    },
    {
     "name": "stderr",
     "output_type": "stream",
     "text": [
      "chunk:   1%|▏         | 1/67 [14:38<16:05:48, 878.01s/it, now=None]"
     ]
    },
    {
     "name": "stdout",
     "output_type": "stream",
     "text": [
      "MoviePy - Done.\n",
      "MoviePy - Writing video Non_Behaviour_clips\\clip_19_33.mp4\n",
      "\n"
     ]
    },
    {
     "name": "stderr",
     "output_type": "stream",
     "text": [
      "chunk:   1%|▏         | 1/67 [14:38<16:06:19, 878.47s/it, now=None]"
     ]
    },
    {
     "name": "stdout",
     "output_type": "stream",
     "text": [
      "MoviePy - Done !\n",
      "MoviePy - video ready Non_Behaviour_clips\\clip_19_33.mp4\n",
      "MoviePy - Building video Non_Behaviour_clips\\clip_19_34.mp4.\n",
      "MoviePy - Writing audio in clip_19_34TEMP_MPY_wvf_snd.mp3\n"
     ]
    },
    {
     "name": "stderr",
     "output_type": "stream",
     "text": [
      "chunk:   1%|▏         | 1/67 [14:38<16:06:31, 878.65s/it, now=None]"
     ]
    },
    {
     "name": "stdout",
     "output_type": "stream",
     "text": [
      "MoviePy - Done.\n",
      "MoviePy - Writing video Non_Behaviour_clips\\clip_19_34.mp4\n",
      "\n"
     ]
    },
    {
     "name": "stderr",
     "output_type": "stream",
     "text": [
      "chunk:   1%|▏         | 1/67 [14:39<16:07:02, 879.13s/it, now=None]"
     ]
    },
    {
     "name": "stdout",
     "output_type": "stream",
     "text": [
      "MoviePy - Done !\n",
      "MoviePy - video ready Non_Behaviour_clips\\clip_19_34.mp4\n",
      "MoviePy - Building video Non_Behaviour_clips\\clip_19_35.mp4.\n",
      "MoviePy - Writing audio in clip_19_35TEMP_MPY_wvf_snd.mp3\n"
     ]
    },
    {
     "name": "stderr",
     "output_type": "stream",
     "text": [
      "chunk:   1%|▏         | 1/67 [14:39<16:07:14, 879.30s/it, now=None]"
     ]
    },
    {
     "name": "stdout",
     "output_type": "stream",
     "text": [
      "MoviePy - Done.\n",
      "MoviePy - Writing video Non_Behaviour_clips\\clip_19_35.mp4\n",
      "\n"
     ]
    },
    {
     "name": "stderr",
     "output_type": "stream",
     "text": [
      "chunk:   1%|▏         | 1/67 [14:39<16:07:46, 879.80s/it, now=None]"
     ]
    },
    {
     "name": "stdout",
     "output_type": "stream",
     "text": [
      "MoviePy - Done !\n",
      "MoviePy - video ready Non_Behaviour_clips\\clip_19_35.mp4\n",
      "MoviePy - Building video Non_Behaviour_clips\\clip_19_36.mp4.\n",
      "MoviePy - Writing audio in clip_19_36TEMP_MPY_wvf_snd.mp3\n"
     ]
    },
    {
     "name": "stderr",
     "output_type": "stream",
     "text": [
      "chunk:   1%|▏         | 1/67 [14:39<16:07:58, 879.98s/it, now=None]"
     ]
    },
    {
     "name": "stdout",
     "output_type": "stream",
     "text": [
      "MoviePy - Done.\n",
      "MoviePy - Writing video Non_Behaviour_clips\\clip_19_36.mp4\n",
      "\n"
     ]
    },
    {
     "name": "stderr",
     "output_type": "stream",
     "text": [
      "chunk:   1%|▏         | 1/67 [14:40<16:08:31, 880.47s/it, now=None]"
     ]
    },
    {
     "name": "stdout",
     "output_type": "stream",
     "text": [
      "MoviePy - Done !\n",
      "MoviePy - video ready Non_Behaviour_clips\\clip_19_36.mp4\n",
      "MoviePy - Building video Non_Behaviour_clips\\clip_19_37.mp4.\n",
      "MoviePy - Writing audio in clip_19_37TEMP_MPY_wvf_snd.mp3\n"
     ]
    },
    {
     "name": "stderr",
     "output_type": "stream",
     "text": [
      "chunk:   1%|▏         | 1/67 [14:40<16:08:42, 880.65s/it, now=None]"
     ]
    },
    {
     "name": "stdout",
     "output_type": "stream",
     "text": [
      "MoviePy - Done.\n",
      "MoviePy - Writing video Non_Behaviour_clips\\clip_19_37.mp4\n",
      "\n"
     ]
    },
    {
     "name": "stderr",
     "output_type": "stream",
     "text": [
      "chunk:   1%|▏         | 1/67 [14:41<16:09:18, 881.18s/it, now=None]"
     ]
    },
    {
     "name": "stdout",
     "output_type": "stream",
     "text": [
      "MoviePy - Done !\n",
      "MoviePy - video ready Non_Behaviour_clips\\clip_19_37.mp4\n",
      "MoviePy - Building video Non_Behaviour_clips\\clip_19_38.mp4.\n",
      "MoviePy - Writing audio in clip_19_38TEMP_MPY_wvf_snd.mp3\n"
     ]
    },
    {
     "name": "stderr",
     "output_type": "stream",
     "text": [
      "chunk:   1%|▏         | 1/67 [14:41<16:09:30, 881.36s/it, now=None]"
     ]
    },
    {
     "name": "stdout",
     "output_type": "stream",
     "text": [
      "MoviePy - Done.\n",
      "MoviePy - Writing video Non_Behaviour_clips\\clip_19_38.mp4\n",
      "\n"
     ]
    },
    {
     "name": "stderr",
     "output_type": "stream",
     "text": [
      "chunk:   1%|▏         | 1/67 [14:41<16:10:02, 881.86s/it, now=None]"
     ]
    },
    {
     "name": "stdout",
     "output_type": "stream",
     "text": [
      "MoviePy - Done !\n",
      "MoviePy - video ready Non_Behaviour_clips\\clip_19_38.mp4\n",
      "MoviePy - Building video Non_Behaviour_clips\\clip_19_39.mp4.\n",
      "MoviePy - Writing audio in clip_19_39TEMP_MPY_wvf_snd.mp3\n"
     ]
    },
    {
     "name": "stderr",
     "output_type": "stream",
     "text": [
      "chunk:   1%|▏         | 1/67 [14:42<16:10:15, 882.05s/it, now=None]"
     ]
    },
    {
     "name": "stdout",
     "output_type": "stream",
     "text": [
      "MoviePy - Done.\n",
      "MoviePy - Writing video Non_Behaviour_clips\\clip_19_39.mp4\n",
      "\n"
     ]
    },
    {
     "name": "stderr",
     "output_type": "stream",
     "text": [
      "chunk:   1%|▏         | 1/67 [14:42<16:10:48, 882.55s/it, now=None]"
     ]
    },
    {
     "name": "stdout",
     "output_type": "stream",
     "text": [
      "MoviePy - Done !\n",
      "MoviePy - video ready Non_Behaviour_clips\\clip_19_39.mp4\n",
      "MoviePy - Building video Non_Behaviour_clips\\clip_19_40.mp4.\n",
      "MoviePy - Writing audio in clip_19_40TEMP_MPY_wvf_snd.mp3\n"
     ]
    },
    {
     "name": "stderr",
     "output_type": "stream",
     "text": [
      "chunk:   1%|▏         | 1/67 [14:42<16:11:00, 882.74s/it, now=None]"
     ]
    },
    {
     "name": "stdout",
     "output_type": "stream",
     "text": [
      "MoviePy - Done.\n",
      "MoviePy - Writing video Non_Behaviour_clips\\clip_19_40.mp4\n",
      "\n"
     ]
    },
    {
     "name": "stderr",
     "output_type": "stream",
     "text": [
      "chunk:   1%|▏         | 1/67 [14:43<16:11:32, 883.22s/it, now=None]"
     ]
    },
    {
     "name": "stdout",
     "output_type": "stream",
     "text": [
      "MoviePy - Done !\n",
      "MoviePy - video ready Non_Behaviour_clips\\clip_19_40.mp4\n",
      "MoviePy - Building video Non_Behaviour_clips\\clip_19_41.mp4.\n",
      "MoviePy - Writing audio in clip_19_41TEMP_MPY_wvf_snd.mp3\n"
     ]
    },
    {
     "name": "stderr",
     "output_type": "stream",
     "text": [
      "chunk:   1%|▏         | 1/67 [14:43<16:11:44, 883.40s/it, now=None]"
     ]
    },
    {
     "name": "stdout",
     "output_type": "stream",
     "text": [
      "MoviePy - Done.\n",
      "MoviePy - Writing video Non_Behaviour_clips\\clip_19_41.mp4\n",
      "\n"
     ]
    },
    {
     "name": "stderr",
     "output_type": "stream",
     "text": [
      "chunk:   1%|▏         | 1/67 [14:43<16:12:16, 883.88s/it, now=None]"
     ]
    },
    {
     "name": "stdout",
     "output_type": "stream",
     "text": [
      "MoviePy - Done !\n",
      "MoviePy - video ready Non_Behaviour_clips\\clip_19_41.mp4\n",
      "MoviePy - Building video Non_Behaviour_clips\\clip_19_42.mp4.\n",
      "MoviePy - Writing audio in clip_19_42TEMP_MPY_wvf_snd.mp3\n"
     ]
    },
    {
     "name": "stderr",
     "output_type": "stream",
     "text": [
      "chunk:   1%|▏         | 1/67 [14:44<16:12:28, 884.06s/it, now=None]"
     ]
    },
    {
     "name": "stdout",
     "output_type": "stream",
     "text": [
      "MoviePy - Done.\n",
      "MoviePy - Writing video Non_Behaviour_clips\\clip_19_42.mp4\n",
      "\n"
     ]
    },
    {
     "name": "stderr",
     "output_type": "stream",
     "text": [
      "chunk:   1%|▏         | 1/67 [14:44<16:12:59, 884.54s/it, now=None]"
     ]
    },
    {
     "name": "stdout",
     "output_type": "stream",
     "text": [
      "MoviePy - Done !\n",
      "MoviePy - video ready Non_Behaviour_clips\\clip_19_42.mp4\n",
      "MoviePy - Building video Non_Behaviour_clips\\clip_19_43.mp4.\n",
      "MoviePy - Writing audio in clip_19_43TEMP_MPY_wvf_snd.mp3\n"
     ]
    },
    {
     "name": "stderr",
     "output_type": "stream",
     "text": [
      "chunk:   1%|▏         | 1/67 [14:44<16:13:12, 884.73s/it, now=None]"
     ]
    },
    {
     "name": "stdout",
     "output_type": "stream",
     "text": [
      "MoviePy - Done.\n",
      "MoviePy - Writing video Non_Behaviour_clips\\clip_19_43.mp4\n",
      "\n"
     ]
    },
    {
     "name": "stderr",
     "output_type": "stream",
     "text": [
      "chunk:   1%|▏         | 1/67 [14:45<16:13:43, 885.20s/it, now=None]"
     ]
    },
    {
     "name": "stdout",
     "output_type": "stream",
     "text": [
      "MoviePy - Done !\n",
      "MoviePy - video ready Non_Behaviour_clips\\clip_19_43.mp4\n",
      "MoviePy - Building video Non_Behaviour_clips\\clip_19_44.mp4.\n",
      "MoviePy - Writing audio in clip_19_44TEMP_MPY_wvf_snd.mp3\n"
     ]
    },
    {
     "name": "stderr",
     "output_type": "stream",
     "text": [
      "chunk:   1%|▏         | 1/67 [14:45<16:13:55, 885.38s/it, now=None]"
     ]
    },
    {
     "name": "stdout",
     "output_type": "stream",
     "text": [
      "MoviePy - Done.\n",
      "MoviePy - Writing video Non_Behaviour_clips\\clip_19_44.mp4\n",
      "\n"
     ]
    },
    {
     "name": "stderr",
     "output_type": "stream",
     "text": [
      "chunk:   1%|▏         | 1/67 [14:45<16:14:27, 885.87s/it, now=None]"
     ]
    },
    {
     "name": "stdout",
     "output_type": "stream",
     "text": [
      "MoviePy - Done !\n",
      "MoviePy - video ready Non_Behaviour_clips\\clip_19_44.mp4\n",
      "MoviePy - Building video Non_Behaviour_clips\\clip_19_45.mp4.\n",
      "MoviePy - Writing audio in clip_19_45TEMP_MPY_wvf_snd.mp3\n"
     ]
    },
    {
     "name": "stderr",
     "output_type": "stream",
     "text": [
      "chunk:   1%|▏         | 1/67 [14:46<16:14:40, 886.06s/it, now=None]"
     ]
    },
    {
     "name": "stdout",
     "output_type": "stream",
     "text": [
      "MoviePy - Done.\n",
      "MoviePy - Writing video Non_Behaviour_clips\\clip_19_45.mp4\n",
      "\n"
     ]
    },
    {
     "name": "stderr",
     "output_type": "stream",
     "text": [
      "chunk:   1%|▏         | 1/67 [14:46<16:15:12, 886.56s/it, now=None]"
     ]
    },
    {
     "name": "stdout",
     "output_type": "stream",
     "text": [
      "MoviePy - Done !\n",
      "MoviePy - video ready Non_Behaviour_clips\\clip_19_45.mp4\n",
      "MoviePy - Building video Non_Behaviour_clips\\clip_19_46.mp4.\n",
      "MoviePy - Writing audio in clip_19_46TEMP_MPY_wvf_snd.mp3\n"
     ]
    },
    {
     "name": "stderr",
     "output_type": "stream",
     "text": [
      "chunk:   1%|▏         | 1/67 [14:46<16:15:24, 886.73s/it, now=None]"
     ]
    },
    {
     "name": "stdout",
     "output_type": "stream",
     "text": [
      "MoviePy - Done.\n"
     ]
    },
    {
     "name": "stderr",
     "output_type": "stream",
     "text": [
      "chunk:   1%|▏         | 1/67 [14:46<16:15:24, 886.74s/it, now=None]"
     ]
    },
    {
     "name": "stdout",
     "output_type": "stream",
     "text": [
      "MoviePy - Writing video Non_Behaviour_clips\\clip_19_46.mp4\n",
      "\n"
     ]
    },
    {
     "name": "stderr",
     "output_type": "stream",
     "text": [
      "chunk:   1%|▏         | 1/67 [14:47<16:15:54, 887.20s/it, now=None]"
     ]
    },
    {
     "name": "stdout",
     "output_type": "stream",
     "text": [
      "MoviePy - Done !\n",
      "MoviePy - video ready Non_Behaviour_clips\\clip_19_46.mp4\n",
      "MoviePy - Building video Non_Behaviour_clips\\clip_19_47.mp4.\n",
      "MoviePy - Writing audio in clip_19_47TEMP_MPY_wvf_snd.mp3\n"
     ]
    },
    {
     "name": "stderr",
     "output_type": "stream",
     "text": [
      "chunk:   1%|▏         | 1/67 [14:47<16:16:07, 887.39s/it, now=None]"
     ]
    },
    {
     "name": "stdout",
     "output_type": "stream",
     "text": [
      "MoviePy - Done.\n",
      "MoviePy - Writing video Non_Behaviour_clips\\clip_19_47.mp4\n",
      "\n"
     ]
    },
    {
     "name": "stderr",
     "output_type": "stream",
     "text": [
      "chunk:   1%|▏         | 1/67 [14:47<16:16:40, 887.89s/it, now=None]"
     ]
    },
    {
     "name": "stdout",
     "output_type": "stream",
     "text": [
      "MoviePy - Done !\n",
      "MoviePy - video ready Non_Behaviour_clips\\clip_19_47.mp4\n",
      "MoviePy - Building video Non_Behaviour_clips\\clip_19_48.mp4.\n",
      "MoviePy - Writing audio in clip_19_48TEMP_MPY_wvf_snd.mp3\n"
     ]
    },
    {
     "name": "stderr",
     "output_type": "stream",
     "text": [
      "chunk:   1%|▏         | 1/67 [14:48<16:16:53, 888.08s/it, now=None]"
     ]
    },
    {
     "name": "stdout",
     "output_type": "stream",
     "text": [
      "MoviePy - Done.\n",
      "MoviePy - Writing video Non_Behaviour_clips\\clip_19_48.mp4\n",
      "\n"
     ]
    },
    {
     "name": "stderr",
     "output_type": "stream",
     "text": [
      "chunk:   1%|▏         | 1/67 [14:48<16:17:22, 888.52s/it, now=None]"
     ]
    },
    {
     "name": "stdout",
     "output_type": "stream",
     "text": [
      "MoviePy - Done !\n",
      "MoviePy - video ready Non_Behaviour_clips\\clip_19_48.mp4\n",
      "MoviePy - Building video Non_Behaviour_clips\\clip_19_49.mp4.\n",
      "MoviePy - Writing audio in clip_19_49TEMP_MPY_wvf_snd.mp3\n"
     ]
    },
    {
     "name": "stderr",
     "output_type": "stream",
     "text": [
      "chunk:   1%|▏         | 1/67 [14:48<16:17:34, 888.71s/it, now=None]"
     ]
    },
    {
     "name": "stdout",
     "output_type": "stream",
     "text": [
      "MoviePy - Done.\n",
      "MoviePy - Writing video Non_Behaviour_clips\\clip_19_49.mp4\n",
      "\n"
     ]
    },
    {
     "name": "stderr",
     "output_type": "stream",
     "text": [
      "chunk:   1%|▏         | 1/67 [14:49<16:18:03, 889.15s/it, now=None]"
     ]
    },
    {
     "name": "stdout",
     "output_type": "stream",
     "text": [
      "MoviePy - Done !\n",
      "MoviePy - video ready Non_Behaviour_clips\\clip_19_49.mp4\n",
      "MoviePy - Building video Non_Behaviour_clips\\clip_19_50.mp4.\n",
      "MoviePy - Writing audio in clip_19_50TEMP_MPY_wvf_snd.mp3\n"
     ]
    },
    {
     "name": "stderr",
     "output_type": "stream",
     "text": [
      "chunk:   1%|▏         | 1/67 [14:49<16:18:16, 889.34s/it, now=None]"
     ]
    },
    {
     "name": "stdout",
     "output_type": "stream",
     "text": [
      "MoviePy - Done.\n",
      "MoviePy - Writing video Non_Behaviour_clips\\clip_19_50.mp4\n",
      "\n"
     ]
    },
    {
     "name": "stderr",
     "output_type": "stream",
     "text": [
      "chunk:   1%|▏         | 1/67 [14:49<16:18:46, 889.79s/it, now=None]"
     ]
    },
    {
     "name": "stdout",
     "output_type": "stream",
     "text": [
      "MoviePy - Done !\n",
      "MoviePy - video ready Non_Behaviour_clips\\clip_19_50.mp4\n",
      "MoviePy - Building video Non_Behaviour_clips\\clip_19_51.mp4.\n",
      "MoviePy - Writing audio in clip_19_51TEMP_MPY_wvf_snd.mp3\n"
     ]
    },
    {
     "name": "stderr",
     "output_type": "stream",
     "text": [
      "chunk:   1%|▏         | 1/67 [14:49<16:18:58, 889.97s/it, now=None]"
     ]
    },
    {
     "name": "stdout",
     "output_type": "stream",
     "text": [
      "MoviePy - Done.\n",
      "MoviePy - Writing video Non_Behaviour_clips\\clip_19_51.mp4\n",
      "\n"
     ]
    },
    {
     "name": "stderr",
     "output_type": "stream",
     "text": [
      "chunk:   1%|▏         | 1/67 [14:50<16:19:31, 890.47s/it, now=None]"
     ]
    },
    {
     "name": "stdout",
     "output_type": "stream",
     "text": [
      "MoviePy - Done !\n",
      "MoviePy - video ready Non_Behaviour_clips\\clip_19_51.mp4\n",
      "MoviePy - Building video Non_Behaviour_clips\\clip_19_52.mp4.\n",
      "MoviePy - Writing audio in clip_19_52TEMP_MPY_wvf_snd.mp3\n"
     ]
    },
    {
     "name": "stderr",
     "output_type": "stream",
     "text": [
      "chunk:   1%|▏         | 1/67 [14:50<16:19:44, 890.67s/it, now=None]"
     ]
    },
    {
     "name": "stdout",
     "output_type": "stream",
     "text": [
      "MoviePy - Done.\n",
      "MoviePy - Writing video Non_Behaviour_clips\\clip_19_52.mp4\n",
      "\n"
     ]
    },
    {
     "name": "stderr",
     "output_type": "stream",
     "text": [
      "chunk:   1%|▏         | 1/67 [14:51<16:20:20, 891.23s/it, now=None]"
     ]
    },
    {
     "name": "stdout",
     "output_type": "stream",
     "text": [
      "MoviePy - Done !\n",
      "MoviePy - video ready Non_Behaviour_clips\\clip_19_52.mp4\n",
      "MoviePy - Building video Non_Behaviour_clips\\clip_19_53.mp4.\n",
      "MoviePy - Writing audio in clip_19_53TEMP_MPY_wvf_snd.mp3\n"
     ]
    },
    {
     "name": "stderr",
     "output_type": "stream",
     "text": [
      "chunk:   1%|▏         | 1/67 [14:51<16:20:34, 891.43s/it, now=None]"
     ]
    },
    {
     "name": "stdout",
     "output_type": "stream",
     "text": [
      "MoviePy - Done.\n",
      "MoviePy - Writing video Non_Behaviour_clips\\clip_19_53.mp4\n",
      "\n"
     ]
    },
    {
     "name": "stderr",
     "output_type": "stream",
     "text": [
      "chunk:   1%|▏         | 1/67 [14:51<16:21:03, 891.88s/it, now=None]"
     ]
    },
    {
     "name": "stdout",
     "output_type": "stream",
     "text": [
      "MoviePy - Done !\n",
      "MoviePy - video ready Non_Behaviour_clips\\clip_19_53.mp4\n",
      "MoviePy - Building video Non_Behaviour_clips\\clip_19_54.mp4.\n",
      "MoviePy - Writing audio in clip_19_54TEMP_MPY_wvf_snd.mp3\n"
     ]
    },
    {
     "name": "stderr",
     "output_type": "stream",
     "text": [
      "chunk:   1%|▏         | 1/67 [14:52<16:21:16, 892.07s/it, now=None]"
     ]
    },
    {
     "name": "stdout",
     "output_type": "stream",
     "text": [
      "MoviePy - Done.\n",
      "MoviePy - Writing video Non_Behaviour_clips\\clip_19_54.mp4\n",
      "\n"
     ]
    },
    {
     "name": "stderr",
     "output_type": "stream",
     "text": [
      "chunk:   1%|▏         | 1/67 [14:52<16:21:47, 892.53s/it, now=None]"
     ]
    },
    {
     "name": "stdout",
     "output_type": "stream",
     "text": [
      "MoviePy - Done !\n",
      "MoviePy - video ready Non_Behaviour_clips\\clip_19_54.mp4\n",
      "MoviePy - Building video Non_Behaviour_clips\\clip_19_55.mp4.\n",
      "MoviePy - Writing audio in clip_19_55TEMP_MPY_wvf_snd.mp3\n"
     ]
    },
    {
     "name": "stderr",
     "output_type": "stream",
     "text": [
      "chunk:   1%|▏         | 1/67 [14:52<16:22:01, 892.75s/it, now=None]"
     ]
    },
    {
     "name": "stdout",
     "output_type": "stream",
     "text": [
      "MoviePy - Done.\n",
      "MoviePy - Writing video Non_Behaviour_clips\\clip_19_55.mp4\n",
      "\n"
     ]
    },
    {
     "name": "stderr",
     "output_type": "stream",
     "text": [
      "chunk:   1%|▏         | 1/67 [14:53<16:22:34, 893.25s/it, now=None]"
     ]
    },
    {
     "name": "stdout",
     "output_type": "stream",
     "text": [
      "MoviePy - Done !\n",
      "MoviePy - video ready Non_Behaviour_clips\\clip_19_55.mp4\n",
      "MoviePy - Building video Non_Behaviour_clips\\clip_19_56.mp4.\n",
      "MoviePy - Writing audio in clip_19_56TEMP_MPY_wvf_snd.mp3\n"
     ]
    },
    {
     "name": "stderr",
     "output_type": "stream",
     "text": [
      "chunk:   1%|▏         | 1/67 [14:53<16:22:48, 893.45s/it, now=None]"
     ]
    },
    {
     "name": "stdout",
     "output_type": "stream",
     "text": [
      "MoviePy - Done.\n",
      "MoviePy - Writing video Non_Behaviour_clips\\clip_19_56.mp4\n",
      "\n"
     ]
    },
    {
     "name": "stderr",
     "output_type": "stream",
     "text": [
      "chunk:   1%|▏         | 1/67 [14:53<16:23:22, 893.97s/it, now=None]"
     ]
    },
    {
     "name": "stdout",
     "output_type": "stream",
     "text": [
      "MoviePy - Done !\n",
      "MoviePy - video ready Non_Behaviour_clips\\clip_19_56.mp4\n",
      "MoviePy - Building video Non_Behaviour_clips\\clip_19_57.mp4.\n",
      "MoviePy - Writing audio in clip_19_57TEMP_MPY_wvf_snd.mp3\n"
     ]
    },
    {
     "name": "stderr",
     "output_type": "stream",
     "text": [
      "chunk:   1%|▏         | 1/67 [14:54<16:23:35, 894.17s/it, now=None]"
     ]
    },
    {
     "name": "stdout",
     "output_type": "stream",
     "text": [
      "MoviePy - Done.\n",
      "MoviePy - Writing video Non_Behaviour_clips\\clip_19_57.mp4\n",
      "\n"
     ]
    },
    {
     "name": "stderr",
     "output_type": "stream",
     "text": [
      "chunk:   1%|▏         | 1/67 [14:54<16:24:06, 894.65s/it, now=None]"
     ]
    },
    {
     "name": "stdout",
     "output_type": "stream",
     "text": [
      "MoviePy - Done !\n",
      "MoviePy - video ready Non_Behaviour_clips\\clip_19_57.mp4\n",
      "MoviePy - Building video Non_Behaviour_clips\\clip_19_58.mp4.\n",
      "MoviePy - Writing audio in clip_19_58TEMP_MPY_wvf_snd.mp3\n"
     ]
    },
    {
     "name": "stderr",
     "output_type": "stream",
     "text": [
      "chunk:   1%|▏         | 1/67 [14:54<16:24:19, 894.84s/it, now=None]"
     ]
    },
    {
     "name": "stdout",
     "output_type": "stream",
     "text": [
      "MoviePy - Done.\n",
      "MoviePy - Writing video Non_Behaviour_clips\\clip_19_58.mp4\n",
      "\n"
     ]
    },
    {
     "name": "stderr",
     "output_type": "stream",
     "text": [
      "chunk:   1%|▏         | 1/67 [14:55<16:24:54, 895.36s/it, now=None]"
     ]
    },
    {
     "name": "stdout",
     "output_type": "stream",
     "text": [
      "MoviePy - Done !\n",
      "MoviePy - video ready Non_Behaviour_clips\\clip_19_58.mp4\n",
      "MoviePy - Building video Non_Behaviour_clips\\clip_19_59.mp4.\n",
      "MoviePy - Writing audio in clip_19_59TEMP_MPY_wvf_snd.mp3\n"
     ]
    },
    {
     "name": "stderr",
     "output_type": "stream",
     "text": [
      "chunk:   1%|▏         | 1/67 [14:55<16:25:03, 895.51s/it, now=None]"
     ]
    },
    {
     "name": "stdout",
     "output_type": "stream",
     "text": [
      "MoviePy - Done.\n",
      "MoviePy - Writing video Non_Behaviour_clips\\clip_19_59.mp4\n",
      "\n"
     ]
    },
    {
     "name": "stderr",
     "output_type": "stream",
     "text": [
      "chunk:   1%|▏         | 1/67 [14:55<16:25:23, 895.80s/it, now=None]"
     ]
    },
    {
     "name": "stdout",
     "output_type": "stream",
     "text": [
      "MoviePy - Done !\n",
      "MoviePy - video ready Non_Behaviour_clips\\clip_19_59.mp4\n"
     ]
    },
    {
     "name": "stderr",
     "output_type": "stream",
     "text": [
      "chunk:   1%|▏         | 1/67 [14:56<16:25:53, 896.27s/it, now=None]"
     ]
    },
    {
     "name": "stdout",
     "output_type": "stream",
     "text": [
      "MoviePy - Building video Non_Behaviour_clips\\clip_20_1.mp4.\n",
      "MoviePy - Writing audio in clip_20_1TEMP_MPY_wvf_snd.mp3\n"
     ]
    },
    {
     "name": "stderr",
     "output_type": "stream",
     "text": [
      "chunk:   1%|▏         | 1/67 [14:56<16:26:06, 896.47s/it, now=None]"
     ]
    },
    {
     "name": "stdout",
     "output_type": "stream",
     "text": [
      "MoviePy - Done.\n",
      "MoviePy - Writing video Non_Behaviour_clips\\clip_20_1.mp4\n",
      "\n"
     ]
    },
    {
     "name": "stderr",
     "output_type": "stream",
     "text": [
      "chunk:   1%|▏         | 1/67 [14:56<16:26:25, 896.75s/it, now=None]"
     ]
    },
    {
     "name": "stdout",
     "output_type": "stream",
     "text": [
      "MoviePy - Done !\n",
      "MoviePy - video ready Non_Behaviour_clips\\clip_20_1.mp4\n",
      "MoviePy - Building video Non_Behaviour_clips\\clip_20_2.mp4.\n",
      "MoviePy - Writing audio in clip_20_2TEMP_MPY_wvf_snd.mp3\n"
     ]
    },
    {
     "name": "stderr",
     "output_type": "stream",
     "text": [
      "chunk:   1%|▏         | 1/67 [14:56<16:26:38, 896.95s/it, now=None]"
     ]
    },
    {
     "name": "stdout",
     "output_type": "stream",
     "text": [
      "MoviePy - Done.\n",
      "MoviePy - Writing video Non_Behaviour_clips\\clip_20_2.mp4\n",
      "\n"
     ]
    },
    {
     "name": "stderr",
     "output_type": "stream",
     "text": [
      "chunk:   1%|▏         | 1/67 [14:57<16:26:59, 897.26s/it, now=None]"
     ]
    },
    {
     "name": "stdout",
     "output_type": "stream",
     "text": [
      "MoviePy - Done !\n",
      "MoviePy - video ready Non_Behaviour_clips\\clip_20_2.mp4\n",
      "MoviePy - Building video Non_Behaviour_clips\\clip_20_3.mp4.\n",
      "MoviePy - Writing audio in clip_20_3TEMP_MPY_wvf_snd.mp3\n"
     ]
    },
    {
     "name": "stderr",
     "output_type": "stream",
     "text": [
      "chunk:   1%|▏         | 1/67 [14:57<16:27:12, 897.47s/it, now=None]"
     ]
    },
    {
     "name": "stdout",
     "output_type": "stream",
     "text": [
      "MoviePy - Done.\n",
      "MoviePy - Writing video Non_Behaviour_clips\\clip_20_3.mp4\n",
      "\n"
     ]
    },
    {
     "name": "stderr",
     "output_type": "stream",
     "text": [
      "chunk:   1%|▏         | 1/67 [14:57<16:27:33, 897.78s/it, now=None]"
     ]
    },
    {
     "name": "stdout",
     "output_type": "stream",
     "text": [
      "MoviePy - Done !\n",
      "MoviePy - video ready Non_Behaviour_clips\\clip_20_3.mp4\n",
      "MoviePy - Building video Non_Behaviour_clips\\clip_20_4.mp4.\n",
      "MoviePy - Writing audio in clip_20_4TEMP_MPY_wvf_snd.mp3\n"
     ]
    },
    {
     "name": "stderr",
     "output_type": "stream",
     "text": [
      "chunk:   1%|▏         | 1/67 [14:57<16:27:47, 897.99s/it, now=None]"
     ]
    },
    {
     "name": "stdout",
     "output_type": "stream",
     "text": [
      "MoviePy - Done.\n",
      "MoviePy - Writing video Non_Behaviour_clips\\clip_20_4.mp4\n",
      "\n"
     ]
    },
    {
     "name": "stderr",
     "output_type": "stream",
     "text": [
      "chunk:   1%|▏         | 1/67 [14:58<16:28:09, 898.32s/it, now=None]"
     ]
    },
    {
     "name": "stdout",
     "output_type": "stream",
     "text": [
      "MoviePy - Done !\n",
      "MoviePy - video ready Non_Behaviour_clips\\clip_20_4.mp4\n",
      "MoviePy - Building video Non_Behaviour_clips\\clip_20_5.mp4.\n",
      "MoviePy - Writing audio in clip_20_5TEMP_MPY_wvf_snd.mp3\n"
     ]
    },
    {
     "name": "stderr",
     "output_type": "stream",
     "text": [
      "chunk:   1%|▏         | 1/67 [14:58<16:28:23, 898.53s/it, now=None]"
     ]
    },
    {
     "name": "stdout",
     "output_type": "stream",
     "text": [
      "MoviePy - Done.\n",
      "MoviePy - Writing video Non_Behaviour_clips\\clip_20_5.mp4\n",
      "\n"
     ]
    },
    {
     "name": "stderr",
     "output_type": "stream",
     "text": [
      "chunk:   1%|▏         | 1/67 [14:58<16:28:45, 898.87s/it, now=None]"
     ]
    },
    {
     "name": "stdout",
     "output_type": "stream",
     "text": [
      "MoviePy - Done !\n",
      "MoviePy - video ready Non_Behaviour_clips\\clip_20_5.mp4\n",
      "MoviePy - Building video Non_Behaviour_clips\\clip_20_6.mp4.\n",
      "MoviePy - Writing audio in clip_20_6TEMP_MPY_wvf_snd.mp3\n"
     ]
    },
    {
     "name": "stderr",
     "output_type": "stream",
     "text": [
      "chunk:   1%|▏         | 1/67 [14:59<16:28:58, 899.07s/it, now=None]"
     ]
    },
    {
     "name": "stdout",
     "output_type": "stream",
     "text": [
      "MoviePy - Done.\n",
      "MoviePy - Writing video Non_Behaviour_clips\\clip_20_6.mp4\n",
      "\n"
     ]
    },
    {
     "name": "stderr",
     "output_type": "stream",
     "text": [
      "chunk:   1%|▏         | 1/67 [14:59<16:29:22, 899.43s/it, now=None]"
     ]
    },
    {
     "name": "stdout",
     "output_type": "stream",
     "text": [
      "MoviePy - Done !\n",
      "MoviePy - video ready Non_Behaviour_clips\\clip_20_6.mp4\n",
      "MoviePy - Building video Non_Behaviour_clips\\clip_20_7.mp4.\n",
      "MoviePy - Writing audio in clip_20_7TEMP_MPY_wvf_snd.mp3\n"
     ]
    },
    {
     "name": "stderr",
     "output_type": "stream",
     "text": [
      "chunk:   1%|▏         | 1/67 [14:59<16:29:35, 899.63s/it, now=None]"
     ]
    },
    {
     "name": "stdout",
     "output_type": "stream",
     "text": [
      "MoviePy - Done.\n",
      "MoviePy - Writing video Non_Behaviour_clips\\clip_20_7.mp4\n",
      "\n"
     ]
    },
    {
     "name": "stderr",
     "output_type": "stream",
     "text": [
      "chunk:   1%|▏         | 1/67 [14:59<16:29:53, 899.90s/it, now=None]"
     ]
    },
    {
     "name": "stdout",
     "output_type": "stream",
     "text": [
      "MoviePy - Done !\n",
      "MoviePy - video ready Non_Behaviour_clips\\clip_20_7.mp4\n",
      "MoviePy - Building video Non_Behaviour_clips\\clip_20_8.mp4.\n",
      "MoviePy - Writing audio in clip_20_8TEMP_MPY_wvf_snd.mp3\n"
     ]
    },
    {
     "name": "stderr",
     "output_type": "stream",
     "text": [
      "chunk:   1%|▏         | 1/67 [15:00<16:30:07, 900.11s/it, now=None]"
     ]
    },
    {
     "name": "stdout",
     "output_type": "stream",
     "text": [
      "MoviePy - Done.\n",
      "MoviePy - Writing video Non_Behaviour_clips\\clip_20_8.mp4\n",
      "\n"
     ]
    },
    {
     "name": "stderr",
     "output_type": "stream",
     "text": [
      "chunk:   1%|▏         | 1/67 [15:00<16:30:25, 900.39s/it, now=None]"
     ]
    },
    {
     "name": "stdout",
     "output_type": "stream",
     "text": [
      "MoviePy - Done !\n",
      "MoviePy - video ready Non_Behaviour_clips\\clip_20_8.mp4\n",
      "MoviePy - Building video Non_Behaviour_clips\\clip_20_9.mp4.\n",
      "MoviePy - Writing audio in clip_20_9TEMP_MPY_wvf_snd.mp3\n"
     ]
    },
    {
     "name": "stderr",
     "output_type": "stream",
     "text": [
      "chunk:   1%|▏         | 1/67 [15:00<16:30:39, 900.60s/it, now=None]"
     ]
    },
    {
     "name": "stdout",
     "output_type": "stream",
     "text": [
      "MoviePy - Done.\n",
      "MoviePy - Writing video Non_Behaviour_clips\\clip_20_9.mp4\n",
      "\n"
     ]
    },
    {
     "name": "stderr",
     "output_type": "stream",
     "text": [
      "chunk:   1%|▏         | 1/67 [15:00<16:30:58, 900.88s/it, now=None]"
     ]
    },
    {
     "name": "stdout",
     "output_type": "stream",
     "text": [
      "MoviePy - Done !\n",
      "MoviePy - video ready Non_Behaviour_clips\\clip_20_9.mp4\n",
      "MoviePy - Building video Non_Behaviour_clips\\clip_20_10.mp4.\n",
      "MoviePy - Writing audio in clip_20_10TEMP_MPY_wvf_snd.mp3\n"
     ]
    },
    {
     "name": "stderr",
     "output_type": "stream",
     "text": [
      "chunk:   1%|▏         | 1/67 [15:01<16:31:12, 901.09s/it, now=None]"
     ]
    },
    {
     "name": "stdout",
     "output_type": "stream",
     "text": [
      "MoviePy - Done.\n",
      "MoviePy - Writing video Non_Behaviour_clips\\clip_20_10.mp4\n",
      "\n"
     ]
    },
    {
     "name": "stderr",
     "output_type": "stream",
     "text": [
      "chunk:   1%|▏         | 1/67 [15:01<16:31:32, 901.40s/it, now=None]"
     ]
    },
    {
     "name": "stdout",
     "output_type": "stream",
     "text": [
      "MoviePy - Done !\n",
      "MoviePy - video ready Non_Behaviour_clips\\clip_20_10.mp4\n",
      "MoviePy - Building video Non_Behaviour_clips\\clip_20_11.mp4.\n",
      "MoviePy - Writing audio in clip_20_11TEMP_MPY_wvf_snd.mp3\n"
     ]
    },
    {
     "name": "stderr",
     "output_type": "stream",
     "text": [
      "chunk:   1%|▏         | 1/67 [15:01<16:31:45, 901.60s/it, now=None]"
     ]
    },
    {
     "name": "stdout",
     "output_type": "stream",
     "text": [
      "MoviePy - Done.\n",
      "MoviePy - Writing video Non_Behaviour_clips\\clip_20_11.mp4\n",
      "\n"
     ]
    },
    {
     "name": "stderr",
     "output_type": "stream",
     "text": [
      "chunk:   1%|▏         | 1/67 [15:01<16:32:08, 901.94s/it, now=None]"
     ]
    },
    {
     "name": "stdout",
     "output_type": "stream",
     "text": [
      "MoviePy - Done !\n",
      "MoviePy - video ready Non_Behaviour_clips\\clip_20_11.mp4\n",
      "MoviePy - Building video Non_Behaviour_clips\\clip_20_12.mp4.\n",
      "MoviePy - Writing audio in clip_20_12TEMP_MPY_wvf_snd.mp3\n"
     ]
    },
    {
     "name": "stderr",
     "output_type": "stream",
     "text": [
      "chunk:   1%|▏         | 1/67 [15:02<16:32:22, 902.15s/it, now=None]"
     ]
    },
    {
     "name": "stdout",
     "output_type": "stream",
     "text": [
      "MoviePy - Done.\n",
      "MoviePy - Writing video Non_Behaviour_clips\\clip_20_12.mp4\n",
      "\n"
     ]
    },
    {
     "name": "stderr",
     "output_type": "stream",
     "text": [
      "chunk:   1%|▏         | 1/67 [15:02<16:32:41, 902.44s/it, now=None]"
     ]
    },
    {
     "name": "stdout",
     "output_type": "stream",
     "text": [
      "MoviePy - Done !\n",
      "MoviePy - video ready Non_Behaviour_clips\\clip_20_12.mp4\n",
      "MoviePy - Building video Non_Behaviour_clips\\clip_20_13.mp4.\n",
      "MoviePy - Writing audio in clip_20_13TEMP_MPY_wvf_snd.mp3\n"
     ]
    },
    {
     "name": "stderr",
     "output_type": "stream",
     "text": [
      "chunk:   1%|▏         | 1/67 [15:02<16:32:55, 902.66s/it, now=None]"
     ]
    },
    {
     "name": "stdout",
     "output_type": "stream",
     "text": [
      "MoviePy - Done.\n",
      "MoviePy - Writing video Non_Behaviour_clips\\clip_20_13.mp4\n",
      "\n"
     ]
    },
    {
     "name": "stderr",
     "output_type": "stream",
     "text": [
      "chunk:   1%|▏         | 1/67 [15:02<16:33:16, 902.97s/it, now=None]"
     ]
    },
    {
     "name": "stdout",
     "output_type": "stream",
     "text": [
      "MoviePy - Done !\n",
      "MoviePy - video ready Non_Behaviour_clips\\clip_20_13.mp4\n",
      "MoviePy - Building video Non_Behaviour_clips\\clip_20_14.mp4.\n",
      "MoviePy - Writing audio in clip_20_14TEMP_MPY_wvf_snd.mp3\n"
     ]
    },
    {
     "name": "stderr",
     "output_type": "stream",
     "text": [
      "chunk:   1%|▏         | 1/67 [15:03<16:33:30, 903.20s/it, now=None]"
     ]
    },
    {
     "name": "stdout",
     "output_type": "stream",
     "text": [
      "MoviePy - Done.\n",
      "MoviePy - Writing video Non_Behaviour_clips\\clip_20_14.mp4\n",
      "\n"
     ]
    },
    {
     "name": "stderr",
     "output_type": "stream",
     "text": [
      "chunk:   1%|▏         | 1/67 [15:03<16:33:52, 903.52s/it, now=None]"
     ]
    },
    {
     "name": "stdout",
     "output_type": "stream",
     "text": [
      "MoviePy - Done !\n",
      "MoviePy - video ready Non_Behaviour_clips\\clip_20_14.mp4\n",
      "MoviePy - Building video Non_Behaviour_clips\\clip_20_15.mp4.\n",
      "MoviePy - Writing audio in clip_20_15TEMP_MPY_wvf_snd.mp3\n"
     ]
    },
    {
     "name": "stderr",
     "output_type": "stream",
     "text": [
      "chunk:   1%|▏         | 1/67 [15:03<16:34:05, 903.72s/it, now=None]"
     ]
    },
    {
     "name": "stdout",
     "output_type": "stream",
     "text": [
      "MoviePy - Done.\n",
      "MoviePy - Writing video Non_Behaviour_clips\\clip_20_15.mp4\n",
      "\n"
     ]
    },
    {
     "name": "stderr",
     "output_type": "stream",
     "text": [
      "chunk:   1%|▏         | 1/67 [15:04<16:34:26, 904.04s/it, now=None]"
     ]
    },
    {
     "name": "stdout",
     "output_type": "stream",
     "text": [
      "MoviePy - Done !\n",
      "MoviePy - video ready Non_Behaviour_clips\\clip_20_15.mp4\n",
      "MoviePy - Building video Non_Behaviour_clips\\clip_20_16.mp4.\n",
      "MoviePy - Writing audio in clip_20_16TEMP_MPY_wvf_snd.mp3\n"
     ]
    },
    {
     "name": "stderr",
     "output_type": "stream",
     "text": [
      "chunk:   1%|▏         | 1/67 [15:04<16:34:41, 904.26s/it, now=None]"
     ]
    },
    {
     "name": "stdout",
     "output_type": "stream",
     "text": [
      "MoviePy - Done.\n",
      "MoviePy - Writing video Non_Behaviour_clips\\clip_20_16.mp4\n",
      "\n"
     ]
    },
    {
     "name": "stderr",
     "output_type": "stream",
     "text": [
      "chunk:   1%|▏         | 1/67 [15:04<16:35:00, 904.55s/it, now=None]"
     ]
    },
    {
     "name": "stdout",
     "output_type": "stream",
     "text": [
      "MoviePy - Done !\n",
      "MoviePy - video ready Non_Behaviour_clips\\clip_20_16.mp4\n",
      "MoviePy - Building video Non_Behaviour_clips\\clip_20_17.mp4.\n",
      "MoviePy - Writing audio in clip_20_17TEMP_MPY_wvf_snd.mp3\n"
     ]
    },
    {
     "name": "stderr",
     "output_type": "stream",
     "text": [
      "chunk:   1%|▏         | 1/67 [15:04<16:35:15, 904.77s/it, now=None]"
     ]
    },
    {
     "name": "stdout",
     "output_type": "stream",
     "text": [
      "MoviePy - Done.\n",
      "MoviePy - Writing video Non_Behaviour_clips\\clip_20_17.mp4\n",
      "\n"
     ]
    },
    {
     "name": "stderr",
     "output_type": "stream",
     "text": [
      "chunk:   1%|▏         | 1/67 [15:05<16:35:33, 905.06s/it, now=None]"
     ]
    },
    {
     "name": "stdout",
     "output_type": "stream",
     "text": [
      "MoviePy - Done !\n",
      "MoviePy - video ready Non_Behaviour_clips\\clip_20_17.mp4\n",
      "MoviePy - Building video Non_Behaviour_clips\\clip_20_18.mp4.\n",
      "MoviePy - Writing audio in clip_20_18TEMP_MPY_wvf_snd.mp3\n"
     ]
    },
    {
     "name": "stderr",
     "output_type": "stream",
     "text": [
      "chunk:   1%|▏         | 1/67 [15:05<16:35:47, 905.26s/it, now=None]"
     ]
    },
    {
     "name": "stdout",
     "output_type": "stream",
     "text": [
      "MoviePy - Done.\n",
      "MoviePy - Writing video Non_Behaviour_clips\\clip_20_18.mp4\n",
      "\n"
     ]
    },
    {
     "name": "stderr",
     "output_type": "stream",
     "text": [
      "chunk:   1%|▏         | 1/67 [15:05<16:36:06, 905.55s/it, now=None]"
     ]
    },
    {
     "name": "stdout",
     "output_type": "stream",
     "text": [
      "MoviePy - Done !\n",
      "MoviePy - video ready Non_Behaviour_clips\\clip_20_18.mp4\n",
      "MoviePy - Building video Non_Behaviour_clips\\clip_20_19.mp4.\n",
      "MoviePy - Writing audio in clip_20_19TEMP_MPY_wvf_snd.mp3\n"
     ]
    },
    {
     "name": "stderr",
     "output_type": "stream",
     "text": [
      "chunk:   1%|▏         | 1/67 [15:05<16:36:20, 905.76s/it, now=None]"
     ]
    },
    {
     "name": "stdout",
     "output_type": "stream",
     "text": [
      "MoviePy - Done.\n",
      "MoviePy - Writing video Non_Behaviour_clips\\clip_20_19.mp4\n",
      "\n"
     ]
    },
    {
     "name": "stderr",
     "output_type": "stream",
     "text": [
      "chunk:   1%|▏         | 1/67 [15:06<16:36:41, 906.08s/it, now=None]"
     ]
    },
    {
     "name": "stdout",
     "output_type": "stream",
     "text": [
      "MoviePy - Done !\n",
      "MoviePy - video ready Non_Behaviour_clips\\clip_20_19.mp4\n",
      "MoviePy - Building video Non_Behaviour_clips\\clip_20_20.mp4.\n",
      "MoviePy - Writing audio in clip_20_20TEMP_MPY_wvf_snd.mp3\n"
     ]
    },
    {
     "name": "stderr",
     "output_type": "stream",
     "text": [
      "chunk:   1%|▏         | 1/67 [15:06<16:36:55, 906.29s/it, now=None]"
     ]
    },
    {
     "name": "stdout",
     "output_type": "stream",
     "text": [
      "MoviePy - Done.\n",
      "MoviePy - Writing video Non_Behaviour_clips\\clip_20_20.mp4\n",
      "\n"
     ]
    },
    {
     "name": "stderr",
     "output_type": "stream",
     "text": [
      "chunk:   1%|▏         | 1/67 [15:06<16:37:14, 906.59s/it, now=None]"
     ]
    },
    {
     "name": "stdout",
     "output_type": "stream",
     "text": [
      "MoviePy - Done !\n",
      "MoviePy - video ready Non_Behaviour_clips\\clip_20_20.mp4\n",
      "MoviePy - Building video Non_Behaviour_clips\\clip_20_21.mp4.\n",
      "MoviePy - Writing audio in clip_20_21TEMP_MPY_wvf_snd.mp3\n"
     ]
    },
    {
     "name": "stderr",
     "output_type": "stream",
     "text": [
      "chunk:   1%|▏         | 1/67 [15:06<16:37:28, 906.79s/it, now=None]"
     ]
    },
    {
     "name": "stdout",
     "output_type": "stream",
     "text": [
      "MoviePy - Done.\n",
      "MoviePy - Writing video Non_Behaviour_clips\\clip_20_21.mp4\n",
      "\n"
     ]
    },
    {
     "name": "stderr",
     "output_type": "stream",
     "text": [
      "chunk:   1%|▏         | 1/67 [15:07<16:37:46, 907.07s/it, now=None]"
     ]
    },
    {
     "name": "stdout",
     "output_type": "stream",
     "text": [
      "MoviePy - Done !\n",
      "MoviePy - video ready Non_Behaviour_clips\\clip_20_21.mp4\n",
      "MoviePy - Building video Non_Behaviour_clips\\clip_20_22.mp4.\n",
      "MoviePy - Writing audio in clip_20_22TEMP_MPY_wvf_snd.mp3\n"
     ]
    },
    {
     "name": "stderr",
     "output_type": "stream",
     "text": [
      "chunk:   1%|▏         | 1/67 [15:07<16:38:00, 907.29s/it, now=None]"
     ]
    },
    {
     "name": "stdout",
     "output_type": "stream",
     "text": [
      "MoviePy - Done.\n",
      "MoviePy - Writing video Non_Behaviour_clips\\clip_20_22.mp4\n",
      "\n"
     ]
    },
    {
     "name": "stderr",
     "output_type": "stream",
     "text": [
      "chunk:   1%|▏         | 1/67 [15:07<16:38:19, 907.57s/it, now=None]"
     ]
    },
    {
     "name": "stdout",
     "output_type": "stream",
     "text": [
      "MoviePy - Done !\n",
      "MoviePy - video ready Non_Behaviour_clips\\clip_20_22.mp4\n",
      "MoviePy - Building video Non_Behaviour_clips\\clip_20_23.mp4.\n",
      "MoviePy - Writing audio in clip_20_23TEMP_MPY_wvf_snd.mp3\n"
     ]
    },
    {
     "name": "stderr",
     "output_type": "stream",
     "text": [
      "chunk:   1%|▏         | 1/67 [15:07<16:38:34, 907.80s/it, now=None]"
     ]
    },
    {
     "name": "stdout",
     "output_type": "stream",
     "text": [
      "MoviePy - Done.\n",
      "MoviePy - Writing video Non_Behaviour_clips\\clip_20_23.mp4\n",
      "\n"
     ]
    },
    {
     "name": "stderr",
     "output_type": "stream",
     "text": [
      "chunk:   1%|▏         | 1/67 [15:08<16:38:53, 908.08s/it, now=None]"
     ]
    },
    {
     "name": "stdout",
     "output_type": "stream",
     "text": [
      "MoviePy - Done !\n",
      "MoviePy - video ready Non_Behaviour_clips\\clip_20_23.mp4\n",
      "MoviePy - Building video Non_Behaviour_clips\\clip_20_24.mp4.\n",
      "MoviePy - Writing audio in clip_20_24TEMP_MPY_wvf_snd.mp3\n"
     ]
    },
    {
     "name": "stderr",
     "output_type": "stream",
     "text": [
      "chunk:   1%|▏         | 1/67 [15:08<16:39:07, 908.29s/it, now=None]"
     ]
    },
    {
     "name": "stdout",
     "output_type": "stream",
     "text": [
      "MoviePy - Done.\n",
      "MoviePy - Writing video Non_Behaviour_clips\\clip_20_24.mp4\n",
      "\n"
     ]
    },
    {
     "name": "stderr",
     "output_type": "stream",
     "text": [
      "chunk:   1%|▏         | 1/67 [15:08<16:39:28, 908.61s/it, now=None]"
     ]
    },
    {
     "name": "stdout",
     "output_type": "stream",
     "text": [
      "MoviePy - Done !\n",
      "MoviePy - video ready Non_Behaviour_clips\\clip_20_24.mp4\n",
      "MoviePy - Building video Non_Behaviour_clips\\clip_20_25.mp4.\n",
      "MoviePy - Writing audio in clip_20_25TEMP_MPY_wvf_snd.mp3\n"
     ]
    },
    {
     "name": "stderr",
     "output_type": "stream",
     "text": [
      "chunk:   1%|▏         | 1/67 [15:08<16:39:41, 908.82s/it, now=None]"
     ]
    },
    {
     "name": "stdout",
     "output_type": "stream",
     "text": [
      "MoviePy - Done.\n",
      "MoviePy - Writing video Non_Behaviour_clips\\clip_20_25.mp4\n",
      "\n"
     ]
    },
    {
     "name": "stderr",
     "output_type": "stream",
     "text": [
      "chunk:   1%|▏         | 1/67 [15:09<16:40:01, 909.11s/it, now=None]"
     ]
    },
    {
     "name": "stdout",
     "output_type": "stream",
     "text": [
      "MoviePy - Done !\n",
      "MoviePy - video ready Non_Behaviour_clips\\clip_20_25.mp4\n",
      "MoviePy - Building video Non_Behaviour_clips\\clip_20_26.mp4.\n",
      "MoviePy - Writing audio in clip_20_26TEMP_MPY_wvf_snd.mp3\n"
     ]
    },
    {
     "name": "stderr",
     "output_type": "stream",
     "text": [
      "chunk:   1%|▏         | 1/67 [15:09<16:40:16, 909.34s/it, now=None]"
     ]
    },
    {
     "name": "stdout",
     "output_type": "stream",
     "text": [
      "MoviePy - Done.\n",
      "MoviePy - Writing video Non_Behaviour_clips\\clip_20_26.mp4\n",
      "\n"
     ]
    },
    {
     "name": "stderr",
     "output_type": "stream",
     "text": [
      "chunk:   1%|▏         | 1/67 [15:09<16:40:35, 909.63s/it, now=None]"
     ]
    },
    {
     "name": "stdout",
     "output_type": "stream",
     "text": [
      "MoviePy - Done !\n",
      "MoviePy - video ready Non_Behaviour_clips\\clip_20_26.mp4\n",
      "MoviePy - Building video Non_Behaviour_clips\\clip_20_27.mp4.\n",
      "MoviePy - Writing audio in clip_20_27TEMP_MPY_wvf_snd.mp3\n"
     ]
    },
    {
     "name": "stderr",
     "output_type": "stream",
     "text": [
      "chunk:   1%|▏         | 1/67 [15:09<16:40:49, 909.84s/it, now=None]"
     ]
    },
    {
     "name": "stdout",
     "output_type": "stream",
     "text": [
      "MoviePy - Done.\n",
      "MoviePy - Writing video Non_Behaviour_clips\\clip_20_27.mp4\n",
      "\n"
     ]
    },
    {
     "name": "stderr",
     "output_type": "stream",
     "text": [
      "chunk:   1%|▏         | 1/67 [15:10<16:41:09, 910.14s/it, now=None]"
     ]
    },
    {
     "name": "stdout",
     "output_type": "stream",
     "text": [
      "MoviePy - Done !\n",
      "MoviePy - video ready Non_Behaviour_clips\\clip_20_27.mp4\n",
      "MoviePy - Building video Non_Behaviour_clips\\clip_20_28.mp4.\n",
      "MoviePy - Writing audio in clip_20_28TEMP_MPY_wvf_snd.mp3\n"
     ]
    },
    {
     "name": "stderr",
     "output_type": "stream",
     "text": [
      "chunk:   1%|▏         | 1/67 [15:10<16:41:21, 910.33s/it, now=None]"
     ]
    },
    {
     "name": "stdout",
     "output_type": "stream",
     "text": [
      "MoviePy - Done.\n",
      "MoviePy - Writing video Non_Behaviour_clips\\clip_20_28.mp4\n",
      "\n"
     ]
    },
    {
     "name": "stderr",
     "output_type": "stream",
     "text": [
      "chunk:   1%|▏         | 1/67 [15:10<16:41:41, 910.64s/it, now=None]"
     ]
    },
    {
     "name": "stdout",
     "output_type": "stream",
     "text": [
      "MoviePy - Done !\n",
      "MoviePy - video ready Non_Behaviour_clips\\clip_20_28.mp4\n",
      "MoviePy - Building video Non_Behaviour_clips\\clip_20_29.mp4.\n",
      "MoviePy - Writing audio in clip_20_29TEMP_MPY_wvf_snd.mp3\n"
     ]
    },
    {
     "name": "stderr",
     "output_type": "stream",
     "text": [
      "chunk:   1%|▏         | 1/67 [15:10<16:42:02, 910.95s/it, now=None]"
     ]
    },
    {
     "name": "stdout",
     "output_type": "stream",
     "text": [
      "MoviePy - Done.\n",
      "MoviePy - Writing video Non_Behaviour_clips\\clip_20_29.mp4\n",
      "\n"
     ]
    },
    {
     "name": "stderr",
     "output_type": "stream",
     "text": [
      "chunk:   1%|▏         | 1/67 [15:11<16:42:22, 911.25s/it, now=None]"
     ]
    },
    {
     "name": "stdout",
     "output_type": "stream",
     "text": [
      "MoviePy - Done !\n",
      "MoviePy - video ready Non_Behaviour_clips\\clip_20_29.mp4\n",
      "MoviePy - Building video Non_Behaviour_clips\\clip_20_30.mp4.\n",
      "MoviePy - Writing audio in clip_20_30TEMP_MPY_wvf_snd.mp3\n"
     ]
    },
    {
     "name": "stderr",
     "output_type": "stream",
     "text": [
      "chunk:   1%|▏         | 1/67 [15:11<16:42:37, 911.48s/it, now=None]"
     ]
    },
    {
     "name": "stdout",
     "output_type": "stream",
     "text": [
      "MoviePy - Done.\n",
      "MoviePy - Writing video Non_Behaviour_clips\\clip_20_30.mp4\n",
      "\n"
     ]
    },
    {
     "name": "stderr",
     "output_type": "stream",
     "text": [
      "chunk:   1%|▏         | 1/67 [15:11<16:42:56, 911.77s/it, now=None]"
     ]
    },
    {
     "name": "stdout",
     "output_type": "stream",
     "text": [
      "MoviePy - Done !\n",
      "MoviePy - video ready Non_Behaviour_clips\\clip_20_30.mp4\n",
      "MoviePy - Building video Non_Behaviour_clips\\clip_20_31.mp4.\n",
      "MoviePy - Writing audio in clip_20_31TEMP_MPY_wvf_snd.mp3\n"
     ]
    },
    {
     "name": "stderr",
     "output_type": "stream",
     "text": [
      "chunk:   1%|▏         | 1/67 [15:11<16:43:09, 911.97s/it, now=None]"
     ]
    },
    {
     "name": "stdout",
     "output_type": "stream",
     "text": [
      "MoviePy - Done.\n",
      "MoviePy - Writing video Non_Behaviour_clips\\clip_20_31.mp4\n",
      "\n"
     ]
    },
    {
     "name": "stderr",
     "output_type": "stream",
     "text": [
      "chunk:   1%|▏         | 1/67 [15:12<16:43:27, 912.24s/it, now=None]"
     ]
    },
    {
     "name": "stdout",
     "output_type": "stream",
     "text": [
      "MoviePy - Done !\n",
      "MoviePy - video ready Non_Behaviour_clips\\clip_20_31.mp4\n",
      "MoviePy - Building video Non_Behaviour_clips\\clip_20_32.mp4.\n",
      "MoviePy - Writing audio in clip_20_32TEMP_MPY_wvf_snd.mp3\n"
     ]
    },
    {
     "name": "stderr",
     "output_type": "stream",
     "text": [
      "chunk:   1%|▏         | 1/67 [15:12<16:43:39, 912.41s/it, now=None]"
     ]
    },
    {
     "name": "stdout",
     "output_type": "stream",
     "text": [
      "MoviePy - Done.\n",
      "MoviePy - Writing video Non_Behaviour_clips\\clip_20_32.mp4\n",
      "\n"
     ]
    },
    {
     "name": "stderr",
     "output_type": "stream",
     "text": [
      "chunk:   1%|▏         | 1/67 [15:12<16:43:53, 912.62s/it, now=None]"
     ]
    },
    {
     "name": "stdout",
     "output_type": "stream",
     "text": [
      "MoviePy - Done !\n",
      "MoviePy - video ready Non_Behaviour_clips\\clip_20_32.mp4\n"
     ]
    },
    {
     "name": "stderr",
     "output_type": "stream",
     "text": [
      "chunk:   1%|▏         | 1/67 [15:13<16:44:25, 913.11s/it, now=None]"
     ]
    },
    {
     "name": "stdout",
     "output_type": "stream",
     "text": [
      "MoviePy - Building video Non_Behaviour_clips\\clip_21_1.mp4.\n",
      "MoviePy - Writing audio in clip_21_1TEMP_MPY_wvf_snd.mp3\n"
     ]
    },
    {
     "name": "stderr",
     "output_type": "stream",
     "text": [
      "chunk:   1%|▏         | 1/67 [15:13<16:44:37, 913.30s/it, now=None]"
     ]
    },
    {
     "name": "stdout",
     "output_type": "stream",
     "text": [
      "MoviePy - Done.\n",
      "MoviePy - Writing video Non_Behaviour_clips\\clip_21_1.mp4\n",
      "\n"
     ]
    },
    {
     "name": "stderr",
     "output_type": "stream",
     "text": [
      "chunk:   1%|▏         | 1/67 [15:13<16:45:12, 913.82s/it, now=None]"
     ]
    },
    {
     "name": "stdout",
     "output_type": "stream",
     "text": [
      "MoviePy - Done !\n",
      "MoviePy - video ready Non_Behaviour_clips\\clip_21_1.mp4\n",
      "MoviePy - Building video Non_Behaviour_clips\\clip_21_2.mp4.\n",
      "MoviePy - Writing audio in clip_21_2TEMP_MPY_wvf_snd.mp3\n"
     ]
    },
    {
     "name": "stderr",
     "output_type": "stream",
     "text": [
      "chunk:   1%|▏         | 1/67 [15:14<16:45:25, 914.02s/it, now=None]"
     ]
    },
    {
     "name": "stdout",
     "output_type": "stream",
     "text": [
      "MoviePy - Done.\n",
      "MoviePy - Writing video Non_Behaviour_clips\\clip_21_2.mp4\n",
      "\n"
     ]
    },
    {
     "name": "stderr",
     "output_type": "stream",
     "text": [
      "chunk:   1%|▏         | 1/67 [15:14<16:45:57, 914.50s/it, now=None]"
     ]
    },
    {
     "name": "stdout",
     "output_type": "stream",
     "text": [
      "MoviePy - Done !\n",
      "MoviePy - video ready Non_Behaviour_clips\\clip_21_2.mp4\n",
      "MoviePy - Building video Non_Behaviour_clips\\clip_21_3.mp4.\n",
      "MoviePy - Writing audio in clip_21_3TEMP_MPY_wvf_snd.mp3\n"
     ]
    },
    {
     "name": "stderr",
     "output_type": "stream",
     "text": [
      "chunk:   1%|▏         | 1/67 [15:14<16:46:09, 914.69s/it, now=None]"
     ]
    },
    {
     "name": "stdout",
     "output_type": "stream",
     "text": [
      "MoviePy - Done.\n",
      "MoviePy - Writing video Non_Behaviour_clips\\clip_21_3.mp4\n",
      "\n"
     ]
    },
    {
     "name": "stderr",
     "output_type": "stream",
     "text": [
      "chunk:   1%|▏         | 1/67 [15:15<16:46:43, 915.20s/it, now=None]"
     ]
    },
    {
     "name": "stdout",
     "output_type": "stream",
     "text": [
      "MoviePy - Done !\n",
      "MoviePy - video ready Non_Behaviour_clips\\clip_21_3.mp4\n",
      "MoviePy - Building video Non_Behaviour_clips\\clip_21_4.mp4.\n",
      "MoviePy - Writing audio in clip_21_4TEMP_MPY_wvf_snd.mp3\n"
     ]
    },
    {
     "name": "stderr",
     "output_type": "stream",
     "text": [
      "chunk:   1%|▏         | 1/67 [15:15<16:46:55, 915.39s/it, now=None]"
     ]
    },
    {
     "name": "stdout",
     "output_type": "stream",
     "text": [
      "MoviePy - Done.\n",
      "MoviePy - Writing video Non_Behaviour_clips\\clip_21_4.mp4\n",
      "\n"
     ]
    },
    {
     "name": "stderr",
     "output_type": "stream",
     "text": [
      "chunk:   1%|▏         | 1/67 [15:15<16:47:28, 915.89s/it, now=None]"
     ]
    },
    {
     "name": "stdout",
     "output_type": "stream",
     "text": [
      "MoviePy - Done !\n",
      "MoviePy - video ready Non_Behaviour_clips\\clip_21_4.mp4\n"
     ]
    },
    {
     "name": "stderr",
     "output_type": "stream",
     "text": [
      "chunk:   1%|▏         | 1/67 [15:16<16:47:59, 916.36s/it, now=None]"
     ]
    },
    {
     "name": "stdout",
     "output_type": "stream",
     "text": [
      "MoviePy - Building video Non_Behaviour_clips\\clip_22_1.mp4.\n",
      "MoviePy - Writing audio in clip_22_1TEMP_MPY_wvf_snd.mp3\n"
     ]
    },
    {
     "name": "stderr",
     "output_type": "stream",
     "text": [
      "chunk:   1%|▏         | 1/67 [15:16<16:48:11, 916.53s/it, now=None]"
     ]
    },
    {
     "name": "stdout",
     "output_type": "stream",
     "text": [
      "MoviePy - Done.\n",
      "MoviePy - Writing video Non_Behaviour_clips\\clip_22_1.mp4\n",
      "\n"
     ]
    },
    {
     "name": "stderr",
     "output_type": "stream",
     "text": [
      "chunk:   1%|▏         | 1/67 [15:16<16:48:29, 916.81s/it, now=None]"
     ]
    },
    {
     "name": "stdout",
     "output_type": "stream",
     "text": [
      "MoviePy - Done !\n",
      "MoviePy - video ready Non_Behaviour_clips\\clip_22_1.mp4\n"
     ]
    },
    {
     "name": "stderr",
     "output_type": "stream",
     "text": [
      "c:\\Users\\manje\\.pyenv\\pyenv-win\\versions\\3.12.5\\Lib\\site-packages\\moviepy\\video\\io\\ffmpeg_reader.py:157: UserWarning: In file 23.mp4 , 3 bytes wanted but 0 bytes read at frame index 0 (out of a total 0 frames), at time 0.00/0.00 sec. Using the last valid frame instead.\n",
      "  warnings.warn(\n"
     ]
    },
    {
     "name": "stdout",
     "output_type": "stream",
     "text": [
      "Error loading video: MoviePy error: failed to read the first frame of video file 23.mp4 . That might mean that the file is corrupted. That may also mean that you are using a deprecated version of FFMPEG. On Ubuntu/Debian for instance the version in the repos is deprecated. Please update to a recent version from the website.\n"
     ]
    },
    {
     "name": "stderr",
     "output_type": "stream",
     "text": [
      "chunk:   1%|▏         | 1/67 [15:17<16:49:15, 917.51s/it, now=None]"
     ]
    },
    {
     "name": "stdout",
     "output_type": "stream",
     "text": [
      "MoviePy - Building video Non_Behaviour_clips\\clip_24_1.mp4.\n",
      "MoviePy - Writing audio in clip_24_1TEMP_MPY_wvf_snd.mp3\n"
     ]
    },
    {
     "name": "stderr",
     "output_type": "stream",
     "text": [
      "chunk:   1%|▏         | 1/67 [15:17<16:49:27, 917.69s/it, now=None]"
     ]
    },
    {
     "name": "stdout",
     "output_type": "stream",
     "text": [
      "MoviePy - Done.\n",
      "MoviePy - Writing video Non_Behaviour_clips\\clip_24_1.mp4\n",
      "\n"
     ]
    },
    {
     "name": "stderr",
     "output_type": "stream",
     "text": [
      "chunk:   1%|▏         | 1/67 [15:18<16:49:58, 918.15s/it, now=None]"
     ]
    },
    {
     "name": "stdout",
     "output_type": "stream",
     "text": [
      "MoviePy - Done !\n",
      "MoviePy - video ready Non_Behaviour_clips\\clip_24_1.mp4\n",
      "MoviePy - Building video Non_Behaviour_clips\\clip_24_2.mp4.\n",
      "MoviePy - Writing audio in clip_24_2TEMP_MPY_wvf_snd.mp3\n"
     ]
    },
    {
     "name": "stderr",
     "output_type": "stream",
     "text": [
      "chunk:   1%|▏         | 1/67 [15:18<16:50:10, 918.34s/it, now=None]"
     ]
    },
    {
     "name": "stdout",
     "output_type": "stream",
     "text": [
      "MoviePy - Done.\n",
      "MoviePy - Writing video Non_Behaviour_clips\\clip_24_2.mp4\n",
      "\n"
     ]
    },
    {
     "name": "stderr",
     "output_type": "stream",
     "text": [
      "chunk:   1%|▏         | 1/67 [15:18<16:50:44, 918.86s/it, now=None]"
     ]
    },
    {
     "name": "stdout",
     "output_type": "stream",
     "text": [
      "MoviePy - Done !\n",
      "MoviePy - video ready Non_Behaviour_clips\\clip_24_2.mp4\n",
      "MoviePy - Building video Non_Behaviour_clips\\clip_24_3.mp4.\n",
      "MoviePy - Writing audio in clip_24_3TEMP_MPY_wvf_snd.mp3\n"
     ]
    },
    {
     "name": "stderr",
     "output_type": "stream",
     "text": [
      "chunk:   1%|▏         | 1/67 [15:19<16:50:58, 919.06s/it, now=None]"
     ]
    },
    {
     "name": "stdout",
     "output_type": "stream",
     "text": [
      "MoviePy - Done.\n",
      "MoviePy - Writing video Non_Behaviour_clips\\clip_24_3.mp4\n",
      "\n"
     ]
    },
    {
     "name": "stderr",
     "output_type": "stream",
     "text": [
      "chunk:   1%|▏         | 1/67 [15:19<16:51:31, 919.57s/it, now=None]"
     ]
    },
    {
     "name": "stdout",
     "output_type": "stream",
     "text": [
      "MoviePy - Done !\n",
      "MoviePy - video ready Non_Behaviour_clips\\clip_24_3.mp4\n",
      "MoviePy - Building video Non_Behaviour_clips\\clip_24_4.mp4.\n",
      "MoviePy - Writing audio in clip_24_4TEMP_MPY_wvf_snd.mp3\n"
     ]
    },
    {
     "name": "stderr",
     "output_type": "stream",
     "text": [
      "chunk:   1%|▏         | 1/67 [15:19<16:51:42, 919.73s/it, now=None]"
     ]
    },
    {
     "name": "stdout",
     "output_type": "stream",
     "text": [
      "MoviePy - Done.\n",
      "MoviePy - Writing video Non_Behaviour_clips\\clip_24_4.mp4\n",
      "\n"
     ]
    },
    {
     "name": "stderr",
     "output_type": "stream",
     "text": [
      "chunk:   1%|▏         | 1/67 [15:20<16:52:01, 920.03s/it, now=None]"
     ]
    },
    {
     "name": "stdout",
     "output_type": "stream",
     "text": [
      "MoviePy - Done !\n",
      "MoviePy - video ready Non_Behaviour_clips\\clip_24_4.mp4\n"
     ]
    },
    {
     "name": "stderr",
     "output_type": "stream",
     "text": [
      "chunk:   1%|▏         | 1/67 [15:20<16:52:33, 920.50s/it, now=None]"
     ]
    },
    {
     "name": "stdout",
     "output_type": "stream",
     "text": [
      "MoviePy - Building video Non_Behaviour_clips\\clip_25_1.mp4.\n",
      "MoviePy - Writing audio in clip_25_1TEMP_MPY_wvf_snd.mp3\n"
     ]
    },
    {
     "name": "stderr",
     "output_type": "stream",
     "text": [
      "chunk:   1%|▏         | 1/67 [15:20<16:52:46, 920.70s/it, now=None]"
     ]
    },
    {
     "name": "stdout",
     "output_type": "stream",
     "text": [
      "MoviePy - Done.\n",
      "MoviePy - Writing video Non_Behaviour_clips\\clip_25_1.mp4\n",
      "\n"
     ]
    },
    {
     "name": "stderr",
     "output_type": "stream",
     "text": [
      "chunk:   1%|▏         | 1/67 [15:21<16:53:25, 921.30s/it, now=None]"
     ]
    },
    {
     "name": "stdout",
     "output_type": "stream",
     "text": [
      "MoviePy - Done !\n",
      "MoviePy - video ready Non_Behaviour_clips\\clip_25_1.mp4\n",
      "MoviePy - Building video Non_Behaviour_clips\\clip_25_2.mp4.\n",
      "MoviePy - Writing audio in clip_25_2TEMP_MPY_wvf_snd.mp3\n"
     ]
    },
    {
     "name": "stderr",
     "output_type": "stream",
     "text": [
      "chunk:   1%|▏         | 1/67 [15:21<16:53:35, 921.45s/it, now=None]"
     ]
    },
    {
     "name": "stdout",
     "output_type": "stream",
     "text": [
      "MoviePy - Done.\n",
      "MoviePy - Writing video Non_Behaviour_clips\\clip_25_2.mp4\n",
      "\n"
     ]
    },
    {
     "name": "stderr",
     "output_type": "stream",
     "text": [
      "chunk:   1%|▏         | 1/67 [15:21<16:53:57, 921.78s/it, now=None]"
     ]
    },
    {
     "name": "stdout",
     "output_type": "stream",
     "text": [
      "MoviePy - Done !\n",
      "MoviePy - video ready Non_Behaviour_clips\\clip_25_2.mp4\n"
     ]
    }
   ],
   "source": [
    "from moviepy import VideoFileClip\n",
    "import os\n",
    "\n",
    "i = 0\n",
    "\n",
    "def time_to_seconds(time_str):\n",
    "    minutes, seconds = map(int, time_str.split(\":\"))\n",
    "    return minutes * 60 + seconds\n",
    "\n",
    "\n",
    "def clip_videos(input_video,output_folder,start_time,end_time,i):\n",
    "    j = 0\n",
    "    os.makedirs(output_folder, exist_ok=True)\n",
    "    try:\n",
    "        videoo = VideoFileClip(input_video)\n",
    "        video = videoo.subclipped(0,start_time)\n",
    "        clip_duration = 3\n",
    "        for start_time in range(0, int(video.duration), clip_duration):\n",
    "            j += 1\n",
    "            end_time = min(start_time + clip_duration, video.duration)  \n",
    "            output_clip_path = os.path.join(\n",
    "                output_folder, f\"clip_{i}_{j}.mp4\"\n",
    "            )\n",
    "            try:\n",
    "                video.subclipped(start_time, end_time).write_videofile(\n",
    "                    output_clip_path, codec=\"libx264\"\n",
    "                )\n",
    "                # print(f\"Clip saved: {output_clip_path}\")\n",
    "            except Exception as e:\n",
    "                print(f\"Error extracting clip from {start_time}s to {end_time}s: {e}\")\n",
    "\n",
    "        # print(\"All clips have been processed.\")\n",
    "    except Exception as e:\n",
    "        print(f\"Error loading video: {e}\")\n",
    "        exit(1)\n",
    "\n",
    "for index, row in df.iterrows():\n",
    "    i += 1\n",
    "    input_video = str(row[\"No\"]) + \".mp4 \"\n",
    "\n",
    "    time_range = row[\"Behaviour Time Instant (mm:ss)\"].split(\" - \")\n",
    "    start_seconds = time_to_seconds(time_range[0])  # Start time in seconds\n",
    "    end_seconds = time_to_seconds(time_range[1])\n",
    "    try:\n",
    "        clip_videos(input_video, \"Non_Behaviour_clips\",start_seconds, end_seconds,i)\n",
    "        # print(f\"Clip successfully extracted to {output_video}\")\n",
    "    except Exception as e:\n",
    "        print(f\"Error extracting clip from {input_video}: {e}\")"
   ]
  }
 ],
 "metadata": {
  "kernelspec": {
   "display_name": "Python 3",
   "language": "python",
   "name": "python3"
  },
  "language_info": {
   "codemirror_mode": {
    "name": "ipython",
    "version": 3
   },
   "file_extension": ".py",
   "mimetype": "text/x-python",
   "name": "python",
   "nbconvert_exporter": "python",
   "pygments_lexer": "ipython3",
   "version": "3.12.5"
  }
 },
 "nbformat": 4,
 "nbformat_minor": 2
}
